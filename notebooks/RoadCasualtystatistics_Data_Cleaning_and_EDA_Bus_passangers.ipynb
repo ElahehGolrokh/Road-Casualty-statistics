{
  "nbformat": 4,
  "nbformat_minor": 0,
  "metadata": {
    "colab": {
      "provenance": []
    },
    "kernelspec": {
      "name": "python3",
      "display_name": "Python 3"
    },
    "language_info": {
      "name": "python"
    }
  },
  "cells": [
    {
      "cell_type": "code",
      "source": [
        "# Author: Elahe Golrokh\n",
        "# Repo: https://github.com/ElahehGolrokh/Road-Casualty-statistics"
      ],
      "metadata": {
        "id": "3VEUq_w7BVPu"
      },
      "execution_count": null,
      "outputs": []
    },
    {
      "cell_type": "markdown",
      "metadata": {
        "id": "ylqbjeyoCb-l"
      },
      "source": [
        "# **Import Libraries**"
      ]
    },
    {
      "cell_type": "code",
      "execution_count": 1,
      "metadata": {
        "id": "klyR_gW1CXpu"
      },
      "outputs": [],
      "source": [
        "import matplotlib.pyplot as plt\n",
        "import numpy as np\n",
        "import warnings\n",
        "warnings.simplefilter(action='ignore', category=FutureWarning)\n",
        "warnings.filterwarnings(\"ignore\")\n",
        "import pandas as pd\n",
        "import seaborn as sns\n"
      ]
    },
    {
      "cell_type": "code",
      "source": [
        "from google.colab import drive\n",
        "drive.mount('/content/drive')"
      ],
      "metadata": {
        "colab": {
          "base_uri": "https://localhost:8080/"
        },
        "id": "OfDPcXnTpITJ",
        "outputId": "54b09c12-0bd4-462f-b68c-478b88642316"
      },
      "execution_count": 2,
      "outputs": [
        {
          "output_type": "stream",
          "name": "stdout",
          "text": [
            "Mounted at /content/drive\n"
          ]
        }
      ]
    },
    {
      "cell_type": "markdown",
      "metadata": {
        "id": "GwNbPVVoDt-a"
      },
      "source": [
        "# **Data Cleaning**"
      ]
    },
    {
      "cell_type": "markdown",
      "metadata": {
        "id": "7zkd-DZGCuoE"
      },
      "source": [
        "## 1. read dataset"
      ]
    },
    {
      "cell_type": "code",
      "source": [
        "data_path = '/content/drive/MyDrive/Exercise/Python_Data_Science_and_Machine_Learning_project1_Dataset.zip'\n",
        "!unzip -q $data_path"
      ],
      "metadata": {
        "id": "uJUjEB3EqJCn"
      },
      "execution_count": 3,
      "outputs": []
    },
    {
      "cell_type": "code",
      "execution_count": 4,
      "metadata": {
        "colab": {
          "base_uri": "https://localhost:8080/",
          "height": 226
        },
        "id": "HLkSDbeMDFFv",
        "outputId": "06b6427c-e5f8-4279-b485-b4d9e7465224"
      },
      "outputs": [
        {
          "output_type": "execute_result",
          "data": {
            "text/plain": [
              "        status accident_index  accident_year accident_reference  \\\n",
              "0  Unvalidated  2022070151244           2022          070151244   \n",
              "1  Unvalidated  2022070152668           2022          070152668   \n",
              "2  Unvalidated  2022070154696           2022          070154696   \n",
              "3  Unvalidated  2022070154696           2022          070154696   \n",
              "4  Unvalidated  2022070154696           2022          070154696   \n",
              "\n",
              "   vehicle_reference  casualty_reference  casualty_class  sex_of_casualty  \\\n",
              "0                  2                   1               1                2   \n",
              "1                  1                   1               1                1   \n",
              "2                  1                   1               1                2   \n",
              "3                  2                   3               1                2   \n",
              "4                  3                   2               1                1   \n",
              "\n",
              "   age_of_casualty  age_band_of_casualty  casualty_severity  \\\n",
              "0               46                     8                  3   \n",
              "1               30                     6                  3   \n",
              "2               58                     9                  3   \n",
              "3               78                    11                  3   \n",
              "4               63                     9                  3   \n",
              "\n",
              "   pedestrian_location  pedestrian_movement  car_passenger  \\\n",
              "0                    0                    0              0   \n",
              "1                    0                    0              0   \n",
              "2                    0                    0              0   \n",
              "3                    0                    0              0   \n",
              "4                    0                    0              0   \n",
              "\n",
              "   bus_or_coach_passenger  pedestrian_road_maintenance_worker  casualty_type  \\\n",
              "0                       0                                   0              9   \n",
              "1                       0                                   0              9   \n",
              "2                       0                                   0              9   \n",
              "3                       0                                   0              9   \n",
              "4                       0                                   0              9   \n",
              "\n",
              "   casualty_home_area_type  casualty_imd_decile lsoa_of_casualty  \n",
              "0                        1                    9        E01033378  \n",
              "1                        1                    2        E01018551  \n",
              "2                        1                   10        E01006134  \n",
              "3                        2                   10        E01018724  \n",
              "4                        3                    7        W01000578  "
            ],
            "text/html": [
              "\n",
              "  <div id=\"df-32cfad2c-2f33-42e2-9e30-9e4035c026ac\" class=\"colab-df-container\">\n",
              "    <div>\n",
              "<style scoped>\n",
              "    .dataframe tbody tr th:only-of-type {\n",
              "        vertical-align: middle;\n",
              "    }\n",
              "\n",
              "    .dataframe tbody tr th {\n",
              "        vertical-align: top;\n",
              "    }\n",
              "\n",
              "    .dataframe thead th {\n",
              "        text-align: right;\n",
              "    }\n",
              "</style>\n",
              "<table border=\"1\" class=\"dataframe\">\n",
              "  <thead>\n",
              "    <tr style=\"text-align: right;\">\n",
              "      <th></th>\n",
              "      <th>status</th>\n",
              "      <th>accident_index</th>\n",
              "      <th>accident_year</th>\n",
              "      <th>accident_reference</th>\n",
              "      <th>vehicle_reference</th>\n",
              "      <th>casualty_reference</th>\n",
              "      <th>casualty_class</th>\n",
              "      <th>sex_of_casualty</th>\n",
              "      <th>age_of_casualty</th>\n",
              "      <th>age_band_of_casualty</th>\n",
              "      <th>casualty_severity</th>\n",
              "      <th>pedestrian_location</th>\n",
              "      <th>pedestrian_movement</th>\n",
              "      <th>car_passenger</th>\n",
              "      <th>bus_or_coach_passenger</th>\n",
              "      <th>pedestrian_road_maintenance_worker</th>\n",
              "      <th>casualty_type</th>\n",
              "      <th>casualty_home_area_type</th>\n",
              "      <th>casualty_imd_decile</th>\n",
              "      <th>lsoa_of_casualty</th>\n",
              "    </tr>\n",
              "  </thead>\n",
              "  <tbody>\n",
              "    <tr>\n",
              "      <th>0</th>\n",
              "      <td>Unvalidated</td>\n",
              "      <td>2022070151244</td>\n",
              "      <td>2022</td>\n",
              "      <td>070151244</td>\n",
              "      <td>2</td>\n",
              "      <td>1</td>\n",
              "      <td>1</td>\n",
              "      <td>2</td>\n",
              "      <td>46</td>\n",
              "      <td>8</td>\n",
              "      <td>3</td>\n",
              "      <td>0</td>\n",
              "      <td>0</td>\n",
              "      <td>0</td>\n",
              "      <td>0</td>\n",
              "      <td>0</td>\n",
              "      <td>9</td>\n",
              "      <td>1</td>\n",
              "      <td>9</td>\n",
              "      <td>E01033378</td>\n",
              "    </tr>\n",
              "    <tr>\n",
              "      <th>1</th>\n",
              "      <td>Unvalidated</td>\n",
              "      <td>2022070152668</td>\n",
              "      <td>2022</td>\n",
              "      <td>070152668</td>\n",
              "      <td>1</td>\n",
              "      <td>1</td>\n",
              "      <td>1</td>\n",
              "      <td>1</td>\n",
              "      <td>30</td>\n",
              "      <td>6</td>\n",
              "      <td>3</td>\n",
              "      <td>0</td>\n",
              "      <td>0</td>\n",
              "      <td>0</td>\n",
              "      <td>0</td>\n",
              "      <td>0</td>\n",
              "      <td>9</td>\n",
              "      <td>1</td>\n",
              "      <td>2</td>\n",
              "      <td>E01018551</td>\n",
              "    </tr>\n",
              "    <tr>\n",
              "      <th>2</th>\n",
              "      <td>Unvalidated</td>\n",
              "      <td>2022070154696</td>\n",
              "      <td>2022</td>\n",
              "      <td>070154696</td>\n",
              "      <td>1</td>\n",
              "      <td>1</td>\n",
              "      <td>1</td>\n",
              "      <td>2</td>\n",
              "      <td>58</td>\n",
              "      <td>9</td>\n",
              "      <td>3</td>\n",
              "      <td>0</td>\n",
              "      <td>0</td>\n",
              "      <td>0</td>\n",
              "      <td>0</td>\n",
              "      <td>0</td>\n",
              "      <td>9</td>\n",
              "      <td>1</td>\n",
              "      <td>10</td>\n",
              "      <td>E01006134</td>\n",
              "    </tr>\n",
              "    <tr>\n",
              "      <th>3</th>\n",
              "      <td>Unvalidated</td>\n",
              "      <td>2022070154696</td>\n",
              "      <td>2022</td>\n",
              "      <td>070154696</td>\n",
              "      <td>2</td>\n",
              "      <td>3</td>\n",
              "      <td>1</td>\n",
              "      <td>2</td>\n",
              "      <td>78</td>\n",
              "      <td>11</td>\n",
              "      <td>3</td>\n",
              "      <td>0</td>\n",
              "      <td>0</td>\n",
              "      <td>0</td>\n",
              "      <td>0</td>\n",
              "      <td>0</td>\n",
              "      <td>9</td>\n",
              "      <td>2</td>\n",
              "      <td>10</td>\n",
              "      <td>E01018724</td>\n",
              "    </tr>\n",
              "    <tr>\n",
              "      <th>4</th>\n",
              "      <td>Unvalidated</td>\n",
              "      <td>2022070154696</td>\n",
              "      <td>2022</td>\n",
              "      <td>070154696</td>\n",
              "      <td>3</td>\n",
              "      <td>2</td>\n",
              "      <td>1</td>\n",
              "      <td>1</td>\n",
              "      <td>63</td>\n",
              "      <td>9</td>\n",
              "      <td>3</td>\n",
              "      <td>0</td>\n",
              "      <td>0</td>\n",
              "      <td>0</td>\n",
              "      <td>0</td>\n",
              "      <td>0</td>\n",
              "      <td>9</td>\n",
              "      <td>3</td>\n",
              "      <td>7</td>\n",
              "      <td>W01000578</td>\n",
              "    </tr>\n",
              "  </tbody>\n",
              "</table>\n",
              "</div>\n",
              "    <div class=\"colab-df-buttons\">\n",
              "\n",
              "  <div class=\"colab-df-container\">\n",
              "    <button class=\"colab-df-convert\" onclick=\"convertToInteractive('df-32cfad2c-2f33-42e2-9e30-9e4035c026ac')\"\n",
              "            title=\"Convert this dataframe to an interactive table.\"\n",
              "            style=\"display:none;\">\n",
              "\n",
              "  <svg xmlns=\"http://www.w3.org/2000/svg\" height=\"24px\" viewBox=\"0 -960 960 960\">\n",
              "    <path d=\"M120-120v-720h720v720H120Zm60-500h600v-160H180v160Zm220 220h160v-160H400v160Zm0 220h160v-160H400v160ZM180-400h160v-160H180v160Zm440 0h160v-160H620v160ZM180-180h160v-160H180v160Zm440 0h160v-160H620v160Z\"/>\n",
              "  </svg>\n",
              "    </button>\n",
              "\n",
              "  <style>\n",
              "    .colab-df-container {\n",
              "      display:flex;\n",
              "      gap: 12px;\n",
              "    }\n",
              "\n",
              "    .colab-df-convert {\n",
              "      background-color: #E8F0FE;\n",
              "      border: none;\n",
              "      border-radius: 50%;\n",
              "      cursor: pointer;\n",
              "      display: none;\n",
              "      fill: #1967D2;\n",
              "      height: 32px;\n",
              "      padding: 0 0 0 0;\n",
              "      width: 32px;\n",
              "    }\n",
              "\n",
              "    .colab-df-convert:hover {\n",
              "      background-color: #E2EBFA;\n",
              "      box-shadow: 0px 1px 2px rgba(60, 64, 67, 0.3), 0px 1px 3px 1px rgba(60, 64, 67, 0.15);\n",
              "      fill: #174EA6;\n",
              "    }\n",
              "\n",
              "    .colab-df-buttons div {\n",
              "      margin-bottom: 4px;\n",
              "    }\n",
              "\n",
              "    [theme=dark] .colab-df-convert {\n",
              "      background-color: #3B4455;\n",
              "      fill: #D2E3FC;\n",
              "    }\n",
              "\n",
              "    [theme=dark] .colab-df-convert:hover {\n",
              "      background-color: #434B5C;\n",
              "      box-shadow: 0px 1px 3px 1px rgba(0, 0, 0, 0.15);\n",
              "      filter: drop-shadow(0px 1px 2px rgba(0, 0, 0, 0.3));\n",
              "      fill: #FFFFFF;\n",
              "    }\n",
              "  </style>\n",
              "\n",
              "    <script>\n",
              "      const buttonEl =\n",
              "        document.querySelector('#df-32cfad2c-2f33-42e2-9e30-9e4035c026ac button.colab-df-convert');\n",
              "      buttonEl.style.display =\n",
              "        google.colab.kernel.accessAllowed ? 'block' : 'none';\n",
              "\n",
              "      async function convertToInteractive(key) {\n",
              "        const element = document.querySelector('#df-32cfad2c-2f33-42e2-9e30-9e4035c026ac');\n",
              "        const dataTable =\n",
              "          await google.colab.kernel.invokeFunction('convertToInteractive',\n",
              "                                                    [key], {});\n",
              "        if (!dataTable) return;\n",
              "\n",
              "        const docLinkHtml = 'Like what you see? Visit the ' +\n",
              "          '<a target=\"_blank\" href=https://colab.research.google.com/notebooks/data_table.ipynb>data table notebook</a>'\n",
              "          + ' to learn more about interactive tables.';\n",
              "        element.innerHTML = '';\n",
              "        dataTable['output_type'] = 'display_data';\n",
              "        await google.colab.output.renderOutput(dataTable, element);\n",
              "        const docLink = document.createElement('div');\n",
              "        docLink.innerHTML = docLinkHtml;\n",
              "        element.appendChild(docLink);\n",
              "      }\n",
              "    </script>\n",
              "  </div>\n",
              "\n",
              "\n",
              "<div id=\"df-ce06d613-f36d-4e24-a053-e9e39d9d13e7\">\n",
              "  <button class=\"colab-df-quickchart\" onclick=\"quickchart('df-ce06d613-f36d-4e24-a053-e9e39d9d13e7')\"\n",
              "            title=\"Suggest charts\"\n",
              "            style=\"display:none;\">\n",
              "\n",
              "<svg xmlns=\"http://www.w3.org/2000/svg\" height=\"24px\"viewBox=\"0 0 24 24\"\n",
              "     width=\"24px\">\n",
              "    <g>\n",
              "        <path d=\"M19 3H5c-1.1 0-2 .9-2 2v14c0 1.1.9 2 2 2h14c1.1 0 2-.9 2-2V5c0-1.1-.9-2-2-2zM9 17H7v-7h2v7zm4 0h-2V7h2v10zm4 0h-2v-4h2v4z\"/>\n",
              "    </g>\n",
              "</svg>\n",
              "  </button>\n",
              "\n",
              "<style>\n",
              "  .colab-df-quickchart {\n",
              "      --bg-color: #E8F0FE;\n",
              "      --fill-color: #1967D2;\n",
              "      --hover-bg-color: #E2EBFA;\n",
              "      --hover-fill-color: #174EA6;\n",
              "      --disabled-fill-color: #AAA;\n",
              "      --disabled-bg-color: #DDD;\n",
              "  }\n",
              "\n",
              "  [theme=dark] .colab-df-quickchart {\n",
              "      --bg-color: #3B4455;\n",
              "      --fill-color: #D2E3FC;\n",
              "      --hover-bg-color: #434B5C;\n",
              "      --hover-fill-color: #FFFFFF;\n",
              "      --disabled-bg-color: #3B4455;\n",
              "      --disabled-fill-color: #666;\n",
              "  }\n",
              "\n",
              "  .colab-df-quickchart {\n",
              "    background-color: var(--bg-color);\n",
              "    border: none;\n",
              "    border-radius: 50%;\n",
              "    cursor: pointer;\n",
              "    display: none;\n",
              "    fill: var(--fill-color);\n",
              "    height: 32px;\n",
              "    padding: 0;\n",
              "    width: 32px;\n",
              "  }\n",
              "\n",
              "  .colab-df-quickchart:hover {\n",
              "    background-color: var(--hover-bg-color);\n",
              "    box-shadow: 0 1px 2px rgba(60, 64, 67, 0.3), 0 1px 3px 1px rgba(60, 64, 67, 0.15);\n",
              "    fill: var(--button-hover-fill-color);\n",
              "  }\n",
              "\n",
              "  .colab-df-quickchart-complete:disabled,\n",
              "  .colab-df-quickchart-complete:disabled:hover {\n",
              "    background-color: var(--disabled-bg-color);\n",
              "    fill: var(--disabled-fill-color);\n",
              "    box-shadow: none;\n",
              "  }\n",
              "\n",
              "  .colab-df-spinner {\n",
              "    border: 2px solid var(--fill-color);\n",
              "    border-color: transparent;\n",
              "    border-bottom-color: var(--fill-color);\n",
              "    animation:\n",
              "      spin 1s steps(1) infinite;\n",
              "  }\n",
              "\n",
              "  @keyframes spin {\n",
              "    0% {\n",
              "      border-color: transparent;\n",
              "      border-bottom-color: var(--fill-color);\n",
              "      border-left-color: var(--fill-color);\n",
              "    }\n",
              "    20% {\n",
              "      border-color: transparent;\n",
              "      border-left-color: var(--fill-color);\n",
              "      border-top-color: var(--fill-color);\n",
              "    }\n",
              "    30% {\n",
              "      border-color: transparent;\n",
              "      border-left-color: var(--fill-color);\n",
              "      border-top-color: var(--fill-color);\n",
              "      border-right-color: var(--fill-color);\n",
              "    }\n",
              "    40% {\n",
              "      border-color: transparent;\n",
              "      border-right-color: var(--fill-color);\n",
              "      border-top-color: var(--fill-color);\n",
              "    }\n",
              "    60% {\n",
              "      border-color: transparent;\n",
              "      border-right-color: var(--fill-color);\n",
              "    }\n",
              "    80% {\n",
              "      border-color: transparent;\n",
              "      border-right-color: var(--fill-color);\n",
              "      border-bottom-color: var(--fill-color);\n",
              "    }\n",
              "    90% {\n",
              "      border-color: transparent;\n",
              "      border-bottom-color: var(--fill-color);\n",
              "    }\n",
              "  }\n",
              "</style>\n",
              "\n",
              "  <script>\n",
              "    async function quickchart(key) {\n",
              "      const quickchartButtonEl =\n",
              "        document.querySelector('#' + key + ' button');\n",
              "      quickchartButtonEl.disabled = true;  // To prevent multiple clicks.\n",
              "      quickchartButtonEl.classList.add('colab-df-spinner');\n",
              "      try {\n",
              "        const charts = await google.colab.kernel.invokeFunction(\n",
              "            'suggestCharts', [key], {});\n",
              "      } catch (error) {\n",
              "        console.error('Error during call to suggestCharts:', error);\n",
              "      }\n",
              "      quickchartButtonEl.classList.remove('colab-df-spinner');\n",
              "      quickchartButtonEl.classList.add('colab-df-quickchart-complete');\n",
              "    }\n",
              "    (() => {\n",
              "      let quickchartButtonEl =\n",
              "        document.querySelector('#df-ce06d613-f36d-4e24-a053-e9e39d9d13e7 button');\n",
              "      quickchartButtonEl.style.display =\n",
              "        google.colab.kernel.accessAllowed ? 'block' : 'none';\n",
              "    })();\n",
              "  </script>\n",
              "</div>\n",
              "\n",
              "    </div>\n",
              "  </div>\n"
            ],
            "application/vnd.google.colaboratory.intrinsic+json": {
              "type": "dataframe",
              "variable_name": "df",
              "summary": "{\n  \"name\": \"df\",\n  \"rows\": 61352,\n  \"fields\": [\n    {\n      \"column\": \"status\",\n      \"properties\": {\n        \"dtype\": \"category\",\n        \"num_unique_values\": 1,\n        \"samples\": [\n          \"Unvalidated\"\n        ],\n        \"semantic_type\": \"\",\n        \"description\": \"\"\n      }\n    },\n    {\n      \"column\": \"accident_index\",\n      \"properties\": {\n        \"dtype\": \"string\",\n        \"num_unique_values\": 48283,\n        \"samples\": [\n          \"2022401183536\"\n        ],\n        \"semantic_type\": \"\",\n        \"description\": \"\"\n      }\n    },\n    {\n      \"column\": \"accident_year\",\n      \"properties\": {\n        \"dtype\": \"number\",\n        \"std\": 0,\n        \"min\": 2022,\n        \"max\": 2022,\n        \"num_unique_values\": 1,\n        \"samples\": [\n          2022\n        ],\n        \"semantic_type\": \"\",\n        \"description\": \"\"\n      }\n    },\n    {\n      \"column\": \"accident_reference\",\n      \"properties\": {\n        \"dtype\": \"string\",\n        \"num_unique_values\": 48283,\n        \"samples\": [\n          \"401183536\"\n        ],\n        \"semantic_type\": \"\",\n        \"description\": \"\"\n      }\n    },\n    {\n      \"column\": \"vehicle_reference\",\n      \"properties\": {\n        \"dtype\": \"number\",\n        \"std\": 1,\n        \"min\": 1,\n        \"max\": 227,\n        \"num_unique_values\": 11,\n        \"samples\": [\n          8\n        ],\n        \"semantic_type\": \"\",\n        \"description\": \"\"\n      }\n    },\n    {\n      \"column\": \"casualty_reference\",\n      \"properties\": {\n        \"dtype\": \"number\",\n        \"std\": 0,\n        \"min\": 1,\n        \"max\": 148,\n        \"num_unique_values\": 18,\n        \"samples\": [\n          1\n        ],\n        \"semantic_type\": \"\",\n        \"description\": \"\"\n      }\n    },\n    {\n      \"column\": \"casualty_class\",\n      \"properties\": {\n        \"dtype\": \"number\",\n        \"std\": 0,\n        \"min\": 1,\n        \"max\": 3,\n        \"num_unique_values\": 3,\n        \"samples\": [\n          1\n        ],\n        \"semantic_type\": \"\",\n        \"description\": \"\"\n      }\n    },\n    {\n      \"column\": \"sex_of_casualty\",\n      \"properties\": {\n        \"dtype\": \"number\",\n        \"std\": 0,\n        \"min\": -1,\n        \"max\": 9,\n        \"num_unique_values\": 4,\n        \"samples\": [\n          1\n        ],\n        \"semantic_type\": \"\",\n        \"description\": \"\"\n      }\n    },\n    {\n      \"column\": \"age_of_casualty\",\n      \"properties\": {\n        \"dtype\": \"number\",\n        \"std\": 19,\n        \"min\": -1,\n        \"max\": 101,\n        \"num_unique_values\": 102,\n        \"samples\": [\n          43\n        ],\n        \"semantic_type\": \"\",\n        \"description\": \"\"\n      }\n    },\n    {\n      \"column\": \"age_band_of_casualty\",\n      \"properties\": {\n        \"dtype\": \"number\",\n        \"std\": 2,\n        \"min\": -1,\n        \"max\": 11,\n        \"num_unique_values\": 12,\n        \"samples\": [\n          1\n        ],\n        \"semantic_type\": \"\",\n        \"description\": \"\"\n      }\n    },\n    {\n      \"column\": \"casualty_severity\",\n      \"properties\": {\n        \"dtype\": \"number\",\n        \"std\": 0,\n        \"min\": 1,\n        \"max\": 3,\n        \"num_unique_values\": 3,\n        \"samples\": [\n          3\n        ],\n        \"semantic_type\": \"\",\n        \"description\": \"\"\n      }\n    },\n    {\n      \"column\": \"pedestrian_location\",\n      \"properties\": {\n        \"dtype\": \"number\",\n        \"std\": 2,\n        \"min\": 0,\n        \"max\": 10,\n        \"num_unique_values\": 11,\n        \"samples\": [\n          8\n        ],\n        \"semantic_type\": \"\",\n        \"description\": \"\"\n      }\n    },\n    {\n      \"column\": \"pedestrian_movement\",\n      \"properties\": {\n        \"dtype\": \"number\",\n        \"std\": 2,\n        \"min\": 0,\n        \"max\": 9,\n        \"num_unique_values\": 10,\n        \"samples\": [\n          4\n        ],\n        \"semantic_type\": \"\",\n        \"description\": \"\"\n      }\n    },\n    {\n      \"column\": \"car_passenger\",\n      \"properties\": {\n        \"dtype\": \"number\",\n        \"std\": 0,\n        \"min\": -1,\n        \"max\": 9,\n        \"num_unique_values\": 5,\n        \"samples\": [\n          2\n        ],\n        \"semantic_type\": \"\",\n        \"description\": \"\"\n      }\n    },\n    {\n      \"column\": \"bus_or_coach_passenger\",\n      \"properties\": {\n        \"dtype\": \"number\",\n        \"std\": 0,\n        \"min\": -1,\n        \"max\": 9,\n        \"num_unique_values\": 7,\n        \"samples\": [\n          0\n        ],\n        \"semantic_type\": \"\",\n        \"description\": \"\"\n      }\n    },\n    {\n      \"column\": \"pedestrian_road_maintenance_worker\",\n      \"properties\": {\n        \"dtype\": \"number\",\n        \"std\": 0,\n        \"min\": -1,\n        \"max\": 2,\n        \"num_unique_values\": 4,\n        \"samples\": [\n          2\n        ],\n        \"semantic_type\": \"\",\n        \"description\": \"\"\n      }\n    },\n    {\n      \"column\": \"casualty_type\",\n      \"properties\": {\n        \"dtype\": \"number\",\n        \"std\": 16,\n        \"min\": -1,\n        \"max\": 98,\n        \"num_unique_values\": 22,\n        \"samples\": [\n          9\n        ],\n        \"semantic_type\": \"\",\n        \"description\": \"\"\n      }\n    },\n    {\n      \"column\": \"casualty_home_area_type\",\n      \"properties\": {\n        \"dtype\": \"number\",\n        \"std\": 0,\n        \"min\": -1,\n        \"max\": 3,\n        \"num_unique_values\": 4,\n        \"samples\": [\n          2\n        ],\n        \"semantic_type\": \"\",\n        \"description\": \"\"\n      }\n    },\n    {\n      \"column\": \"casualty_imd_decile\",\n      \"properties\": {\n        \"dtype\": \"number\",\n        \"std\": 3,\n        \"min\": -1,\n        \"max\": 10,\n        \"num_unique_values\": 11,\n        \"samples\": [\n          5\n        ],\n        \"semantic_type\": \"\",\n        \"description\": \"\"\n      }\n    },\n    {\n      \"column\": \"lsoa_of_casualty\",\n      \"properties\": {\n        \"dtype\": \"category\",\n        \"num_unique_values\": 23841,\n        \"samples\": [\n          \"E01023009\"\n        ],\n        \"semantic_type\": \"\",\n        \"description\": \"\"\n      }\n    }\n  ]\n}"
            }
          },
          "metadata": {},
          "execution_count": 4
        }
      ],
      "source": [
        "df = pd.read_csv('/content/dft-road-casualty-statistics-casualty-provisional-mid-year-unvalidated-2022 (1).csv')\n",
        "df.head()"
      ]
    },
    {
      "cell_type": "code",
      "execution_count": null,
      "metadata": {
        "colab": {
          "base_uri": "https://localhost:8080/"
        },
        "id": "y0g0xEkZDa2i",
        "outputId": "44fff2aa-7a67-4126-a292-3dc19a7a295b"
      },
      "outputs": [
        {
          "output_type": "execute_result",
          "data": {
            "text/plain": [
              "(61352, 20)"
            ]
          },
          "metadata": {},
          "execution_count": 3
        }
      ],
      "source": [
        "df.shape"
      ]
    },
    {
      "cell_type": "code",
      "execution_count": null,
      "metadata": {
        "colab": {
          "base_uri": "https://localhost:8080/"
        },
        "id": "1N6LsBQwEHZH",
        "outputId": "75733424-4b64-4b38-d582-97220ced9bb0"
      },
      "outputs": [
        {
          "output_type": "stream",
          "name": "stdout",
          "text": [
            "<class 'pandas.core.frame.DataFrame'>\n",
            "RangeIndex: 61352 entries, 0 to 61351\n",
            "Data columns (total 20 columns):\n",
            " #   Column                              Non-Null Count  Dtype \n",
            "---  ------                              --------------  ----- \n",
            " 0   status                              61352 non-null  object\n",
            " 1   accident_index                      61352 non-null  object\n",
            " 2   accident_year                       61352 non-null  int64 \n",
            " 3   accident_reference                  61352 non-null  object\n",
            " 4   vehicle_reference                   61352 non-null  int64 \n",
            " 5   casualty_reference                  61352 non-null  int64 \n",
            " 6   casualty_class                      61352 non-null  int64 \n",
            " 7   sex_of_casualty                     61352 non-null  int64 \n",
            " 8   age_of_casualty                     61352 non-null  int64 \n",
            " 9   age_band_of_casualty                61352 non-null  int64 \n",
            " 10  casualty_severity                   61352 non-null  int64 \n",
            " 11  pedestrian_location                 61352 non-null  int64 \n",
            " 12  pedestrian_movement                 61352 non-null  int64 \n",
            " 13  car_passenger                       61352 non-null  int64 \n",
            " 14  bus_or_coach_passenger              61352 non-null  int64 \n",
            " 15  pedestrian_road_maintenance_worker  61352 non-null  int64 \n",
            " 16  casualty_type                       61352 non-null  int64 \n",
            " 17  casualty_home_area_type             61352 non-null  int64 \n",
            " 18  casualty_imd_decile                 61352 non-null  int64 \n",
            " 19  lsoa_of_casualty                    61352 non-null  object\n",
            "dtypes: int64(16), object(4)\n",
            "memory usage: 9.4+ MB\n"
          ]
        }
      ],
      "source": [
        "df.info()"
      ]
    },
    {
      "cell_type": "markdown",
      "metadata": {
        "id": "sr1kirW8JeDO"
      },
      "source": [
        "## deep investigation in columns"
      ]
    },
    {
      "cell_type": "code",
      "source": [
        "df.drop(['status', 'lsoa_of_casualty', 'accident_year', 'accident_reference',\n",
        "         'car_passenger', 'age_band_of_casualty', 'accident_index',\n",
        "         'pedestrian_road_maintenance_worker',\n",
        "         'pedestrian_movement', 'pedestrian_location',], axis=1, inplace=True)"
      ],
      "metadata": {
        "id": "uBS3aNo8cQPX"
      },
      "execution_count": 5,
      "outputs": []
    },
    {
      "cell_type": "code",
      "source": [
        "categorical_features = ['casualty_class', 'sex_of_casualty', 'casualty_severity',\n",
        "                        'casualty_type', 'casualty_home_area_type', 'casualty_imd_decile',\n",
        "                        'bus_or_coach_passenger']\n",
        "numerical_features = ['vehicle_reference', 'casualty_reference', 'age_of_casualty']\n",
        "\n",
        "print(len(categorical_features), len(numerical_features))\n",
        "print('categorical_features = ', categorical_features)\n",
        "print('numerical_features = ', numerical_features)"
      ],
      "metadata": {
        "colab": {
          "base_uri": "https://localhost:8080/"
        },
        "id": "_0xQ2FiOsIaP",
        "outputId": "bace0bb0-aff6-4344-ad5e-7f1603984179"
      },
      "execution_count": 6,
      "outputs": [
        {
          "output_type": "stream",
          "name": "stdout",
          "text": [
            "7 3\n",
            "categorical_features =  ['casualty_class', 'sex_of_casualty', 'casualty_severity', 'casualty_type', 'casualty_home_area_type', 'casualty_imd_decile', 'bus_or_coach_passenger']\n",
            "numerical_features =  ['vehicle_reference', 'casualty_reference', 'age_of_casualty']\n"
          ]
        }
      ]
    },
    {
      "cell_type": "code",
      "source": [
        "# Remove outliers\n",
        "\n",
        "contained_outliers = ['vehicle_reference', 'casualty_reference']\n",
        "df_removed_outliers = df.copy()\n",
        "\n",
        "for col in contained_outliers:\n",
        "  for i in df_removed_outliers[col].index:\n",
        "    if df_removed_outliers[col].loc[i] > 60:\n",
        "      df_removed_outliers.drop(i, inplace=True)\n",
        "  print(col, ' : ', df_removed_outliers[col].value_counts())\n",
        "\n",
        "df_removed_outliers.shape"
      ],
      "metadata": {
        "colab": {
          "base_uri": "https://localhost:8080/"
        },
        "id": "oct-9qj2uqsA",
        "outputId": "996e58ef-291a-417d-f3db-33138ff251b5"
      },
      "execution_count": 7,
      "outputs": [
        {
          "output_type": "stream",
          "name": "stdout",
          "text": [
            "vehicle_reference  :  1    36255\n",
            "2    23337\n",
            "3     1427\n",
            "4      227\n",
            "5       71\n",
            "6       19\n",
            "7        7\n",
            "8        4\n",
            "9        3\n",
            "Name: vehicle_reference, dtype: int64\n",
            "casualty_reference  :  1     47790\n",
            "2      9305\n",
            "3      2795\n",
            "4       934\n",
            "5       325\n",
            "6       100\n",
            "7        37\n",
            "8        15\n",
            "9        11\n",
            "10       10\n",
            "11        7\n",
            "12        6\n",
            "14        4\n",
            "13        4\n",
            "15        3\n",
            "16        2\n",
            "22        1\n",
            "Name: casualty_reference, dtype: int64\n"
          ]
        },
        {
          "output_type": "execute_result",
          "data": {
            "text/plain": [
              "(61349, 10)"
            ]
          },
          "metadata": {},
          "execution_count": 7
        }
      ]
    },
    {
      "cell_type": "code",
      "source": [
        "# Replace nan values with np.nan\n",
        "\n",
        "df_categorical = df_removed_outliers.copy()\n",
        "print('len of df_categorical before = ', len(df_categorical))\n",
        "print('*******************************')\n",
        "\n",
        "nan_1 = ['casualty_type', 'casualty_home_area_type', 'casualty_imd_decile', 'age_of_casualty']\n",
        "nan_1_9 = ['sex_of_casualty', 'bus_or_coach_passenger', ] # 9 -> Unknown or other\n",
        "\n",
        "for col in nan_1:\n",
        "  df_categorical[col][df_categorical[col]==-1] = np.nan\n",
        "\n",
        "for col in nan_1_9:\n",
        "  df_categorical[col][(df_categorical[col]==-1) | (df_categorical[col]==9)] = np.nan\n",
        "\n",
        "\n",
        "print(df_categorical.isnull().sum())\n",
        "df_categorical.dropna(inplace=True)\n",
        "print('*******************************')\n",
        "print('len of df_categorical after = ', len(df_categorical))\n"
      ],
      "metadata": {
        "id": "eX2XHepHylea",
        "colab": {
          "base_uri": "https://localhost:8080/"
        },
        "outputId": "e5004b99-dce0-4cee-de63-76a38df63d11"
      },
      "execution_count": 8,
      "outputs": [
        {
          "output_type": "stream",
          "name": "stdout",
          "text": [
            "len of df_categorical before =  61349\n",
            "*******************************\n",
            "vehicle_reference             0\n",
            "casualty_reference            0\n",
            "casualty_class                0\n",
            "sex_of_casualty             458\n",
            "age_of_casualty            1350\n",
            "casualty_severity             0\n",
            "bus_or_coach_passenger       32\n",
            "casualty_type                 5\n",
            "casualty_home_area_type    5498\n",
            "casualty_imd_decile        5784\n",
            "dtype: int64\n",
            "*******************************\n",
            "len of df_categorical after =  54599\n"
          ]
        }
      ]
    },
    {
      "cell_type": "code",
      "source": [
        "print(df_categorical.isnull().sum())\n"
      ],
      "metadata": {
        "colab": {
          "base_uri": "https://localhost:8080/"
        },
        "id": "ol0FLeFfmc8-",
        "outputId": "ea961309-7ff9-4284-ff34-1d0bfbc2029f"
      },
      "execution_count": 9,
      "outputs": [
        {
          "output_type": "stream",
          "name": "stdout",
          "text": [
            "vehicle_reference          0\n",
            "casualty_reference         0\n",
            "casualty_class             0\n",
            "sex_of_casualty            0\n",
            "age_of_casualty            0\n",
            "casualty_severity          0\n",
            "bus_or_coach_passenger     0\n",
            "casualty_type              0\n",
            "casualty_home_area_type    0\n",
            "casualty_imd_decile        0\n",
            "dtype: int64\n"
          ]
        }
      ]
    },
    {
      "cell_type": "code",
      "source": [
        "df_categorical_reindex = df_categorical.set_index(np.arange(len(df_categorical)))\n",
        "df_categorical_reindex"
      ],
      "metadata": {
        "id": "o2RArX2v0eyC",
        "colab": {
          "base_uri": "https://localhost:8080/",
          "height": 443
        },
        "outputId": "b36c309f-594b-47b4-a8ce-ae51c81be830"
      },
      "execution_count": 10,
      "outputs": [
        {
          "output_type": "execute_result",
          "data": {
            "text/plain": [
              "       vehicle_reference  casualty_reference  casualty_class  sex_of_casualty  \\\n",
              "0                      2                   1               1              2.0   \n",
              "1                      1                   1               1              1.0   \n",
              "2                      1                   1               1              2.0   \n",
              "3                      2                   3               1              2.0   \n",
              "4                      3                   2               1              1.0   \n",
              "...                  ...                 ...             ...              ...   \n",
              "54594                  1                   1               1              1.0   \n",
              "54595                  1                   1               3              2.0   \n",
              "54596                  2                   1               1              1.0   \n",
              "54597                  1                   1               1              2.0   \n",
              "54598                  2                   1               1              1.0   \n",
              "\n",
              "       age_of_casualty  casualty_severity  bus_or_coach_passenger  \\\n",
              "0                 46.0                  3                     0.0   \n",
              "1                 30.0                  3                     0.0   \n",
              "2                 58.0                  3                     0.0   \n",
              "3                 78.0                  3                     0.0   \n",
              "4                 63.0                  3                     0.0   \n",
              "...                ...                ...                     ...   \n",
              "54594             69.0                  2                     0.0   \n",
              "54595             56.0                  3                     0.0   \n",
              "54596             42.0                  3                     0.0   \n",
              "54597             40.0                  3                     0.0   \n",
              "54598             71.0                  3                     0.0   \n",
              "\n",
              "       casualty_type  casualty_home_area_type  casualty_imd_decile  \n",
              "0                9.0                      1.0                  9.0  \n",
              "1                9.0                      1.0                  2.0  \n",
              "2                9.0                      1.0                 10.0  \n",
              "3                9.0                      2.0                 10.0  \n",
              "4                9.0                      3.0                  7.0  \n",
              "...              ...                      ...                  ...  \n",
              "54594            4.0                      1.0                  7.0  \n",
              "54595            0.0                      1.0                 10.0  \n",
              "54596            9.0                      1.0                  5.0  \n",
              "54597            9.0                      1.0                  3.0  \n",
              "54598            9.0                      1.0                  2.0  \n",
              "\n",
              "[54599 rows x 10 columns]"
            ],
            "text/html": [
              "\n",
              "  <div id=\"df-bbc415cd-e688-474d-89dd-5df64764fefd\" class=\"colab-df-container\">\n",
              "    <div>\n",
              "<style scoped>\n",
              "    .dataframe tbody tr th:only-of-type {\n",
              "        vertical-align: middle;\n",
              "    }\n",
              "\n",
              "    .dataframe tbody tr th {\n",
              "        vertical-align: top;\n",
              "    }\n",
              "\n",
              "    .dataframe thead th {\n",
              "        text-align: right;\n",
              "    }\n",
              "</style>\n",
              "<table border=\"1\" class=\"dataframe\">\n",
              "  <thead>\n",
              "    <tr style=\"text-align: right;\">\n",
              "      <th></th>\n",
              "      <th>vehicle_reference</th>\n",
              "      <th>casualty_reference</th>\n",
              "      <th>casualty_class</th>\n",
              "      <th>sex_of_casualty</th>\n",
              "      <th>age_of_casualty</th>\n",
              "      <th>casualty_severity</th>\n",
              "      <th>bus_or_coach_passenger</th>\n",
              "      <th>casualty_type</th>\n",
              "      <th>casualty_home_area_type</th>\n",
              "      <th>casualty_imd_decile</th>\n",
              "    </tr>\n",
              "  </thead>\n",
              "  <tbody>\n",
              "    <tr>\n",
              "      <th>0</th>\n",
              "      <td>2</td>\n",
              "      <td>1</td>\n",
              "      <td>1</td>\n",
              "      <td>2.0</td>\n",
              "      <td>46.0</td>\n",
              "      <td>3</td>\n",
              "      <td>0.0</td>\n",
              "      <td>9.0</td>\n",
              "      <td>1.0</td>\n",
              "      <td>9.0</td>\n",
              "    </tr>\n",
              "    <tr>\n",
              "      <th>1</th>\n",
              "      <td>1</td>\n",
              "      <td>1</td>\n",
              "      <td>1</td>\n",
              "      <td>1.0</td>\n",
              "      <td>30.0</td>\n",
              "      <td>3</td>\n",
              "      <td>0.0</td>\n",
              "      <td>9.0</td>\n",
              "      <td>1.0</td>\n",
              "      <td>2.0</td>\n",
              "    </tr>\n",
              "    <tr>\n",
              "      <th>2</th>\n",
              "      <td>1</td>\n",
              "      <td>1</td>\n",
              "      <td>1</td>\n",
              "      <td>2.0</td>\n",
              "      <td>58.0</td>\n",
              "      <td>3</td>\n",
              "      <td>0.0</td>\n",
              "      <td>9.0</td>\n",
              "      <td>1.0</td>\n",
              "      <td>10.0</td>\n",
              "    </tr>\n",
              "    <tr>\n",
              "      <th>3</th>\n",
              "      <td>2</td>\n",
              "      <td>3</td>\n",
              "      <td>1</td>\n",
              "      <td>2.0</td>\n",
              "      <td>78.0</td>\n",
              "      <td>3</td>\n",
              "      <td>0.0</td>\n",
              "      <td>9.0</td>\n",
              "      <td>2.0</td>\n",
              "      <td>10.0</td>\n",
              "    </tr>\n",
              "    <tr>\n",
              "      <th>4</th>\n",
              "      <td>3</td>\n",
              "      <td>2</td>\n",
              "      <td>1</td>\n",
              "      <td>1.0</td>\n",
              "      <td>63.0</td>\n",
              "      <td>3</td>\n",
              "      <td>0.0</td>\n",
              "      <td>9.0</td>\n",
              "      <td>3.0</td>\n",
              "      <td>7.0</td>\n",
              "    </tr>\n",
              "    <tr>\n",
              "      <th>...</th>\n",
              "      <td>...</td>\n",
              "      <td>...</td>\n",
              "      <td>...</td>\n",
              "      <td>...</td>\n",
              "      <td>...</td>\n",
              "      <td>...</td>\n",
              "      <td>...</td>\n",
              "      <td>...</td>\n",
              "      <td>...</td>\n",
              "      <td>...</td>\n",
              "    </tr>\n",
              "    <tr>\n",
              "      <th>54594</th>\n",
              "      <td>1</td>\n",
              "      <td>1</td>\n",
              "      <td>1</td>\n",
              "      <td>1.0</td>\n",
              "      <td>69.0</td>\n",
              "      <td>2</td>\n",
              "      <td>0.0</td>\n",
              "      <td>4.0</td>\n",
              "      <td>1.0</td>\n",
              "      <td>7.0</td>\n",
              "    </tr>\n",
              "    <tr>\n",
              "      <th>54595</th>\n",
              "      <td>1</td>\n",
              "      <td>1</td>\n",
              "      <td>3</td>\n",
              "      <td>2.0</td>\n",
              "      <td>56.0</td>\n",
              "      <td>3</td>\n",
              "      <td>0.0</td>\n",
              "      <td>0.0</td>\n",
              "      <td>1.0</td>\n",
              "      <td>10.0</td>\n",
              "    </tr>\n",
              "    <tr>\n",
              "      <th>54596</th>\n",
              "      <td>2</td>\n",
              "      <td>1</td>\n",
              "      <td>1</td>\n",
              "      <td>1.0</td>\n",
              "      <td>42.0</td>\n",
              "      <td>3</td>\n",
              "      <td>0.0</td>\n",
              "      <td>9.0</td>\n",
              "      <td>1.0</td>\n",
              "      <td>5.0</td>\n",
              "    </tr>\n",
              "    <tr>\n",
              "      <th>54597</th>\n",
              "      <td>1</td>\n",
              "      <td>1</td>\n",
              "      <td>1</td>\n",
              "      <td>2.0</td>\n",
              "      <td>40.0</td>\n",
              "      <td>3</td>\n",
              "      <td>0.0</td>\n",
              "      <td>9.0</td>\n",
              "      <td>1.0</td>\n",
              "      <td>3.0</td>\n",
              "    </tr>\n",
              "    <tr>\n",
              "      <th>54598</th>\n",
              "      <td>2</td>\n",
              "      <td>1</td>\n",
              "      <td>1</td>\n",
              "      <td>1.0</td>\n",
              "      <td>71.0</td>\n",
              "      <td>3</td>\n",
              "      <td>0.0</td>\n",
              "      <td>9.0</td>\n",
              "      <td>1.0</td>\n",
              "      <td>2.0</td>\n",
              "    </tr>\n",
              "  </tbody>\n",
              "</table>\n",
              "<p>54599 rows × 10 columns</p>\n",
              "</div>\n",
              "    <div class=\"colab-df-buttons\">\n",
              "\n",
              "  <div class=\"colab-df-container\">\n",
              "    <button class=\"colab-df-convert\" onclick=\"convertToInteractive('df-bbc415cd-e688-474d-89dd-5df64764fefd')\"\n",
              "            title=\"Convert this dataframe to an interactive table.\"\n",
              "            style=\"display:none;\">\n",
              "\n",
              "  <svg xmlns=\"http://www.w3.org/2000/svg\" height=\"24px\" viewBox=\"0 -960 960 960\">\n",
              "    <path d=\"M120-120v-720h720v720H120Zm60-500h600v-160H180v160Zm220 220h160v-160H400v160Zm0 220h160v-160H400v160ZM180-400h160v-160H180v160Zm440 0h160v-160H620v160ZM180-180h160v-160H180v160Zm440 0h160v-160H620v160Z\"/>\n",
              "  </svg>\n",
              "    </button>\n",
              "\n",
              "  <style>\n",
              "    .colab-df-container {\n",
              "      display:flex;\n",
              "      gap: 12px;\n",
              "    }\n",
              "\n",
              "    .colab-df-convert {\n",
              "      background-color: #E8F0FE;\n",
              "      border: none;\n",
              "      border-radius: 50%;\n",
              "      cursor: pointer;\n",
              "      display: none;\n",
              "      fill: #1967D2;\n",
              "      height: 32px;\n",
              "      padding: 0 0 0 0;\n",
              "      width: 32px;\n",
              "    }\n",
              "\n",
              "    .colab-df-convert:hover {\n",
              "      background-color: #E2EBFA;\n",
              "      box-shadow: 0px 1px 2px rgba(60, 64, 67, 0.3), 0px 1px 3px 1px rgba(60, 64, 67, 0.15);\n",
              "      fill: #174EA6;\n",
              "    }\n",
              "\n",
              "    .colab-df-buttons div {\n",
              "      margin-bottom: 4px;\n",
              "    }\n",
              "\n",
              "    [theme=dark] .colab-df-convert {\n",
              "      background-color: #3B4455;\n",
              "      fill: #D2E3FC;\n",
              "    }\n",
              "\n",
              "    [theme=dark] .colab-df-convert:hover {\n",
              "      background-color: #434B5C;\n",
              "      box-shadow: 0px 1px 3px 1px rgba(0, 0, 0, 0.15);\n",
              "      filter: drop-shadow(0px 1px 2px rgba(0, 0, 0, 0.3));\n",
              "      fill: #FFFFFF;\n",
              "    }\n",
              "  </style>\n",
              "\n",
              "    <script>\n",
              "      const buttonEl =\n",
              "        document.querySelector('#df-bbc415cd-e688-474d-89dd-5df64764fefd button.colab-df-convert');\n",
              "      buttonEl.style.display =\n",
              "        google.colab.kernel.accessAllowed ? 'block' : 'none';\n",
              "\n",
              "      async function convertToInteractive(key) {\n",
              "        const element = document.querySelector('#df-bbc415cd-e688-474d-89dd-5df64764fefd');\n",
              "        const dataTable =\n",
              "          await google.colab.kernel.invokeFunction('convertToInteractive',\n",
              "                                                    [key], {});\n",
              "        if (!dataTable) return;\n",
              "\n",
              "        const docLinkHtml = 'Like what you see? Visit the ' +\n",
              "          '<a target=\"_blank\" href=https://colab.research.google.com/notebooks/data_table.ipynb>data table notebook</a>'\n",
              "          + ' to learn more about interactive tables.';\n",
              "        element.innerHTML = '';\n",
              "        dataTable['output_type'] = 'display_data';\n",
              "        await google.colab.output.renderOutput(dataTable, element);\n",
              "        const docLink = document.createElement('div');\n",
              "        docLink.innerHTML = docLinkHtml;\n",
              "        element.appendChild(docLink);\n",
              "      }\n",
              "    </script>\n",
              "  </div>\n",
              "\n",
              "\n",
              "<div id=\"df-4b14a4d7-75ad-4622-8f4c-15e6358bc226\">\n",
              "  <button class=\"colab-df-quickchart\" onclick=\"quickchart('df-4b14a4d7-75ad-4622-8f4c-15e6358bc226')\"\n",
              "            title=\"Suggest charts\"\n",
              "            style=\"display:none;\">\n",
              "\n",
              "<svg xmlns=\"http://www.w3.org/2000/svg\" height=\"24px\"viewBox=\"0 0 24 24\"\n",
              "     width=\"24px\">\n",
              "    <g>\n",
              "        <path d=\"M19 3H5c-1.1 0-2 .9-2 2v14c0 1.1.9 2 2 2h14c1.1 0 2-.9 2-2V5c0-1.1-.9-2-2-2zM9 17H7v-7h2v7zm4 0h-2V7h2v10zm4 0h-2v-4h2v4z\"/>\n",
              "    </g>\n",
              "</svg>\n",
              "  </button>\n",
              "\n",
              "<style>\n",
              "  .colab-df-quickchart {\n",
              "      --bg-color: #E8F0FE;\n",
              "      --fill-color: #1967D2;\n",
              "      --hover-bg-color: #E2EBFA;\n",
              "      --hover-fill-color: #174EA6;\n",
              "      --disabled-fill-color: #AAA;\n",
              "      --disabled-bg-color: #DDD;\n",
              "  }\n",
              "\n",
              "  [theme=dark] .colab-df-quickchart {\n",
              "      --bg-color: #3B4455;\n",
              "      --fill-color: #D2E3FC;\n",
              "      --hover-bg-color: #434B5C;\n",
              "      --hover-fill-color: #FFFFFF;\n",
              "      --disabled-bg-color: #3B4455;\n",
              "      --disabled-fill-color: #666;\n",
              "  }\n",
              "\n",
              "  .colab-df-quickchart {\n",
              "    background-color: var(--bg-color);\n",
              "    border: none;\n",
              "    border-radius: 50%;\n",
              "    cursor: pointer;\n",
              "    display: none;\n",
              "    fill: var(--fill-color);\n",
              "    height: 32px;\n",
              "    padding: 0;\n",
              "    width: 32px;\n",
              "  }\n",
              "\n",
              "  .colab-df-quickchart:hover {\n",
              "    background-color: var(--hover-bg-color);\n",
              "    box-shadow: 0 1px 2px rgba(60, 64, 67, 0.3), 0 1px 3px 1px rgba(60, 64, 67, 0.15);\n",
              "    fill: var(--button-hover-fill-color);\n",
              "  }\n",
              "\n",
              "  .colab-df-quickchart-complete:disabled,\n",
              "  .colab-df-quickchart-complete:disabled:hover {\n",
              "    background-color: var(--disabled-bg-color);\n",
              "    fill: var(--disabled-fill-color);\n",
              "    box-shadow: none;\n",
              "  }\n",
              "\n",
              "  .colab-df-spinner {\n",
              "    border: 2px solid var(--fill-color);\n",
              "    border-color: transparent;\n",
              "    border-bottom-color: var(--fill-color);\n",
              "    animation:\n",
              "      spin 1s steps(1) infinite;\n",
              "  }\n",
              "\n",
              "  @keyframes spin {\n",
              "    0% {\n",
              "      border-color: transparent;\n",
              "      border-bottom-color: var(--fill-color);\n",
              "      border-left-color: var(--fill-color);\n",
              "    }\n",
              "    20% {\n",
              "      border-color: transparent;\n",
              "      border-left-color: var(--fill-color);\n",
              "      border-top-color: var(--fill-color);\n",
              "    }\n",
              "    30% {\n",
              "      border-color: transparent;\n",
              "      border-left-color: var(--fill-color);\n",
              "      border-top-color: var(--fill-color);\n",
              "      border-right-color: var(--fill-color);\n",
              "    }\n",
              "    40% {\n",
              "      border-color: transparent;\n",
              "      border-right-color: var(--fill-color);\n",
              "      border-top-color: var(--fill-color);\n",
              "    }\n",
              "    60% {\n",
              "      border-color: transparent;\n",
              "      border-right-color: var(--fill-color);\n",
              "    }\n",
              "    80% {\n",
              "      border-color: transparent;\n",
              "      border-right-color: var(--fill-color);\n",
              "      border-bottom-color: var(--fill-color);\n",
              "    }\n",
              "    90% {\n",
              "      border-color: transparent;\n",
              "      border-bottom-color: var(--fill-color);\n",
              "    }\n",
              "  }\n",
              "</style>\n",
              "\n",
              "  <script>\n",
              "    async function quickchart(key) {\n",
              "      const quickchartButtonEl =\n",
              "        document.querySelector('#' + key + ' button');\n",
              "      quickchartButtonEl.disabled = true;  // To prevent multiple clicks.\n",
              "      quickchartButtonEl.classList.add('colab-df-spinner');\n",
              "      try {\n",
              "        const charts = await google.colab.kernel.invokeFunction(\n",
              "            'suggestCharts', [key], {});\n",
              "      } catch (error) {\n",
              "        console.error('Error during call to suggestCharts:', error);\n",
              "      }\n",
              "      quickchartButtonEl.classList.remove('colab-df-spinner');\n",
              "      quickchartButtonEl.classList.add('colab-df-quickchart-complete');\n",
              "    }\n",
              "    (() => {\n",
              "      let quickchartButtonEl =\n",
              "        document.querySelector('#df-4b14a4d7-75ad-4622-8f4c-15e6358bc226 button');\n",
              "      quickchartButtonEl.style.display =\n",
              "        google.colab.kernel.accessAllowed ? 'block' : 'none';\n",
              "    })();\n",
              "  </script>\n",
              "</div>\n",
              "\n",
              "  <div id=\"id_1480d22a-779d-499e-a9fc-32a9a1cfa727\">\n",
              "    <style>\n",
              "      .colab-df-generate {\n",
              "        background-color: #E8F0FE;\n",
              "        border: none;\n",
              "        border-radius: 50%;\n",
              "        cursor: pointer;\n",
              "        display: none;\n",
              "        fill: #1967D2;\n",
              "        height: 32px;\n",
              "        padding: 0 0 0 0;\n",
              "        width: 32px;\n",
              "      }\n",
              "\n",
              "      .colab-df-generate:hover {\n",
              "        background-color: #E2EBFA;\n",
              "        box-shadow: 0px 1px 2px rgba(60, 64, 67, 0.3), 0px 1px 3px 1px rgba(60, 64, 67, 0.15);\n",
              "        fill: #174EA6;\n",
              "      }\n",
              "\n",
              "      [theme=dark] .colab-df-generate {\n",
              "        background-color: #3B4455;\n",
              "        fill: #D2E3FC;\n",
              "      }\n",
              "\n",
              "      [theme=dark] .colab-df-generate:hover {\n",
              "        background-color: #434B5C;\n",
              "        box-shadow: 0px 1px 3px 1px rgba(0, 0, 0, 0.15);\n",
              "        filter: drop-shadow(0px 1px 2px rgba(0, 0, 0, 0.3));\n",
              "        fill: #FFFFFF;\n",
              "      }\n",
              "    </style>\n",
              "    <button class=\"colab-df-generate\" onclick=\"generateWithVariable('df_categorical_reindex')\"\n",
              "            title=\"Generate code using this dataframe.\"\n",
              "            style=\"display:none;\">\n",
              "\n",
              "  <svg xmlns=\"http://www.w3.org/2000/svg\" height=\"24px\"viewBox=\"0 0 24 24\"\n",
              "       width=\"24px\">\n",
              "    <path d=\"M7,19H8.4L18.45,9,17,7.55,7,17.6ZM5,21V16.75L18.45,3.32a2,2,0,0,1,2.83,0l1.4,1.43a1.91,1.91,0,0,1,.58,1.4,1.91,1.91,0,0,1-.58,1.4L9.25,21ZM18.45,9,17,7.55Zm-12,3A5.31,5.31,0,0,0,4.9,8.1,5.31,5.31,0,0,0,1,6.5,5.31,5.31,0,0,0,4.9,4.9,5.31,5.31,0,0,0,6.5,1,5.31,5.31,0,0,0,8.1,4.9,5.31,5.31,0,0,0,12,6.5,5.46,5.46,0,0,0,6.5,12Z\"/>\n",
              "  </svg>\n",
              "    </button>\n",
              "    <script>\n",
              "      (() => {\n",
              "      const buttonEl =\n",
              "        document.querySelector('#id_1480d22a-779d-499e-a9fc-32a9a1cfa727 button.colab-df-generate');\n",
              "      buttonEl.style.display =\n",
              "        google.colab.kernel.accessAllowed ? 'block' : 'none';\n",
              "\n",
              "      buttonEl.onclick = () => {\n",
              "        google.colab.notebook.generateWithVariable('df_categorical_reindex');\n",
              "      }\n",
              "      })();\n",
              "    </script>\n",
              "  </div>\n",
              "\n",
              "    </div>\n",
              "  </div>\n"
            ],
            "application/vnd.google.colaboratory.intrinsic+json": {
              "type": "dataframe",
              "variable_name": "df_categorical_reindex",
              "summary": "{\n  \"name\": \"df_categorical_reindex\",\n  \"rows\": 54599,\n  \"fields\": [\n    {\n      \"column\": \"vehicle_reference\",\n      \"properties\": {\n        \"dtype\": \"number\",\n        \"std\": 0,\n        \"min\": 1,\n        \"max\": 9,\n        \"num_unique_values\": 9,\n        \"samples\": [\n          9,\n          1,\n          8\n        ],\n        \"semantic_type\": \"\",\n        \"description\": \"\"\n      }\n    },\n    {\n      \"column\": \"casualty_reference\",\n      \"properties\": {\n        \"dtype\": \"number\",\n        \"std\": 0,\n        \"min\": 1,\n        \"max\": 22,\n        \"num_unique_values\": 17,\n        \"samples\": [\n          1,\n          3,\n          6\n        ],\n        \"semantic_type\": \"\",\n        \"description\": \"\"\n      }\n    },\n    {\n      \"column\": \"casualty_class\",\n      \"properties\": {\n        \"dtype\": \"number\",\n        \"std\": 0,\n        \"min\": 1,\n        \"max\": 3,\n        \"num_unique_values\": 3,\n        \"samples\": [\n          1,\n          3,\n          2\n        ],\n        \"semantic_type\": \"\",\n        \"description\": \"\"\n      }\n    },\n    {\n      \"column\": \"sex_of_casualty\",\n      \"properties\": {\n        \"dtype\": \"number\",\n        \"std\": 0.48654510711401316,\n        \"min\": 1.0,\n        \"max\": 2.0,\n        \"num_unique_values\": 2,\n        \"samples\": [\n          1.0,\n          2.0\n        ],\n        \"semantic_type\": \"\",\n        \"description\": \"\"\n      }\n    },\n    {\n      \"column\": \"age_of_casualty\",\n      \"properties\": {\n        \"dtype\": \"number\",\n        \"std\": 18.945671360117323,\n        \"min\": 0.0,\n        \"max\": 101.0,\n        \"num_unique_values\": 101,\n        \"samples\": [\n          4.0,\n          67.0\n        ],\n        \"semantic_type\": \"\",\n        \"description\": \"\"\n      }\n    },\n    {\n      \"column\": \"casualty_severity\",\n      \"properties\": {\n        \"dtype\": \"number\",\n        \"std\": 0,\n        \"min\": 1,\n        \"max\": 3,\n        \"num_unique_values\": 3,\n        \"samples\": [\n          3,\n          2\n        ],\n        \"semantic_type\": \"\",\n        \"description\": \"\"\n      }\n    },\n    {\n      \"column\": \"bus_or_coach_passenger\",\n      \"properties\": {\n        \"dtype\": \"number\",\n        \"std\": 0.3932237508560694,\n        \"min\": 0.0,\n        \"max\": 4.0,\n        \"num_unique_values\": 5,\n        \"samples\": [\n          4.0,\n          1.0\n        ],\n        \"semantic_type\": \"\",\n        \"description\": \"\"\n      }\n    },\n    {\n      \"column\": \"casualty_type\",\n      \"properties\": {\n        \"dtype\": \"number\",\n        \"std\": 16.670018851842208,\n        \"min\": 0.0,\n        \"max\": 98.0,\n        \"num_unique_values\": 21,\n        \"samples\": [\n          9.0,\n          10.0\n        ],\n        \"semantic_type\": \"\",\n        \"description\": \"\"\n      }\n    },\n    {\n      \"column\": \"casualty_home_area_type\",\n      \"properties\": {\n        \"dtype\": \"number\",\n        \"std\": 0.6517448907693928,\n        \"min\": 1.0,\n        \"max\": 3.0,\n        \"num_unique_values\": 3,\n        \"samples\": [\n          1.0,\n          2.0\n        ],\n        \"semantic_type\": \"\",\n        \"description\": \"\"\n      }\n    },\n    {\n      \"column\": \"casualty_imd_decile\",\n      \"properties\": {\n        \"dtype\": \"number\",\n        \"std\": 2.784890783777463,\n        \"min\": 1.0,\n        \"max\": 10.0,\n        \"num_unique_values\": 10,\n        \"samples\": [\n          1.0,\n          2.0\n        ],\n        \"semantic_type\": \"\",\n        \"description\": \"\"\n      }\n    }\n  ]\n}"
            }
          },
          "metadata": {},
          "execution_count": 10
        }
      ]
    },
    {
      "cell_type": "markdown",
      "source": [
        "## Deal with categorical columns"
      ],
      "metadata": {
        "id": "dld8Kw_NCpNv"
      }
    },
    {
      "cell_type": "code",
      "source": [
        "# name different categories to ba able to analyze better\n",
        "\n",
        "df_categorical_with_names = df_categorical_reindex.copy()"
      ],
      "metadata": {
        "id": "5BiCfo1BjEXw"
      },
      "execution_count": 11,
      "outputs": []
    },
    {
      "cell_type": "code",
      "source": [
        "col = 'casualty_imd_decile'\n",
        "df_categorical_with_names[col][(df_categorical_with_names[col]==2) |\n",
        "                               (df_categorical_with_names[col]==3) |\n",
        "                               (df_categorical_with_names[col]==1)] = 'more_deprived'\n",
        "df_categorical_with_names[col][(df_categorical_with_names[col]==4) |\n",
        "                               (df_categorical_with_names[col]==5) |\n",
        "                               (df_categorical_with_names[col]==6) |\n",
        "                               (df_categorical_with_names[col]==7)] = 'middle_deprived'\n",
        "df_categorical_with_names[col][(df_categorical_with_names[col]==8) |\n",
        "                               (df_categorical_with_names[col]==9) |\n",
        "                               (df_categorical_with_names[col]==10)] = 'less_deprived'\n",
        "df_categorical_with_names['casualty_imd_decile'].value_counts()"
      ],
      "metadata": {
        "colab": {
          "base_uri": "https://localhost:8080/"
        },
        "id": "w2PxXgA9C8f0",
        "outputId": "ea030e93-03cf-4eb8-d60e-8744816db945"
      },
      "execution_count": 12,
      "outputs": [
        {
          "output_type": "execute_result",
          "data": {
            "text/plain": [
              "middle_deprived    21947\n",
              "more_deprived      20557\n",
              "less_deprived      12095\n",
              "Name: casualty_imd_decile, dtype: int64"
            ]
          },
          "metadata": {},
          "execution_count": 12
        }
      ]
    },
    {
      "cell_type": "code",
      "source": [
        "col = 'casualty_home_area_type'\n",
        "df_categorical_with_names[col][df_categorical_with_names[col]==1] = 'Urban_area'\n",
        "df_categorical_with_names[col][(df_categorical_with_names[col]==2) |\n",
        "                               (df_categorical_with_names[col]==3)] = 'Rural or town'\n",
        "df_categorical_with_names[col].value_counts()"
      ],
      "metadata": {
        "colab": {
          "base_uri": "https://localhost:8080/"
        },
        "id": "4gghGu96F48a",
        "outputId": "9879409d-bb0d-4114-a80e-45f78e5af1f4"
      },
      "execution_count": 13,
      "outputs": [
        {
          "output_type": "execute_result",
          "data": {
            "text/plain": [
              "Urban_area       44220\n",
              "Rural or town    10379\n",
              "Name: casualty_home_area_type, dtype: int64"
            ]
          },
          "metadata": {},
          "execution_count": 13
        }
      ]
    },
    {
      "cell_type": "code",
      "source": [
        "col = 'casualty_type'\n",
        "df_categorical_with_names[col][df_categorical_with_names[col]==0] = 'Pedestrian'\n",
        "df_categorical_with_names[col][df_categorical_with_names[col]==1] = 'Cyclist'\n",
        "df_categorical_with_names[col][(df_categorical_with_names[col]==2) |\n",
        "                               (df_categorical_with_names[col]==3) |\n",
        "                               (df_categorical_with_names[col]==4) |\n",
        "                               (df_categorical_with_names[col]==5) |\n",
        "                               (df_categorical_with_names[col]==23) |\n",
        "                               (df_categorical_with_names[col]==97)] = 'Motorcycle'\n",
        "df_categorical_with_names[col][(df_categorical_with_names[col]==8) |\n",
        "                               (df_categorical_with_names[col]==9)] = 'Car'\n",
        "# df_categorical_with_names[col][df_categorical_with_names[col]==10] = 'Minibus'\n",
        "df_categorical_with_names[col][(df_categorical_with_names[col]==10) |\n",
        "                               (df_categorical_with_names[col]==11)] = 'Bus or Minibus'\n",
        "df_categorical_with_names[col][df_categorical_with_names[col]==16] = 'Horse_rider'\n",
        "df_categorical_with_names[col][df_categorical_with_names[col]==17] = 'Agricultural_vehicle'\n",
        "df_categorical_with_names[col][df_categorical_with_names[col]==18] = 'Tram_occupant'\n",
        "df_categorical_with_names[col][(df_categorical_with_names[col]==19) |\n",
        "                               (df_categorical_with_names[col]==20) |\n",
        "                               (df_categorical_with_names[col]==21) |\n",
        "                               (df_categorical_with_names[col]==98)] = 'Van'\n",
        "df_categorical_with_names[col][df_categorical_with_names[col]==90] = 'Other_vehicle_occupant'\n",
        "df_categorical_with_names[col][df_categorical_with_names[col]==22] = 'Scooter'\n",
        "\n",
        "df_categorical_with_names[col].value_counts()"
      ],
      "metadata": {
        "colab": {
          "base_uri": "https://localhost:8080/"
        },
        "id": "dE1w2vIrHhn7",
        "outputId": "6f00419e-d30d-4008-f53f-539c71965e9d"
      },
      "execution_count": 14,
      "outputs": [
        {
          "output_type": "execute_result",
          "data": {
            "text/plain": [
              "Car                       29784\n",
              "Pedestrian                 7781\n",
              "Motorcycle                 7015\n",
              "Cyclist                    6374\n",
              "Van                        1909\n",
              "Bus or Minibus              854\n",
              "Other_vehicle_occupant      723\n",
              "Scooter                     103\n",
              "Horse_rider                  28\n",
              "Agricultural_vehicle         27\n",
              "Tram_occupant                 1\n",
              "Name: casualty_type, dtype: int64"
            ]
          },
          "metadata": {},
          "execution_count": 14
        }
      ]
    },
    {
      "cell_type": "code",
      "source": [
        "df_categorical_with_names.drop(df_categorical_with_names[(df_categorical_with_names['casualty_type']=='Horse_rider') |\n",
        "                                                         (df_categorical_with_names['casualty_type']=='Agricultural_vehicle') |\n",
        "                                                         (df_categorical_with_names['casualty_type']=='Tram_occupant') |\n",
        "                                                         (df_categorical_with_names['casualty_type']=='Scooter')].index,\n",
        "                               inplace=True)\n",
        "df_categorical_with_names['casualty_type'].value_counts()"
      ],
      "metadata": {
        "colab": {
          "base_uri": "https://localhost:8080/"
        },
        "id": "c5a1nVwS0Woc",
        "outputId": "5c6e4e57-2061-40c2-c80a-7eedc494d710"
      },
      "execution_count": 15,
      "outputs": [
        {
          "output_type": "execute_result",
          "data": {
            "text/plain": [
              "Car                       29784\n",
              "Pedestrian                 7781\n",
              "Motorcycle                 7015\n",
              "Cyclist                    6374\n",
              "Van                        1909\n",
              "Bus or Minibus              854\n",
              "Other_vehicle_occupant      723\n",
              "Name: casualty_type, dtype: int64"
            ]
          },
          "metadata": {},
          "execution_count": 15
        }
      ]
    },
    {
      "cell_type": "code",
      "source": [
        "col = 'casualty_severity'\n",
        "df_categorical_with_names[col][df_categorical_with_names[col]==1] = 'Fatal'\n",
        "df_categorical_with_names[col][df_categorical_with_names[col]==2] = 'Serious'\n",
        "df_categorical_with_names[col][df_categorical_with_names[col]==3] = 'Slight'\n",
        "df_categorical_with_names[col].value_counts()"
      ],
      "metadata": {
        "colab": {
          "base_uri": "https://localhost:8080/"
        },
        "id": "8u2XIph5YWCu",
        "outputId": "72525aef-e32e-4a81-ca16-72cfd72e5770"
      },
      "execution_count": 16,
      "outputs": [
        {
          "output_type": "execute_result",
          "data": {
            "text/plain": [
              "Slight     43281\n",
              "Serious    10508\n",
              "Fatal        651\n",
              "Name: casualty_severity, dtype: int64"
            ]
          },
          "metadata": {},
          "execution_count": 16
        }
      ]
    },
    {
      "cell_type": "code",
      "source": [
        "col = 'sex_of_casualty'\n",
        "df_categorical_with_names[col][df_categorical_with_names[col]==1] = 'Male'\n",
        "df_categorical_with_names[col][df_categorical_with_names[col]==2] = 'Female'\n",
        "df_categorical_with_names[col].value_counts()"
      ],
      "metadata": {
        "colab": {
          "base_uri": "https://localhost:8080/"
        },
        "id": "zhu1ooPpZ_Wh",
        "outputId": "2ce30a5f-0515-4795-b198-ba722bb4af88"
      },
      "execution_count": 17,
      "outputs": [
        {
          "output_type": "execute_result",
          "data": {
            "text/plain": [
              "Male      33495\n",
              "Female    20945\n",
              "Name: sex_of_casualty, dtype: int64"
            ]
          },
          "metadata": {},
          "execution_count": 17
        }
      ]
    },
    {
      "cell_type": "code",
      "source": [
        "col = 'casualty_class'\n",
        "df_categorical_with_names[col][df_categorical_with_names[col]==1] = 'Driver or rider'\n",
        "df_categorical_with_names[col][df_categorical_with_names[col]==2] = 'Passenger'\n",
        "df_categorical_with_names[col][df_categorical_with_names[col]==3] = 'Pedestrian'\n",
        "df_categorical_with_names[col].value_counts()"
      ],
      "metadata": {
        "colab": {
          "base_uri": "https://localhost:8080/"
        },
        "id": "Iky7keILadmR",
        "outputId": "2d6cf839-b88d-4fc1-9c6f-6c3970076a9a"
      },
      "execution_count": 18,
      "outputs": [
        {
          "output_type": "execute_result",
          "data": {
            "text/plain": [
              "Driver or rider    37147\n",
              "Passenger           9512\n",
              "Pedestrian          7781\n",
              "Name: casualty_class, dtype: int64"
            ]
          },
          "metadata": {},
          "execution_count": 18
        }
      ]
    },
    {
      "cell_type": "code",
      "source": [
        "df_categorical_with_names['bus_or_coach_passenger'].value_counts()"
      ],
      "metadata": {
        "colab": {
          "base_uri": "https://localhost:8080/"
        },
        "id": "uWQYefm7igsm",
        "outputId": "6044329b-6007-47ac-f31f-a4f2768d88ef"
      },
      "execution_count": 19,
      "outputs": [
        {
          "output_type": "execute_result",
          "data": {
            "text/plain": [
              "0.0    53751\n",
              "4.0      392\n",
              "3.0      232\n",
              "2.0       40\n",
              "1.0       25\n",
              "Name: bus_or_coach_passenger, dtype: int64"
            ]
          },
          "metadata": {},
          "execution_count": 19
        }
      ]
    },
    {
      "cell_type": "code",
      "source": [
        "col = 'bus_or_coach_passenger'\n",
        "df_categorical_with_names[col][df_categorical_with_names[col]==1] = 'Boarding'\n",
        "df_categorical_with_names[col][df_categorical_with_names[col]==2] = 'Alighting'\n",
        "df_categorical_with_names[col][df_categorical_with_names[col]==3] = 'Standing passenger'\n",
        "df_categorical_with_names[col][df_categorical_with_names[col]==4] = 'Seated passenger'\n",
        "df_categorical_with_names[col].value_counts()"
      ],
      "metadata": {
        "colab": {
          "base_uri": "https://localhost:8080/"
        },
        "id": "ntK65UR0IJ1R",
        "outputId": "3651200c-bbc3-4ffd-8cc2-9517e1e560d5"
      },
      "execution_count": 21,
      "outputs": [
        {
          "output_type": "execute_result",
          "data": {
            "text/plain": [
              "0.0                   53751\n",
              "Seated passenger        392\n",
              "Standing passenger      232\n",
              "Alighting                40\n",
              "Boarding                 25\n",
              "Name: bus_or_coach_passenger, dtype: int64"
            ]
          },
          "metadata": {},
          "execution_count": 21
        }
      ]
    },
    {
      "cell_type": "code",
      "source": [
        "df_bus = df_categorical_with_names[df_categorical_with_names['bus_or_coach_passenger']!=0]\n",
        "df_bus"
      ],
      "metadata": {
        "id": "hmx23qk_PkM4",
        "colab": {
          "base_uri": "https://localhost:8080/",
          "height": 443
        },
        "outputId": "c5d57ff4-2f58-48a7-e3e4-b72692672899"
      },
      "execution_count": 22,
      "outputs": [
        {
          "output_type": "execute_result",
          "data": {
            "text/plain": [
              "       vehicle_reference  casualty_reference casualty_class sex_of_casualty  \\\n",
              "365                    2                   2      Passenger          Female   \n",
              "485                    1                   1      Passenger          Female   \n",
              "567                    1                   1      Passenger            Male   \n",
              "852                    1                   1      Passenger          Female   \n",
              "853                    1                   2      Passenger            Male   \n",
              "...                  ...                 ...            ...             ...   \n",
              "53470                  1                   1      Passenger            Male   \n",
              "53698                  1                   3      Passenger          Female   \n",
              "53813                  1                   1      Passenger            Male   \n",
              "53863                  1                   1      Passenger            Male   \n",
              "54134                  2                   1      Passenger            Male   \n",
              "\n",
              "       age_of_casualty casualty_severity bus_or_coach_passenger  \\\n",
              "365               14.0            Slight       Seated passenger   \n",
              "485               86.0           Serious     Standing passenger   \n",
              "567                2.0            Slight       Seated passenger   \n",
              "852               56.0            Slight       Seated passenger   \n",
              "853               18.0            Slight       Seated passenger   \n",
              "...                ...               ...                    ...   \n",
              "53470              4.0            Slight       Seated passenger   \n",
              "53698             22.0            Slight       Seated passenger   \n",
              "53813              0.0            Slight       Seated passenger   \n",
              "53863             67.0            Slight       Seated passenger   \n",
              "54134             65.0            Slight     Standing passenger   \n",
              "\n",
              "        casualty_type casualty_home_area_type casualty_imd_decile  \n",
              "365    Bus or Minibus              Urban_area       more_deprived  \n",
              "485    Bus or Minibus              Urban_area       less_deprived  \n",
              "567    Bus or Minibus              Urban_area       less_deprived  \n",
              "852    Bus or Minibus              Urban_area       more_deprived  \n",
              "853    Bus or Minibus              Urban_area       more_deprived  \n",
              "...               ...                     ...                 ...  \n",
              "53470  Bus or Minibus              Urban_area       less_deprived  \n",
              "53698  Bus or Minibus              Urban_area       more_deprived  \n",
              "53813  Bus or Minibus              Urban_area       less_deprived  \n",
              "53863  Bus or Minibus              Urban_area     middle_deprived  \n",
              "54134  Bus or Minibus              Urban_area     middle_deprived  \n",
              "\n",
              "[689 rows x 10 columns]"
            ],
            "text/html": [
              "\n",
              "  <div id=\"df-a83ab7ca-45ee-49fe-8dbf-9b23768cd0ef\" class=\"colab-df-container\">\n",
              "    <div>\n",
              "<style scoped>\n",
              "    .dataframe tbody tr th:only-of-type {\n",
              "        vertical-align: middle;\n",
              "    }\n",
              "\n",
              "    .dataframe tbody tr th {\n",
              "        vertical-align: top;\n",
              "    }\n",
              "\n",
              "    .dataframe thead th {\n",
              "        text-align: right;\n",
              "    }\n",
              "</style>\n",
              "<table border=\"1\" class=\"dataframe\">\n",
              "  <thead>\n",
              "    <tr style=\"text-align: right;\">\n",
              "      <th></th>\n",
              "      <th>vehicle_reference</th>\n",
              "      <th>casualty_reference</th>\n",
              "      <th>casualty_class</th>\n",
              "      <th>sex_of_casualty</th>\n",
              "      <th>age_of_casualty</th>\n",
              "      <th>casualty_severity</th>\n",
              "      <th>bus_or_coach_passenger</th>\n",
              "      <th>casualty_type</th>\n",
              "      <th>casualty_home_area_type</th>\n",
              "      <th>casualty_imd_decile</th>\n",
              "    </tr>\n",
              "  </thead>\n",
              "  <tbody>\n",
              "    <tr>\n",
              "      <th>365</th>\n",
              "      <td>2</td>\n",
              "      <td>2</td>\n",
              "      <td>Passenger</td>\n",
              "      <td>Female</td>\n",
              "      <td>14.0</td>\n",
              "      <td>Slight</td>\n",
              "      <td>Seated passenger</td>\n",
              "      <td>Bus or Minibus</td>\n",
              "      <td>Urban_area</td>\n",
              "      <td>more_deprived</td>\n",
              "    </tr>\n",
              "    <tr>\n",
              "      <th>485</th>\n",
              "      <td>1</td>\n",
              "      <td>1</td>\n",
              "      <td>Passenger</td>\n",
              "      <td>Female</td>\n",
              "      <td>86.0</td>\n",
              "      <td>Serious</td>\n",
              "      <td>Standing passenger</td>\n",
              "      <td>Bus or Minibus</td>\n",
              "      <td>Urban_area</td>\n",
              "      <td>less_deprived</td>\n",
              "    </tr>\n",
              "    <tr>\n",
              "      <th>567</th>\n",
              "      <td>1</td>\n",
              "      <td>1</td>\n",
              "      <td>Passenger</td>\n",
              "      <td>Male</td>\n",
              "      <td>2.0</td>\n",
              "      <td>Slight</td>\n",
              "      <td>Seated passenger</td>\n",
              "      <td>Bus or Minibus</td>\n",
              "      <td>Urban_area</td>\n",
              "      <td>less_deprived</td>\n",
              "    </tr>\n",
              "    <tr>\n",
              "      <th>852</th>\n",
              "      <td>1</td>\n",
              "      <td>1</td>\n",
              "      <td>Passenger</td>\n",
              "      <td>Female</td>\n",
              "      <td>56.0</td>\n",
              "      <td>Slight</td>\n",
              "      <td>Seated passenger</td>\n",
              "      <td>Bus or Minibus</td>\n",
              "      <td>Urban_area</td>\n",
              "      <td>more_deprived</td>\n",
              "    </tr>\n",
              "    <tr>\n",
              "      <th>853</th>\n",
              "      <td>1</td>\n",
              "      <td>2</td>\n",
              "      <td>Passenger</td>\n",
              "      <td>Male</td>\n",
              "      <td>18.0</td>\n",
              "      <td>Slight</td>\n",
              "      <td>Seated passenger</td>\n",
              "      <td>Bus or Minibus</td>\n",
              "      <td>Urban_area</td>\n",
              "      <td>more_deprived</td>\n",
              "    </tr>\n",
              "    <tr>\n",
              "      <th>...</th>\n",
              "      <td>...</td>\n",
              "      <td>...</td>\n",
              "      <td>...</td>\n",
              "      <td>...</td>\n",
              "      <td>...</td>\n",
              "      <td>...</td>\n",
              "      <td>...</td>\n",
              "      <td>...</td>\n",
              "      <td>...</td>\n",
              "      <td>...</td>\n",
              "    </tr>\n",
              "    <tr>\n",
              "      <th>53470</th>\n",
              "      <td>1</td>\n",
              "      <td>1</td>\n",
              "      <td>Passenger</td>\n",
              "      <td>Male</td>\n",
              "      <td>4.0</td>\n",
              "      <td>Slight</td>\n",
              "      <td>Seated passenger</td>\n",
              "      <td>Bus or Minibus</td>\n",
              "      <td>Urban_area</td>\n",
              "      <td>less_deprived</td>\n",
              "    </tr>\n",
              "    <tr>\n",
              "      <th>53698</th>\n",
              "      <td>1</td>\n",
              "      <td>3</td>\n",
              "      <td>Passenger</td>\n",
              "      <td>Female</td>\n",
              "      <td>22.0</td>\n",
              "      <td>Slight</td>\n",
              "      <td>Seated passenger</td>\n",
              "      <td>Bus or Minibus</td>\n",
              "      <td>Urban_area</td>\n",
              "      <td>more_deprived</td>\n",
              "    </tr>\n",
              "    <tr>\n",
              "      <th>53813</th>\n",
              "      <td>1</td>\n",
              "      <td>1</td>\n",
              "      <td>Passenger</td>\n",
              "      <td>Male</td>\n",
              "      <td>0.0</td>\n",
              "      <td>Slight</td>\n",
              "      <td>Seated passenger</td>\n",
              "      <td>Bus or Minibus</td>\n",
              "      <td>Urban_area</td>\n",
              "      <td>less_deprived</td>\n",
              "    </tr>\n",
              "    <tr>\n",
              "      <th>53863</th>\n",
              "      <td>1</td>\n",
              "      <td>1</td>\n",
              "      <td>Passenger</td>\n",
              "      <td>Male</td>\n",
              "      <td>67.0</td>\n",
              "      <td>Slight</td>\n",
              "      <td>Seated passenger</td>\n",
              "      <td>Bus or Minibus</td>\n",
              "      <td>Urban_area</td>\n",
              "      <td>middle_deprived</td>\n",
              "    </tr>\n",
              "    <tr>\n",
              "      <th>54134</th>\n",
              "      <td>2</td>\n",
              "      <td>1</td>\n",
              "      <td>Passenger</td>\n",
              "      <td>Male</td>\n",
              "      <td>65.0</td>\n",
              "      <td>Slight</td>\n",
              "      <td>Standing passenger</td>\n",
              "      <td>Bus or Minibus</td>\n",
              "      <td>Urban_area</td>\n",
              "      <td>middle_deprived</td>\n",
              "    </tr>\n",
              "  </tbody>\n",
              "</table>\n",
              "<p>689 rows × 10 columns</p>\n",
              "</div>\n",
              "    <div class=\"colab-df-buttons\">\n",
              "\n",
              "  <div class=\"colab-df-container\">\n",
              "    <button class=\"colab-df-convert\" onclick=\"convertToInteractive('df-a83ab7ca-45ee-49fe-8dbf-9b23768cd0ef')\"\n",
              "            title=\"Convert this dataframe to an interactive table.\"\n",
              "            style=\"display:none;\">\n",
              "\n",
              "  <svg xmlns=\"http://www.w3.org/2000/svg\" height=\"24px\" viewBox=\"0 -960 960 960\">\n",
              "    <path d=\"M120-120v-720h720v720H120Zm60-500h600v-160H180v160Zm220 220h160v-160H400v160Zm0 220h160v-160H400v160ZM180-400h160v-160H180v160Zm440 0h160v-160H620v160ZM180-180h160v-160H180v160Zm440 0h160v-160H620v160Z\"/>\n",
              "  </svg>\n",
              "    </button>\n",
              "\n",
              "  <style>\n",
              "    .colab-df-container {\n",
              "      display:flex;\n",
              "      gap: 12px;\n",
              "    }\n",
              "\n",
              "    .colab-df-convert {\n",
              "      background-color: #E8F0FE;\n",
              "      border: none;\n",
              "      border-radius: 50%;\n",
              "      cursor: pointer;\n",
              "      display: none;\n",
              "      fill: #1967D2;\n",
              "      height: 32px;\n",
              "      padding: 0 0 0 0;\n",
              "      width: 32px;\n",
              "    }\n",
              "\n",
              "    .colab-df-convert:hover {\n",
              "      background-color: #E2EBFA;\n",
              "      box-shadow: 0px 1px 2px rgba(60, 64, 67, 0.3), 0px 1px 3px 1px rgba(60, 64, 67, 0.15);\n",
              "      fill: #174EA6;\n",
              "    }\n",
              "\n",
              "    .colab-df-buttons div {\n",
              "      margin-bottom: 4px;\n",
              "    }\n",
              "\n",
              "    [theme=dark] .colab-df-convert {\n",
              "      background-color: #3B4455;\n",
              "      fill: #D2E3FC;\n",
              "    }\n",
              "\n",
              "    [theme=dark] .colab-df-convert:hover {\n",
              "      background-color: #434B5C;\n",
              "      box-shadow: 0px 1px 3px 1px rgba(0, 0, 0, 0.15);\n",
              "      filter: drop-shadow(0px 1px 2px rgba(0, 0, 0, 0.3));\n",
              "      fill: #FFFFFF;\n",
              "    }\n",
              "  </style>\n",
              "\n",
              "    <script>\n",
              "      const buttonEl =\n",
              "        document.querySelector('#df-a83ab7ca-45ee-49fe-8dbf-9b23768cd0ef button.colab-df-convert');\n",
              "      buttonEl.style.display =\n",
              "        google.colab.kernel.accessAllowed ? 'block' : 'none';\n",
              "\n",
              "      async function convertToInteractive(key) {\n",
              "        const element = document.querySelector('#df-a83ab7ca-45ee-49fe-8dbf-9b23768cd0ef');\n",
              "        const dataTable =\n",
              "          await google.colab.kernel.invokeFunction('convertToInteractive',\n",
              "                                                    [key], {});\n",
              "        if (!dataTable) return;\n",
              "\n",
              "        const docLinkHtml = 'Like what you see? Visit the ' +\n",
              "          '<a target=\"_blank\" href=https://colab.research.google.com/notebooks/data_table.ipynb>data table notebook</a>'\n",
              "          + ' to learn more about interactive tables.';\n",
              "        element.innerHTML = '';\n",
              "        dataTable['output_type'] = 'display_data';\n",
              "        await google.colab.output.renderOutput(dataTable, element);\n",
              "        const docLink = document.createElement('div');\n",
              "        docLink.innerHTML = docLinkHtml;\n",
              "        element.appendChild(docLink);\n",
              "      }\n",
              "    </script>\n",
              "  </div>\n",
              "\n",
              "\n",
              "<div id=\"df-1634c628-dae8-4f0f-a086-d26c994ef0f5\">\n",
              "  <button class=\"colab-df-quickchart\" onclick=\"quickchart('df-1634c628-dae8-4f0f-a086-d26c994ef0f5')\"\n",
              "            title=\"Suggest charts\"\n",
              "            style=\"display:none;\">\n",
              "\n",
              "<svg xmlns=\"http://www.w3.org/2000/svg\" height=\"24px\"viewBox=\"0 0 24 24\"\n",
              "     width=\"24px\">\n",
              "    <g>\n",
              "        <path d=\"M19 3H5c-1.1 0-2 .9-2 2v14c0 1.1.9 2 2 2h14c1.1 0 2-.9 2-2V5c0-1.1-.9-2-2-2zM9 17H7v-7h2v7zm4 0h-2V7h2v10zm4 0h-2v-4h2v4z\"/>\n",
              "    </g>\n",
              "</svg>\n",
              "  </button>\n",
              "\n",
              "<style>\n",
              "  .colab-df-quickchart {\n",
              "      --bg-color: #E8F0FE;\n",
              "      --fill-color: #1967D2;\n",
              "      --hover-bg-color: #E2EBFA;\n",
              "      --hover-fill-color: #174EA6;\n",
              "      --disabled-fill-color: #AAA;\n",
              "      --disabled-bg-color: #DDD;\n",
              "  }\n",
              "\n",
              "  [theme=dark] .colab-df-quickchart {\n",
              "      --bg-color: #3B4455;\n",
              "      --fill-color: #D2E3FC;\n",
              "      --hover-bg-color: #434B5C;\n",
              "      --hover-fill-color: #FFFFFF;\n",
              "      --disabled-bg-color: #3B4455;\n",
              "      --disabled-fill-color: #666;\n",
              "  }\n",
              "\n",
              "  .colab-df-quickchart {\n",
              "    background-color: var(--bg-color);\n",
              "    border: none;\n",
              "    border-radius: 50%;\n",
              "    cursor: pointer;\n",
              "    display: none;\n",
              "    fill: var(--fill-color);\n",
              "    height: 32px;\n",
              "    padding: 0;\n",
              "    width: 32px;\n",
              "  }\n",
              "\n",
              "  .colab-df-quickchart:hover {\n",
              "    background-color: var(--hover-bg-color);\n",
              "    box-shadow: 0 1px 2px rgba(60, 64, 67, 0.3), 0 1px 3px 1px rgba(60, 64, 67, 0.15);\n",
              "    fill: var(--button-hover-fill-color);\n",
              "  }\n",
              "\n",
              "  .colab-df-quickchart-complete:disabled,\n",
              "  .colab-df-quickchart-complete:disabled:hover {\n",
              "    background-color: var(--disabled-bg-color);\n",
              "    fill: var(--disabled-fill-color);\n",
              "    box-shadow: none;\n",
              "  }\n",
              "\n",
              "  .colab-df-spinner {\n",
              "    border: 2px solid var(--fill-color);\n",
              "    border-color: transparent;\n",
              "    border-bottom-color: var(--fill-color);\n",
              "    animation:\n",
              "      spin 1s steps(1) infinite;\n",
              "  }\n",
              "\n",
              "  @keyframes spin {\n",
              "    0% {\n",
              "      border-color: transparent;\n",
              "      border-bottom-color: var(--fill-color);\n",
              "      border-left-color: var(--fill-color);\n",
              "    }\n",
              "    20% {\n",
              "      border-color: transparent;\n",
              "      border-left-color: var(--fill-color);\n",
              "      border-top-color: var(--fill-color);\n",
              "    }\n",
              "    30% {\n",
              "      border-color: transparent;\n",
              "      border-left-color: var(--fill-color);\n",
              "      border-top-color: var(--fill-color);\n",
              "      border-right-color: var(--fill-color);\n",
              "    }\n",
              "    40% {\n",
              "      border-color: transparent;\n",
              "      border-right-color: var(--fill-color);\n",
              "      border-top-color: var(--fill-color);\n",
              "    }\n",
              "    60% {\n",
              "      border-color: transparent;\n",
              "      border-right-color: var(--fill-color);\n",
              "    }\n",
              "    80% {\n",
              "      border-color: transparent;\n",
              "      border-right-color: var(--fill-color);\n",
              "      border-bottom-color: var(--fill-color);\n",
              "    }\n",
              "    90% {\n",
              "      border-color: transparent;\n",
              "      border-bottom-color: var(--fill-color);\n",
              "    }\n",
              "  }\n",
              "</style>\n",
              "\n",
              "  <script>\n",
              "    async function quickchart(key) {\n",
              "      const quickchartButtonEl =\n",
              "        document.querySelector('#' + key + ' button');\n",
              "      quickchartButtonEl.disabled = true;  // To prevent multiple clicks.\n",
              "      quickchartButtonEl.classList.add('colab-df-spinner');\n",
              "      try {\n",
              "        const charts = await google.colab.kernel.invokeFunction(\n",
              "            'suggestCharts', [key], {});\n",
              "      } catch (error) {\n",
              "        console.error('Error during call to suggestCharts:', error);\n",
              "      }\n",
              "      quickchartButtonEl.classList.remove('colab-df-spinner');\n",
              "      quickchartButtonEl.classList.add('colab-df-quickchart-complete');\n",
              "    }\n",
              "    (() => {\n",
              "      let quickchartButtonEl =\n",
              "        document.querySelector('#df-1634c628-dae8-4f0f-a086-d26c994ef0f5 button');\n",
              "      quickchartButtonEl.style.display =\n",
              "        google.colab.kernel.accessAllowed ? 'block' : 'none';\n",
              "    })();\n",
              "  </script>\n",
              "</div>\n",
              "\n",
              "  <div id=\"id_3882f892-31d4-430f-ad39-468618b2e401\">\n",
              "    <style>\n",
              "      .colab-df-generate {\n",
              "        background-color: #E8F0FE;\n",
              "        border: none;\n",
              "        border-radius: 50%;\n",
              "        cursor: pointer;\n",
              "        display: none;\n",
              "        fill: #1967D2;\n",
              "        height: 32px;\n",
              "        padding: 0 0 0 0;\n",
              "        width: 32px;\n",
              "      }\n",
              "\n",
              "      .colab-df-generate:hover {\n",
              "        background-color: #E2EBFA;\n",
              "        box-shadow: 0px 1px 2px rgba(60, 64, 67, 0.3), 0px 1px 3px 1px rgba(60, 64, 67, 0.15);\n",
              "        fill: #174EA6;\n",
              "      }\n",
              "\n",
              "      [theme=dark] .colab-df-generate {\n",
              "        background-color: #3B4455;\n",
              "        fill: #D2E3FC;\n",
              "      }\n",
              "\n",
              "      [theme=dark] .colab-df-generate:hover {\n",
              "        background-color: #434B5C;\n",
              "        box-shadow: 0px 1px 3px 1px rgba(0, 0, 0, 0.15);\n",
              "        filter: drop-shadow(0px 1px 2px rgba(0, 0, 0, 0.3));\n",
              "        fill: #FFFFFF;\n",
              "      }\n",
              "    </style>\n",
              "    <button class=\"colab-df-generate\" onclick=\"generateWithVariable('df_bus')\"\n",
              "            title=\"Generate code using this dataframe.\"\n",
              "            style=\"display:none;\">\n",
              "\n",
              "  <svg xmlns=\"http://www.w3.org/2000/svg\" height=\"24px\"viewBox=\"0 0 24 24\"\n",
              "       width=\"24px\">\n",
              "    <path d=\"M7,19H8.4L18.45,9,17,7.55,7,17.6ZM5,21V16.75L18.45,3.32a2,2,0,0,1,2.83,0l1.4,1.43a1.91,1.91,0,0,1,.58,1.4,1.91,1.91,0,0,1-.58,1.4L9.25,21ZM18.45,9,17,7.55Zm-12,3A5.31,5.31,0,0,0,4.9,8.1,5.31,5.31,0,0,0,1,6.5,5.31,5.31,0,0,0,4.9,4.9,5.31,5.31,0,0,0,6.5,1,5.31,5.31,0,0,0,8.1,4.9,5.31,5.31,0,0,0,12,6.5,5.46,5.46,0,0,0,6.5,12Z\"/>\n",
              "  </svg>\n",
              "    </button>\n",
              "    <script>\n",
              "      (() => {\n",
              "      const buttonEl =\n",
              "        document.querySelector('#id_3882f892-31d4-430f-ad39-468618b2e401 button.colab-df-generate');\n",
              "      buttonEl.style.display =\n",
              "        google.colab.kernel.accessAllowed ? 'block' : 'none';\n",
              "\n",
              "      buttonEl.onclick = () => {\n",
              "        google.colab.notebook.generateWithVariable('df_bus');\n",
              "      }\n",
              "      })();\n",
              "    </script>\n",
              "  </div>\n",
              "\n",
              "    </div>\n",
              "  </div>\n"
            ],
            "application/vnd.google.colaboratory.intrinsic+json": {
              "type": "dataframe",
              "variable_name": "df_bus",
              "summary": "{\n  \"name\": \"df_bus\",\n  \"rows\": 689,\n  \"fields\": [\n    {\n      \"column\": \"vehicle_reference\",\n      \"properties\": {\n        \"dtype\": \"number\",\n        \"std\": 0,\n        \"min\": 1,\n        \"max\": 5,\n        \"num_unique_values\": 4,\n        \"samples\": [\n          1,\n          5,\n          2\n        ],\n        \"semantic_type\": \"\",\n        \"description\": \"\"\n      }\n    },\n    {\n      \"column\": \"casualty_reference\",\n      \"properties\": {\n        \"dtype\": \"number\",\n        \"std\": 2,\n        \"min\": 1,\n        \"max\": 16,\n        \"num_unique_values\": 16,\n        \"samples\": [\n          2,\n          1,\n          7\n        ],\n        \"semantic_type\": \"\",\n        \"description\": \"\"\n      }\n    },\n    {\n      \"column\": \"casualty_class\",\n      \"properties\": {\n        \"dtype\": \"category\",\n        \"num_unique_values\": 1,\n        \"samples\": [\n          \"Passenger\"\n        ],\n        \"semantic_type\": \"\",\n        \"description\": \"\"\n      }\n    },\n    {\n      \"column\": \"sex_of_casualty\",\n      \"properties\": {\n        \"dtype\": \"category\",\n        \"num_unique_values\": 2,\n        \"samples\": [\n          \"Male\"\n        ],\n        \"semantic_type\": \"\",\n        \"description\": \"\"\n      }\n    },\n    {\n      \"column\": \"age_of_casualty\",\n      \"properties\": {\n        \"dtype\": \"number\",\n        \"std\": 25.515156960487843,\n        \"min\": 0.0,\n        \"max\": 98.0,\n        \"num_unique_values\": 95,\n        \"samples\": [\n          68.0\n        ],\n        \"semantic_type\": \"\",\n        \"description\": \"\"\n      }\n    },\n    {\n      \"column\": \"casualty_severity\",\n      \"properties\": {\n        \"dtype\": \"category\",\n        \"num_unique_values\": 3,\n        \"samples\": [\n          \"Slight\"\n        ],\n        \"semantic_type\": \"\",\n        \"description\": \"\"\n      }\n    },\n    {\n      \"column\": \"bus_or_coach_passenger\",\n      \"properties\": {\n        \"dtype\": \"category\",\n        \"num_unique_values\": 4,\n        \"samples\": [\n          \"Standing passenger\"\n        ],\n        \"semantic_type\": \"\",\n        \"description\": \"\"\n      }\n    },\n    {\n      \"column\": \"casualty_type\",\n      \"properties\": {\n        \"dtype\": \"category\",\n        \"num_unique_values\": 2,\n        \"samples\": [\n          \"Car\"\n        ],\n        \"semantic_type\": \"\",\n        \"description\": \"\"\n      }\n    },\n    {\n      \"column\": \"casualty_home_area_type\",\n      \"properties\": {\n        \"dtype\": \"category\",\n        \"num_unique_values\": 2,\n        \"samples\": [\n          \"Rural or town\"\n        ],\n        \"semantic_type\": \"\",\n        \"description\": \"\"\n      }\n    },\n    {\n      \"column\": \"casualty_imd_decile\",\n      \"properties\": {\n        \"dtype\": \"category\",\n        \"num_unique_values\": 3,\n        \"samples\": [\n          \"more_deprived\"\n        ],\n        \"semantic_type\": \"\",\n        \"description\": \"\"\n      }\n    }\n  ]\n}"
            }
          },
          "metadata": {},
          "execution_count": 22
        }
      ]
    },
    {
      "cell_type": "code",
      "source": [
        "df_bus['bus_or_coach_passenger'].value_counts()"
      ],
      "metadata": {
        "colab": {
          "base_uri": "https://localhost:8080/"
        },
        "id": "eSP9akdhUJqz",
        "outputId": "2d537e83-8a52-46e5-f006-12cb054083f2"
      },
      "execution_count": 23,
      "outputs": [
        {
          "output_type": "execute_result",
          "data": {
            "text/plain": [
              "Seated passenger      392\n",
              "Standing passenger    232\n",
              "Alighting              40\n",
              "Boarding               25\n",
              "Name: bus_or_coach_passenger, dtype: int64"
            ]
          },
          "metadata": {},
          "execution_count": 23
        }
      ]
    },
    {
      "cell_type": "code",
      "source": [
        "df_bus['casualty_class'].value_counts()"
      ],
      "metadata": {
        "colab": {
          "base_uri": "https://localhost:8080/"
        },
        "id": "Y0pAOIQlmTfl",
        "outputId": "52587bb2-09af-4f1d-de10-68199bbbb5d9"
      },
      "execution_count": 24,
      "outputs": [
        {
          "output_type": "execute_result",
          "data": {
            "text/plain": [
              "Passenger    689\n",
              "Name: casualty_class, dtype: int64"
            ]
          },
          "metadata": {},
          "execution_count": 24
        }
      ]
    },
    {
      "cell_type": "markdown",
      "metadata": {
        "id": "q8_S4OIqSsxi"
      },
      "source": [
        "# **EDA**"
      ]
    },
    {
      "cell_type": "markdown",
      "source": [
        "**It seems that we can consider casualty_severity as the target column for any supervised algorithm**"
      ],
      "metadata": {
        "id": "wH3-p-Xyrnks"
      }
    },
    {
      "cell_type": "code",
      "source": [
        "df_bus.duplicated().any()"
      ],
      "metadata": {
        "colab": {
          "base_uri": "https://localhost:8080/"
        },
        "id": "KUlu2JMwrRC2",
        "outputId": "2bc270ce-e911-4df7-c3a8-8fc74e72efb0"
      },
      "execution_count": 25,
      "outputs": [
        {
          "output_type": "execute_result",
          "data": {
            "text/plain": [
              "True"
            ]
          },
          "metadata": {},
          "execution_count": 25
        }
      ]
    },
    {
      "cell_type": "markdown",
      "source": [
        "### Plot's functions"
      ],
      "metadata": {
        "id": "26C-kY8bs5c8"
      }
    },
    {
      "cell_type": "code",
      "source": [
        "def plot_numerical_histogram(df: pd.DataFrame,\n",
        "                             col: str,\n",
        "                             x_label: str,\n",
        "                             title: str,\n",
        "                             ):\n",
        "  plt.rcParams[\"font.size\"] = 14\n",
        "  fig, (ax_hist, ax_box) = plt.subplots(\n",
        "      2, sharex=True, gridspec_kw={\"height_ratios\": (0.85, 0.15)}, figsize=(16, 8)\n",
        "  )\n",
        "  # boxplot (seaborn)\n",
        "  sns.boxplot(x=df[col], color=\"gray\", ax=ax_box)\n",
        "  ax_box.set(xlabel=\"\")\n",
        "  # histogram (matplotlib)\n",
        "  ax_hist.hist(df[col], bins=40, density=True, color=\"gray\")\n",
        "  # kde plot (pandas series)\n",
        "  min_, max_ = plt.xlim()\n",
        "  plt.xlim(min_, max_)\n",
        "\n",
        "  ax_hist.set_title(\n",
        "      title,\n",
        "      weight=\"bold\",\n",
        "      color=\"gray\",\n",
        "      fontsize=18,\n",
        "      loc=\"left\",\n",
        "  )\n",
        "\n",
        "  ax_hist.set_xlabel(x_label, loc=\"left\", weight=\"bold\", fontsize=14, color=\"gray\")\n",
        "\n",
        "  ax_hist.set_ylabel(\n",
        "      \"Density\",\n",
        "      loc=\"bottom\",\n",
        "      weight=\"bold\",\n",
        "      fontsize=14,\n",
        "      color=\"gray\",\n",
        "  )\n",
        "\n",
        "  ax_box.spines[[\"right\", \"top\", \"left\", \"bottom\"]].set_visible(False)\n",
        "\n",
        "  ax_hist.spines[[\"right\", \"top\"]].set_visible(False)\n",
        "  ax_hist.ticklabel_format(axis=\"x\", style=\"plain\")\n",
        "  ax_hist.tick_params(axis=\"x\", colors=\"gray\", labelsize=\"large\")\n",
        "  ax_hist.tick_params(axis=\"y\", colors=\"gray\", labelsize=\"large\")\n",
        "\n",
        "  df[col].plot.kde(color=\"lightcoral\", linewidth=3, ax=ax_hist)\n",
        "\n",
        "  plt.tight_layout()\n",
        "  plt.show()"
      ],
      "metadata": {
        "id": "2mj7dowds90B"
      },
      "execution_count": 26,
      "outputs": []
    },
    {
      "cell_type": "code",
      "source": [
        "def plot_grouped_barplot(df: pd.DataFrame,\n",
        "                         cols: list[str]=None,\n",
        "                         x_label: str=None,\n",
        "                         title: str='',\n",
        "                         width=0.8,\n",
        "                         annotate=\"values\",\n",
        "                         ax=None,\n",
        "                         figsize=None,\n",
        "                         rotation_angle: int=None,\n",
        "                         **kw):\n",
        "    # data preparation\n",
        "    counts_df = df.groupby(cols).size().unstack().copy()\n",
        "    # convert counts to percentages\n",
        "    for i in counts_df.index:\n",
        "      for col in counts_df.columns:\n",
        "        counts_df.loc[i] = np.round(100*(counts_df.loc[i]/counts_df.loc[i, :].sum()), 1)\n",
        "    # plot\n",
        "    if figsize:\n",
        "      plt.figure(figsize=figsize)\n",
        "    ax = ax or plt.gca()\n",
        "    n = len(counts_df.columns)\n",
        "    w = 1./n\n",
        "    pos = (np.linspace(w/2., 1-w/2., n)-0.5)*width\n",
        "    w *= width\n",
        "    bars = []\n",
        "    for col, x in zip(counts_df.columns, pos):\n",
        "        bars.append(ax.bar(np.arange(len(counts_df))+x, counts_df[col].values, width=w, label=col, **kw))\n",
        "        for val, xi in zip(counts_df[col].values, np.arange(len(counts_df))+x):\n",
        "            if annotate:\n",
        "                txt = str(val)+'%' if annotate == \"values\" else col\n",
        "                ax.annotate(txt, xy=(xi, val), xytext=(0,2),\n",
        "                            textcoords=\"offset points\",\n",
        "                            ha=\"center\", va=\"bottom\", color='gray')\n",
        "    ax.set_xticks(np.arange(len(counts_df)))\n",
        "    ax.set_xticklabels(counts_df.index)\n",
        "    ax.set_title(\n",
        "        title,\n",
        "        pad=30,\n",
        "        weight=\"bold\",\n",
        "        color=\"gray\",\n",
        "        fontsize=12,\n",
        "        loc=\"left\",\n",
        "    )\n",
        "\n",
        "    ax.set_xlabel(x_label, loc=\"left\", weight=\"bold\", fontsize=12, color='#585858')\n",
        "\n",
        "    ax.spines[[\"right\", \"top\"]].set_visible(False)\n",
        "\n",
        "    ax.tick_params(axis=\"x\", colors=\"gray\", labelsize=\"medium\")\n",
        "    ax.tick_params(left=False)\n",
        "\n",
        "    if rotation_angle:\n",
        "      plt.xticks(rotation=rotation_angle)\n",
        "    plt.rc('axes',edgecolor='gray')\n",
        "\n",
        "    plt.tight_layout()\n",
        "    ax.legend()\n",
        "    sns.move_legend(ax, \"upper left\", bbox_to_anchor=(1, 1))\n",
        "    plt.show()\n",
        "    return bars"
      ],
      "metadata": {
        "id": "FZwfy1ldMR0z"
      },
      "execution_count": 27,
      "outputs": []
    },
    {
      "cell_type": "markdown",
      "source": [
        "### Numerical columns"
      ],
      "metadata": {
        "id": "SwhvCpKEsE4B"
      }
    },
    {
      "cell_type": "code",
      "source": [
        "plot_numerical_histogram(df=df_bus,\n",
        "                         col=\"age_of_casualty\",\n",
        "                         x_label=\"Age\",\n",
        "                         title=\"Age of casualty histogram\",\n",
        "                         )"
      ],
      "metadata": {
        "colab": {
          "base_uri": "https://localhost:8080/",
          "height": 685
        },
        "id": "0vBJREqq0Wyy",
        "outputId": "c361d542-43c9-4a5e-aa52-3f93419e71ae"
      },
      "execution_count": 28,
      "outputs": [
        {
          "output_type": "display_data",
          "data": {
            "text/plain": [
              "<Figure size 1600x800 with 2 Axes>"
            ],
            "image/png": "[encoded data removed]"
          },
          "metadata": {}
        }
      ]
    },
    {
      "cell_type": "markdown",
      "source": [
        "### Categorical columns"
      ],
      "metadata": {
        "id": "XKptqkt-DTrj"
      }
    },
    {
      "cell_type": "code",
      "source": [
        "sns.set_palette(\"mako\")"
      ],
      "metadata": {
        "id": "U0MJuqJyJhyS"
      },
      "execution_count": 29,
      "outputs": []
    },
    {
      "cell_type": "code",
      "source": [
        "plot_grouped_barplot(df=df_bus,\n",
        "                     cols=['bus_or_coach_passenger', 'casualty_severity'],\n",
        "                     x_label='Bus or coach passenger passenger',\n",
        "                     title='Casualty severity in each type of bus passangers',\n",
        "                     width=0.8,\n",
        "                     annotate=\"values\",\n",
        "                     figsize=(8, 7),\n",
        "                     rotation_angle=25)"
      ],
      "metadata": {
        "colab": {
          "base_uri": "https://localhost:8080/",
          "height": 747
        },
        "id": "eSI3I2d3nqS2",
        "outputId": "a031dce1-b58c-42e7-ba5b-4deb6d28a154"
      },
      "execution_count": 39,
      "outputs": [
        {
          "output_type": "display_data",
          "data": {
            "text/plain": [
              "<Figure size 800x700 with 1 Axes>"
            ],
            "image/png": "[encoded data removed]"
          },
          "metadata": {}
        },
        {
          "output_type": "execute_result",
          "data": {
            "text/plain": [
              "[<BarContainer object of 4 artists>,\n",
              " <BarContainer object of 4 artists>,\n",
              " <BarContainer object of 4 artists>]"
            ]
          },
          "metadata": {},
          "execution_count": 39
        }
      ]
    }
  ]
}