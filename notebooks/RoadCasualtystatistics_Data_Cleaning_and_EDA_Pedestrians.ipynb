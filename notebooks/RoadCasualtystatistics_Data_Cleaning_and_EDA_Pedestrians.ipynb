{
  "nbformat": 4,
  "nbformat_minor": 0,
  "metadata": {
    "colab": {
      "provenance": [],
      "collapsed_sections": [
        "q8_S4OIqSsxi"
      ]
    },
    "kernelspec": {
      "name": "python3",
      "display_name": "Python 3"
    },
    "language_info": {
      "name": "python"
    }
  },
  "cells": [
    {
      "cell_type": "code",
      "source": [
        "# Author: Elahe Golrokh\n",
        "# Repo: https://github.com/ElahehGolrokh/Road-Casualty-statistics"
      ],
      "metadata": {
        "id": "3VEUq_w7BVPu"
      },
      "execution_count": null,
      "outputs": []
    },
    {
      "cell_type": "markdown",
      "metadata": {
        "id": "ylqbjeyoCb-l"
      },
      "source": [
        "# **Import Libraries**"
      ]
    },
    {
      "cell_type": "code",
      "execution_count": 1,
      "metadata": {
        "id": "klyR_gW1CXpu"
      },
      "outputs": [],
      "source": [
        "import matplotlib.pyplot as plt\n",
        "import numpy as np\n",
        "import warnings\n",
        "warnings.simplefilter(action='ignore', category=FutureWarning)\n",
        "warnings.filterwarnings(\"ignore\")\n",
        "import pandas as pd\n",
        "import seaborn as sns\n"
      ]
    },
    {
      "cell_type": "code",
      "source": [
        "from google.colab import drive\n",
        "drive.mount('/content/drive')"
      ],
      "metadata": {
        "colab": {
          "base_uri": "https://localhost:8080/"
        },
        "id": "OfDPcXnTpITJ",
        "outputId": "4556db6a-5ce5-4edd-c34a-94f36ca45bfa"
      },
      "execution_count": 2,
      "outputs": [
        {
          "output_type": "stream",
          "name": "stdout",
          "text": [
            "Mounted at /content/drive\n"
          ]
        }
      ]
    },
    {
      "cell_type": "markdown",
      "metadata": {
        "id": "GwNbPVVoDt-a"
      },
      "source": [
        "# **Data Cleaning**"
      ]
    },
    {
      "cell_type": "markdown",
      "metadata": {
        "id": "7zkd-DZGCuoE"
      },
      "source": [
        "## 1. read dataset"
      ]
    },
    {
      "cell_type": "code",
      "source": [
        "data_path = '/content/drive/MyDrive/Exercise/Python_Data_Science_and_Machine_Learning_project1_Dataset.zip'\n",
        "!unzip -q $data_path"
      ],
      "metadata": {
        "id": "uJUjEB3EqJCn"
      },
      "execution_count": 3,
      "outputs": []
    },
    {
      "cell_type": "code",
      "execution_count": 2,
      "metadata": {
        "colab": {
          "base_uri": "https://localhost:8080/",
          "height": 226
        },
        "id": "HLkSDbeMDFFv",
        "outputId": "4350a8a5-1d9e-4fdb-fdbb-9284b2866aaf"
      },
      "outputs": [
        {
          "output_type": "execute_result",
          "data": {
            "text/plain": [
              "        status accident_index  accident_year accident_reference  \\\n",
              "0  Unvalidated  2022070151244           2022          070151244   \n",
              "1  Unvalidated  2022070152668           2022          070152668   \n",
              "2  Unvalidated  2022070154696           2022          070154696   \n",
              "3  Unvalidated  2022070154696           2022          070154696   \n",
              "4  Unvalidated  2022070154696           2022          070154696   \n",
              "\n",
              "   vehicle_reference  casualty_reference  casualty_class  sex_of_casualty  \\\n",
              "0                  2                   1               1                2   \n",
              "1                  1                   1               1                1   \n",
              "2                  1                   1               1                2   \n",
              "3                  2                   3               1                2   \n",
              "4                  3                   2               1                1   \n",
              "\n",
              "   age_of_casualty  age_band_of_casualty  casualty_severity  \\\n",
              "0               46                     8                  3   \n",
              "1               30                     6                  3   \n",
              "2               58                     9                  3   \n",
              "3               78                    11                  3   \n",
              "4               63                     9                  3   \n",
              "\n",
              "   pedestrian_location  pedestrian_movement  car_passenger  \\\n",
              "0                    0                    0              0   \n",
              "1                    0                    0              0   \n",
              "2                    0                    0              0   \n",
              "3                    0                    0              0   \n",
              "4                    0                    0              0   \n",
              "\n",
              "   bus_or_coach_passenger  pedestrian_road_maintenance_worker  casualty_type  \\\n",
              "0                       0                                   0              9   \n",
              "1                       0                                   0              9   \n",
              "2                       0                                   0              9   \n",
              "3                       0                                   0              9   \n",
              "4                       0                                   0              9   \n",
              "\n",
              "   casualty_home_area_type  casualty_imd_decile lsoa_of_casualty  \n",
              "0                        1                    9        E01033378  \n",
              "1                        1                    2        E01018551  \n",
              "2                        1                   10        E01006134  \n",
              "3                        2                   10        E01018724  \n",
              "4                        3                    7        W01000578  "
            ],
            "text/html": [
              "\n",
              "  <div id=\"df-36269b51-96dd-4b8a-bcc2-137b2c61aab3\" class=\"colab-df-container\">\n",
              "    <div>\n",
              "<style scoped>\n",
              "    .dataframe tbody tr th:only-of-type {\n",
              "        vertical-align: middle;\n",
              "    }\n",
              "\n",
              "    .dataframe tbody tr th {\n",
              "        vertical-align: top;\n",
              "    }\n",
              "\n",
              "    .dataframe thead th {\n",
              "        text-align: right;\n",
              "    }\n",
              "</style>\n",
              "<table border=\"1\" class=\"dataframe\">\n",
              "  <thead>\n",
              "    <tr style=\"text-align: right;\">\n",
              "      <th></th>\n",
              "      <th>status</th>\n",
              "      <th>accident_index</th>\n",
              "      <th>accident_year</th>\n",
              "      <th>accident_reference</th>\n",
              "      <th>vehicle_reference</th>\n",
              "      <th>casualty_reference</th>\n",
              "      <th>casualty_class</th>\n",
              "      <th>sex_of_casualty</th>\n",
              "      <th>age_of_casualty</th>\n",
              "      <th>age_band_of_casualty</th>\n",
              "      <th>casualty_severity</th>\n",
              "      <th>pedestrian_location</th>\n",
              "      <th>pedestrian_movement</th>\n",
              "      <th>car_passenger</th>\n",
              "      <th>bus_or_coach_passenger</th>\n",
              "      <th>pedestrian_road_maintenance_worker</th>\n",
              "      <th>casualty_type</th>\n",
              "      <th>casualty_home_area_type</th>\n",
              "      <th>casualty_imd_decile</th>\n",
              "      <th>lsoa_of_casualty</th>\n",
              "    </tr>\n",
              "  </thead>\n",
              "  <tbody>\n",
              "    <tr>\n",
              "      <th>0</th>\n",
              "      <td>Unvalidated</td>\n",
              "      <td>2022070151244</td>\n",
              "      <td>2022</td>\n",
              "      <td>070151244</td>\n",
              "      <td>2</td>\n",
              "      <td>1</td>\n",
              "      <td>1</td>\n",
              "      <td>2</td>\n",
              "      <td>46</td>\n",
              "      <td>8</td>\n",
              "      <td>3</td>\n",
              "      <td>0</td>\n",
              "      <td>0</td>\n",
              "      <td>0</td>\n",
              "      <td>0</td>\n",
              "      <td>0</td>\n",
              "      <td>9</td>\n",
              "      <td>1</td>\n",
              "      <td>9</td>\n",
              "      <td>E01033378</td>\n",
              "    </tr>\n",
              "    <tr>\n",
              "      <th>1</th>\n",
              "      <td>Unvalidated</td>\n",
              "      <td>2022070152668</td>\n",
              "      <td>2022</td>\n",
              "      <td>070152668</td>\n",
              "      <td>1</td>\n",
              "      <td>1</td>\n",
              "      <td>1</td>\n",
              "      <td>1</td>\n",
              "      <td>30</td>\n",
              "      <td>6</td>\n",
              "      <td>3</td>\n",
              "      <td>0</td>\n",
              "      <td>0</td>\n",
              "      <td>0</td>\n",
              "      <td>0</td>\n",
              "      <td>0</td>\n",
              "      <td>9</td>\n",
              "      <td>1</td>\n",
              "      <td>2</td>\n",
              "      <td>E01018551</td>\n",
              "    </tr>\n",
              "    <tr>\n",
              "      <th>2</th>\n",
              "      <td>Unvalidated</td>\n",
              "      <td>2022070154696</td>\n",
              "      <td>2022</td>\n",
              "      <td>070154696</td>\n",
              "      <td>1</td>\n",
              "      <td>1</td>\n",
              "      <td>1</td>\n",
              "      <td>2</td>\n",
              "      <td>58</td>\n",
              "      <td>9</td>\n",
              "      <td>3</td>\n",
              "      <td>0</td>\n",
              "      <td>0</td>\n",
              "      <td>0</td>\n",
              "      <td>0</td>\n",
              "      <td>0</td>\n",
              "      <td>9</td>\n",
              "      <td>1</td>\n",
              "      <td>10</td>\n",
              "      <td>E01006134</td>\n",
              "    </tr>\n",
              "    <tr>\n",
              "      <th>3</th>\n",
              "      <td>Unvalidated</td>\n",
              "      <td>2022070154696</td>\n",
              "      <td>2022</td>\n",
              "      <td>070154696</td>\n",
              "      <td>2</td>\n",
              "      <td>3</td>\n",
              "      <td>1</td>\n",
              "      <td>2</td>\n",
              "      <td>78</td>\n",
              "      <td>11</td>\n",
              "      <td>3</td>\n",
              "      <td>0</td>\n",
              "      <td>0</td>\n",
              "      <td>0</td>\n",
              "      <td>0</td>\n",
              "      <td>0</td>\n",
              "      <td>9</td>\n",
              "      <td>2</td>\n",
              "      <td>10</td>\n",
              "      <td>E01018724</td>\n",
              "    </tr>\n",
              "    <tr>\n",
              "      <th>4</th>\n",
              "      <td>Unvalidated</td>\n",
              "      <td>2022070154696</td>\n",
              "      <td>2022</td>\n",
              "      <td>070154696</td>\n",
              "      <td>3</td>\n",
              "      <td>2</td>\n",
              "      <td>1</td>\n",
              "      <td>1</td>\n",
              "      <td>63</td>\n",
              "      <td>9</td>\n",
              "      <td>3</td>\n",
              "      <td>0</td>\n",
              "      <td>0</td>\n",
              "      <td>0</td>\n",
              "      <td>0</td>\n",
              "      <td>0</td>\n",
              "      <td>9</td>\n",
              "      <td>3</td>\n",
              "      <td>7</td>\n",
              "      <td>W01000578</td>\n",
              "    </tr>\n",
              "  </tbody>\n",
              "</table>\n",
              "</div>\n",
              "    <div class=\"colab-df-buttons\">\n",
              "\n",
              "  <div class=\"colab-df-container\">\n",
              "    <button class=\"colab-df-convert\" onclick=\"convertToInteractive('df-36269b51-96dd-4b8a-bcc2-137b2c61aab3')\"\n",
              "            title=\"Convert this dataframe to an interactive table.\"\n",
              "            style=\"display:none;\">\n",
              "\n",
              "  <svg xmlns=\"http://www.w3.org/2000/svg\" height=\"24px\" viewBox=\"0 -960 960 960\">\n",
              "    <path d=\"M120-120v-720h720v720H120Zm60-500h600v-160H180v160Zm220 220h160v-160H400v160Zm0 220h160v-160H400v160ZM180-400h160v-160H180v160Zm440 0h160v-160H620v160ZM180-180h160v-160H180v160Zm440 0h160v-160H620v160Z\"/>\n",
              "  </svg>\n",
              "    </button>\n",
              "\n",
              "  <style>\n",
              "    .colab-df-container {\n",
              "      display:flex;\n",
              "      gap: 12px;\n",
              "    }\n",
              "\n",
              "    .colab-df-convert {\n",
              "      background-color: #E8F0FE;\n",
              "      border: none;\n",
              "      border-radius: 50%;\n",
              "      cursor: pointer;\n",
              "      display: none;\n",
              "      fill: #1967D2;\n",
              "      height: 32px;\n",
              "      padding: 0 0 0 0;\n",
              "      width: 32px;\n",
              "    }\n",
              "\n",
              "    .colab-df-convert:hover {\n",
              "      background-color: #E2EBFA;\n",
              "      box-shadow: 0px 1px 2px rgba(60, 64, 67, 0.3), 0px 1px 3px 1px rgba(60, 64, 67, 0.15);\n",
              "      fill: #174EA6;\n",
              "    }\n",
              "\n",
              "    .colab-df-buttons div {\n",
              "      margin-bottom: 4px;\n",
              "    }\n",
              "\n",
              "    [theme=dark] .colab-df-convert {\n",
              "      background-color: #3B4455;\n",
              "      fill: #D2E3FC;\n",
              "    }\n",
              "\n",
              "    [theme=dark] .colab-df-convert:hover {\n",
              "      background-color: #434B5C;\n",
              "      box-shadow: 0px 1px 3px 1px rgba(0, 0, 0, 0.15);\n",
              "      filter: drop-shadow(0px 1px 2px rgba(0, 0, 0, 0.3));\n",
              "      fill: #FFFFFF;\n",
              "    }\n",
              "  </style>\n",
              "\n",
              "    <script>\n",
              "      const buttonEl =\n",
              "        document.querySelector('#df-36269b51-96dd-4b8a-bcc2-137b2c61aab3 button.colab-df-convert');\n",
              "      buttonEl.style.display =\n",
              "        google.colab.kernel.accessAllowed ? 'block' : 'none';\n",
              "\n",
              "      async function convertToInteractive(key) {\n",
              "        const element = document.querySelector('#df-36269b51-96dd-4b8a-bcc2-137b2c61aab3');\n",
              "        const dataTable =\n",
              "          await google.colab.kernel.invokeFunction('convertToInteractive',\n",
              "                                                    [key], {});\n",
              "        if (!dataTable) return;\n",
              "\n",
              "        const docLinkHtml = 'Like what you see? Visit the ' +\n",
              "          '<a target=\"_blank\" href=https://colab.research.google.com/notebooks/data_table.ipynb>data table notebook</a>'\n",
              "          + ' to learn more about interactive tables.';\n",
              "        element.innerHTML = '';\n",
              "        dataTable['output_type'] = 'display_data';\n",
              "        await google.colab.output.renderOutput(dataTable, element);\n",
              "        const docLink = document.createElement('div');\n",
              "        docLink.innerHTML = docLinkHtml;\n",
              "        element.appendChild(docLink);\n",
              "      }\n",
              "    </script>\n",
              "  </div>\n",
              "\n",
              "\n",
              "<div id=\"df-399f733d-7812-41f3-81d7-f4b3dc09d6e4\">\n",
              "  <button class=\"colab-df-quickchart\" onclick=\"quickchart('df-399f733d-7812-41f3-81d7-f4b3dc09d6e4')\"\n",
              "            title=\"Suggest charts\"\n",
              "            style=\"display:none;\">\n",
              "\n",
              "<svg xmlns=\"http://www.w3.org/2000/svg\" height=\"24px\"viewBox=\"0 0 24 24\"\n",
              "     width=\"24px\">\n",
              "    <g>\n",
              "        <path d=\"M19 3H5c-1.1 0-2 .9-2 2v14c0 1.1.9 2 2 2h14c1.1 0 2-.9 2-2V5c0-1.1-.9-2-2-2zM9 17H7v-7h2v7zm4 0h-2V7h2v10zm4 0h-2v-4h2v4z\"/>\n",
              "    </g>\n",
              "</svg>\n",
              "  </button>\n",
              "\n",
              "<style>\n",
              "  .colab-df-quickchart {\n",
              "      --bg-color: #E8F0FE;\n",
              "      --fill-color: #1967D2;\n",
              "      --hover-bg-color: #E2EBFA;\n",
              "      --hover-fill-color: #174EA6;\n",
              "      --disabled-fill-color: #AAA;\n",
              "      --disabled-bg-color: #DDD;\n",
              "  }\n",
              "\n",
              "  [theme=dark] .colab-df-quickchart {\n",
              "      --bg-color: #3B4455;\n",
              "      --fill-color: #D2E3FC;\n",
              "      --hover-bg-color: #434B5C;\n",
              "      --hover-fill-color: #FFFFFF;\n",
              "      --disabled-bg-color: #3B4455;\n",
              "      --disabled-fill-color: #666;\n",
              "  }\n",
              "\n",
              "  .colab-df-quickchart {\n",
              "    background-color: var(--bg-color);\n",
              "    border: none;\n",
              "    border-radius: 50%;\n",
              "    cursor: pointer;\n",
              "    display: none;\n",
              "    fill: var(--fill-color);\n",
              "    height: 32px;\n",
              "    padding: 0;\n",
              "    width: 32px;\n",
              "  }\n",
              "\n",
              "  .colab-df-quickchart:hover {\n",
              "    background-color: var(--hover-bg-color);\n",
              "    box-shadow: 0 1px 2px rgba(60, 64, 67, 0.3), 0 1px 3px 1px rgba(60, 64, 67, 0.15);\n",
              "    fill: var(--button-hover-fill-color);\n",
              "  }\n",
              "\n",
              "  .colab-df-quickchart-complete:disabled,\n",
              "  .colab-df-quickchart-complete:disabled:hover {\n",
              "    background-color: var(--disabled-bg-color);\n",
              "    fill: var(--disabled-fill-color);\n",
              "    box-shadow: none;\n",
              "  }\n",
              "\n",
              "  .colab-df-spinner {\n",
              "    border: 2px solid var(--fill-color);\n",
              "    border-color: transparent;\n",
              "    border-bottom-color: var(--fill-color);\n",
              "    animation:\n",
              "      spin 1s steps(1) infinite;\n",
              "  }\n",
              "\n",
              "  @keyframes spin {\n",
              "    0% {\n",
              "      border-color: transparent;\n",
              "      border-bottom-color: var(--fill-color);\n",
              "      border-left-color: var(--fill-color);\n",
              "    }\n",
              "    20% {\n",
              "      border-color: transparent;\n",
              "      border-left-color: var(--fill-color);\n",
              "      border-top-color: var(--fill-color);\n",
              "    }\n",
              "    30% {\n",
              "      border-color: transparent;\n",
              "      border-left-color: var(--fill-color);\n",
              "      border-top-color: var(--fill-color);\n",
              "      border-right-color: var(--fill-color);\n",
              "    }\n",
              "    40% {\n",
              "      border-color: transparent;\n",
              "      border-right-color: var(--fill-color);\n",
              "      border-top-color: var(--fill-color);\n",
              "    }\n",
              "    60% {\n",
              "      border-color: transparent;\n",
              "      border-right-color: var(--fill-color);\n",
              "    }\n",
              "    80% {\n",
              "      border-color: transparent;\n",
              "      border-right-color: var(--fill-color);\n",
              "      border-bottom-color: var(--fill-color);\n",
              "    }\n",
              "    90% {\n",
              "      border-color: transparent;\n",
              "      border-bottom-color: var(--fill-color);\n",
              "    }\n",
              "  }\n",
              "</style>\n",
              "\n",
              "  <script>\n",
              "    async function quickchart(key) {\n",
              "      const quickchartButtonEl =\n",
              "        document.querySelector('#' + key + ' button');\n",
              "      quickchartButtonEl.disabled = true;  // To prevent multiple clicks.\n",
              "      quickchartButtonEl.classList.add('colab-df-spinner');\n",
              "      try {\n",
              "        const charts = await google.colab.kernel.invokeFunction(\n",
              "            'suggestCharts', [key], {});\n",
              "      } catch (error) {\n",
              "        console.error('Error during call to suggestCharts:', error);\n",
              "      }\n",
              "      quickchartButtonEl.classList.remove('colab-df-spinner');\n",
              "      quickchartButtonEl.classList.add('colab-df-quickchart-complete');\n",
              "    }\n",
              "    (() => {\n",
              "      let quickchartButtonEl =\n",
              "        document.querySelector('#df-399f733d-7812-41f3-81d7-f4b3dc09d6e4 button');\n",
              "      quickchartButtonEl.style.display =\n",
              "        google.colab.kernel.accessAllowed ? 'block' : 'none';\n",
              "    })();\n",
              "  </script>\n",
              "</div>\n",
              "\n",
              "    </div>\n",
              "  </div>\n"
            ],
            "application/vnd.google.colaboratory.intrinsic+json": {
              "type": "dataframe",
              "variable_name": "df",
              "summary": "{\n  \"name\": \"df\",\n  \"rows\": 61352,\n  \"fields\": [\n    {\n      \"column\": \"status\",\n      \"properties\": {\n        \"dtype\": \"category\",\n        \"num_unique_values\": 1,\n        \"samples\": [\n          \"Unvalidated\"\n        ],\n        \"semantic_type\": \"\",\n        \"description\": \"\"\n      }\n    },\n    {\n      \"column\": \"accident_index\",\n      \"properties\": {\n        \"dtype\": \"string\",\n        \"num_unique_values\": 48283,\n        \"samples\": [\n          \"2022401183536\"\n        ],\n        \"semantic_type\": \"\",\n        \"description\": \"\"\n      }\n    },\n    {\n      \"column\": \"accident_year\",\n      \"properties\": {\n        \"dtype\": \"number\",\n        \"std\": 0,\n        \"min\": 2022,\n        \"max\": 2022,\n        \"num_unique_values\": 1,\n        \"samples\": [\n          2022\n        ],\n        \"semantic_type\": \"\",\n        \"description\": \"\"\n      }\n    },\n    {\n      \"column\": \"accident_reference\",\n      \"properties\": {\n        \"dtype\": \"string\",\n        \"num_unique_values\": 48283,\n        \"samples\": [\n          \"401183536\"\n        ],\n        \"semantic_type\": \"\",\n        \"description\": \"\"\n      }\n    },\n    {\n      \"column\": \"vehicle_reference\",\n      \"properties\": {\n        \"dtype\": \"number\",\n        \"std\": 1,\n        \"min\": 1,\n        \"max\": 227,\n        \"num_unique_values\": 11,\n        \"samples\": [\n          8\n        ],\n        \"semantic_type\": \"\",\n        \"description\": \"\"\n      }\n    },\n    {\n      \"column\": \"casualty_reference\",\n      \"properties\": {\n        \"dtype\": \"number\",\n        \"std\": 0,\n        \"min\": 1,\n        \"max\": 148,\n        \"num_unique_values\": 18,\n        \"samples\": [\n          1\n        ],\n        \"semantic_type\": \"\",\n        \"description\": \"\"\n      }\n    },\n    {\n      \"column\": \"casualty_class\",\n      \"properties\": {\n        \"dtype\": \"number\",\n        \"std\": 0,\n        \"min\": 1,\n        \"max\": 3,\n        \"num_unique_values\": 3,\n        \"samples\": [\n          1\n        ],\n        \"semantic_type\": \"\",\n        \"description\": \"\"\n      }\n    },\n    {\n      \"column\": \"sex_of_casualty\",\n      \"properties\": {\n        \"dtype\": \"number\",\n        \"std\": 0,\n        \"min\": -1,\n        \"max\": 9,\n        \"num_unique_values\": 4,\n        \"samples\": [\n          1\n        ],\n        \"semantic_type\": \"\",\n        \"description\": \"\"\n      }\n    },\n    {\n      \"column\": \"age_of_casualty\",\n      \"properties\": {\n        \"dtype\": \"number\",\n        \"std\": 19,\n        \"min\": -1,\n        \"max\": 101,\n        \"num_unique_values\": 102,\n        \"samples\": [\n          43\n        ],\n        \"semantic_type\": \"\",\n        \"description\": \"\"\n      }\n    },\n    {\n      \"column\": \"age_band_of_casualty\",\n      \"properties\": {\n        \"dtype\": \"number\",\n        \"std\": 2,\n        \"min\": -1,\n        \"max\": 11,\n        \"num_unique_values\": 12,\n        \"samples\": [\n          1\n        ],\n        \"semantic_type\": \"\",\n        \"description\": \"\"\n      }\n    },\n    {\n      \"column\": \"casualty_severity\",\n      \"properties\": {\n        \"dtype\": \"number\",\n        \"std\": 0,\n        \"min\": 1,\n        \"max\": 3,\n        \"num_unique_values\": 3,\n        \"samples\": [\n          3\n        ],\n        \"semantic_type\": \"\",\n        \"description\": \"\"\n      }\n    },\n    {\n      \"column\": \"pedestrian_location\",\n      \"properties\": {\n        \"dtype\": \"number\",\n        \"std\": 2,\n        \"min\": 0,\n        \"max\": 10,\n        \"num_unique_values\": 11,\n        \"samples\": [\n          8\n        ],\n        \"semantic_type\": \"\",\n        \"description\": \"\"\n      }\n    },\n    {\n      \"column\": \"pedestrian_movement\",\n      \"properties\": {\n        \"dtype\": \"number\",\n        \"std\": 2,\n        \"min\": 0,\n        \"max\": 9,\n        \"num_unique_values\": 10,\n        \"samples\": [\n          4\n        ],\n        \"semantic_type\": \"\",\n        \"description\": \"\"\n      }\n    },\n    {\n      \"column\": \"car_passenger\",\n      \"properties\": {\n        \"dtype\": \"number\",\n        \"std\": 0,\n        \"min\": -1,\n        \"max\": 9,\n        \"num_unique_values\": 5,\n        \"samples\": [\n          2\n        ],\n        \"semantic_type\": \"\",\n        \"description\": \"\"\n      }\n    },\n    {\n      \"column\": \"bus_or_coach_passenger\",\n      \"properties\": {\n        \"dtype\": \"number\",\n        \"std\": 0,\n        \"min\": -1,\n        \"max\": 9,\n        \"num_unique_values\": 7,\n        \"samples\": [\n          0\n        ],\n        \"semantic_type\": \"\",\n        \"description\": \"\"\n      }\n    },\n    {\n      \"column\": \"pedestrian_road_maintenance_worker\",\n      \"properties\": {\n        \"dtype\": \"number\",\n        \"std\": 0,\n        \"min\": -1,\n        \"max\": 2,\n        \"num_unique_values\": 4,\n        \"samples\": [\n          2\n        ],\n        \"semantic_type\": \"\",\n        \"description\": \"\"\n      }\n    },\n    {\n      \"column\": \"casualty_type\",\n      \"properties\": {\n        \"dtype\": \"number\",\n        \"std\": 16,\n        \"min\": -1,\n        \"max\": 98,\n        \"num_unique_values\": 22,\n        \"samples\": [\n          9\n        ],\n        \"semantic_type\": \"\",\n        \"description\": \"\"\n      }\n    },\n    {\n      \"column\": \"casualty_home_area_type\",\n      \"properties\": {\n        \"dtype\": \"number\",\n        \"std\": 0,\n        \"min\": -1,\n        \"max\": 3,\n        \"num_unique_values\": 4,\n        \"samples\": [\n          2\n        ],\n        \"semantic_type\": \"\",\n        \"description\": \"\"\n      }\n    },\n    {\n      \"column\": \"casualty_imd_decile\",\n      \"properties\": {\n        \"dtype\": \"number\",\n        \"std\": 3,\n        \"min\": -1,\n        \"max\": 10,\n        \"num_unique_values\": 11,\n        \"samples\": [\n          5\n        ],\n        \"semantic_type\": \"\",\n        \"description\": \"\"\n      }\n    },\n    {\n      \"column\": \"lsoa_of_casualty\",\n      \"properties\": {\n        \"dtype\": \"category\",\n        \"num_unique_values\": 23841,\n        \"samples\": [\n          \"E01023009\"\n        ],\n        \"semantic_type\": \"\",\n        \"description\": \"\"\n      }\n    }\n  ]\n}"
            }
          },
          "metadata": {},
          "execution_count": 2
        }
      ],
      "source": [
        "df = pd.read_csv('/content/dft-road-casualty-statistics-casualty-provisional-mid-year-unvalidated-2022 (1).csv')\n",
        "df.head()"
      ]
    },
    {
      "cell_type": "code",
      "execution_count": null,
      "metadata": {
        "colab": {
          "base_uri": "https://localhost:8080/"
        },
        "id": "y0g0xEkZDa2i",
        "outputId": "44fff2aa-7a67-4126-a292-3dc19a7a295b"
      },
      "outputs": [
        {
          "output_type": "execute_result",
          "data": {
            "text/plain": [
              "(61352, 20)"
            ]
          },
          "metadata": {},
          "execution_count": 3
        }
      ],
      "source": [
        "df.shape"
      ]
    },
    {
      "cell_type": "code",
      "execution_count": null,
      "metadata": {
        "colab": {
          "base_uri": "https://localhost:8080/"
        },
        "id": "1N6LsBQwEHZH",
        "outputId": "75733424-4b64-4b38-d582-97220ced9bb0"
      },
      "outputs": [
        {
          "output_type": "stream",
          "name": "stdout",
          "text": [
            "<class 'pandas.core.frame.DataFrame'>\n",
            "RangeIndex: 61352 entries, 0 to 61351\n",
            "Data columns (total 20 columns):\n",
            " #   Column                              Non-Null Count  Dtype \n",
            "---  ------                              --------------  ----- \n",
            " 0   status                              61352 non-null  object\n",
            " 1   accident_index                      61352 non-null  object\n",
            " 2   accident_year                       61352 non-null  int64 \n",
            " 3   accident_reference                  61352 non-null  object\n",
            " 4   vehicle_reference                   61352 non-null  int64 \n",
            " 5   casualty_reference                  61352 non-null  int64 \n",
            " 6   casualty_class                      61352 non-null  int64 \n",
            " 7   sex_of_casualty                     61352 non-null  int64 \n",
            " 8   age_of_casualty                     61352 non-null  int64 \n",
            " 9   age_band_of_casualty                61352 non-null  int64 \n",
            " 10  casualty_severity                   61352 non-null  int64 \n",
            " 11  pedestrian_location                 61352 non-null  int64 \n",
            " 12  pedestrian_movement                 61352 non-null  int64 \n",
            " 13  car_passenger                       61352 non-null  int64 \n",
            " 14  bus_or_coach_passenger              61352 non-null  int64 \n",
            " 15  pedestrian_road_maintenance_worker  61352 non-null  int64 \n",
            " 16  casualty_type                       61352 non-null  int64 \n",
            " 17  casualty_home_area_type             61352 non-null  int64 \n",
            " 18  casualty_imd_decile                 61352 non-null  int64 \n",
            " 19  lsoa_of_casualty                    61352 non-null  object\n",
            "dtypes: int64(16), object(4)\n",
            "memory usage: 9.4+ MB\n"
          ]
        }
      ],
      "source": [
        "df.info()"
      ]
    },
    {
      "cell_type": "markdown",
      "metadata": {
        "id": "sr1kirW8JeDO"
      },
      "source": [
        "## deep investigation in columns"
      ]
    },
    {
      "cell_type": "code",
      "source": [
        "df.drop(['status', 'lsoa_of_casualty', 'accident_year', 'accident_reference',\n",
        "         'bus_or_coach_passenger', 'car_passenger',\n",
        "         'age_band_of_casualty', 'accident_index',\n",
        "         'pedestrian_road_maintenance_worker'], axis=1, inplace=True)"
      ],
      "metadata": {
        "id": "uBS3aNo8cQPX"
      },
      "execution_count": 3,
      "outputs": []
    },
    {
      "cell_type": "code",
      "source": [
        "categorical_features = ['casualty_class', 'sex_of_casualty', 'casualty_severity',\n",
        "                        'casualty_type', 'casualty_home_area_type', 'casualty_imd_decile',\n",
        "                        'pedestrian_movement', 'pedestrian_location',]\n",
        "numerical_features = ['vehicle_reference', 'casualty_reference', 'age_of_casualty']\n",
        "\n",
        "print(len(categorical_features), len(numerical_features))\n",
        "print('categorical_features = ', categorical_features)\n",
        "print('numerical_features = ', numerical_features)"
      ],
      "metadata": {
        "colab": {
          "base_uri": "https://localhost:8080/"
        },
        "id": "_0xQ2FiOsIaP",
        "outputId": "2a4e2da8-a9a2-4c4e-d58d-930d54e639a4"
      },
      "execution_count": 4,
      "outputs": [
        {
          "output_type": "stream",
          "name": "stdout",
          "text": [
            "8 3\n",
            "categorical_features =  ['casualty_class', 'sex_of_casualty', 'casualty_severity', 'casualty_type', 'casualty_home_area_type', 'casualty_imd_decile', 'pedestrian_movement', 'pedestrian_location']\n",
            "numerical_features =  ['vehicle_reference', 'casualty_reference', 'age_of_casualty']\n"
          ]
        }
      ]
    },
    {
      "cell_type": "code",
      "source": [
        "# Remove outliers\n",
        "\n",
        "contained_outliers = ['vehicle_reference', 'casualty_reference']\n",
        "df_removed_outliers = df.copy()\n",
        "\n",
        "for col in contained_outliers:\n",
        "  for i in df_removed_outliers[col].index:\n",
        "    if df_removed_outliers[col].loc[i] > 60:\n",
        "      df_removed_outliers.drop(i, inplace=True)\n",
        "  print(col, ' : ', df_removed_outliers[col].value_counts())\n",
        "\n",
        "df_removed_outliers.shape"
      ],
      "metadata": {
        "colab": {
          "base_uri": "https://localhost:8080/"
        },
        "id": "oct-9qj2uqsA",
        "outputId": "37d12938-dc8e-4b77-f51c-8d810c9dc661"
      },
      "execution_count": 5,
      "outputs": [
        {
          "output_type": "stream",
          "name": "stdout",
          "text": [
            "vehicle_reference  :  1    36255\n",
            "2    23337\n",
            "3     1427\n",
            "4      227\n",
            "5       71\n",
            "6       19\n",
            "7        7\n",
            "8        4\n",
            "9        3\n",
            "Name: vehicle_reference, dtype: int64\n",
            "casualty_reference  :  1     47790\n",
            "2      9305\n",
            "3      2795\n",
            "4       934\n",
            "5       325\n",
            "6       100\n",
            "7        37\n",
            "8        15\n",
            "9        11\n",
            "10       10\n",
            "11        7\n",
            "12        6\n",
            "14        4\n",
            "13        4\n",
            "15        3\n",
            "16        2\n",
            "22        1\n",
            "Name: casualty_reference, dtype: int64\n"
          ]
        },
        {
          "output_type": "execute_result",
          "data": {
            "text/plain": [
              "(61349, 11)"
            ]
          },
          "metadata": {},
          "execution_count": 5
        }
      ]
    },
    {
      "cell_type": "code",
      "source": [
        "# Replace nan values with np.nan\n",
        "\n",
        "df_categorical = df_removed_outliers.copy()\n",
        "print('len of df_categorical before = ', len(df_categorical))\n",
        "print('*******************************')\n",
        "\n",
        "nan_1 = ['casualty_type', 'casualty_home_area_type', 'casualty_imd_decile', 'age_of_casualty']\n",
        "nan_1_9 = ['sex_of_casualty', 'pedestrian_movement'] # 9 -> Unknown or other\n",
        "nan_1_10 = ['pedestrian_location']\n",
        "\n",
        "for col in nan_1:\n",
        "  df_categorical[col][df_categorical[col]==-1] = np.nan\n",
        "\n",
        "for col in nan_1_9:\n",
        "  df_categorical[col][(df_categorical[col]==-1) | (df_categorical[col]==9)] = np.nan\n",
        "\n",
        "for col in nan_1_10:\n",
        "  df_categorical[col][(df_categorical[col]==-1) | (df_categorical[col]==10)] = np.nan\n",
        "\n",
        "print(df_categorical.isnull().sum())\n",
        "df_categorical.dropna(inplace=True)\n",
        "print('*******************************')\n",
        "print('len of df_categorical after = ', len(df_categorical))\n"
      ],
      "metadata": {
        "id": "eX2XHepHylea",
        "colab": {
          "base_uri": "https://localhost:8080/"
        },
        "outputId": "5b2a1709-38ba-421b-933f-a1f0fb8a9287"
      },
      "execution_count": 6,
      "outputs": [
        {
          "output_type": "stream",
          "name": "stdout",
          "text": [
            "len of df_categorical before =  61349\n",
            "*******************************\n",
            "vehicle_reference             0\n",
            "casualty_reference            0\n",
            "casualty_class                0\n",
            "sex_of_casualty             458\n",
            "age_of_casualty            1350\n",
            "casualty_severity             0\n",
            "pedestrian_location         869\n",
            "pedestrian_movement        2567\n",
            "casualty_type                 5\n",
            "casualty_home_area_type    5498\n",
            "casualty_imd_decile        5784\n",
            "dtype: int64\n",
            "*******************************\n",
            "len of df_categorical after =  52200\n"
          ]
        }
      ]
    },
    {
      "cell_type": "code",
      "source": [
        "print(df_categorical.isnull().sum())\n"
      ],
      "metadata": {
        "colab": {
          "base_uri": "https://localhost:8080/"
        },
        "id": "ol0FLeFfmc8-",
        "outputId": "3167cbbb-1ca4-4843-f044-795b6af8a4c0"
      },
      "execution_count": null,
      "outputs": [
        {
          "output_type": "stream",
          "name": "stdout",
          "text": [
            "vehicle_reference          0\n",
            "casualty_reference         0\n",
            "casualty_class             0\n",
            "sex_of_casualty            0\n",
            "age_of_casualty            0\n",
            "casualty_severity          0\n",
            "pedestrian_location        0\n",
            "pedestrian_movement        0\n",
            "casualty_type              0\n",
            "casualty_home_area_type    0\n",
            "casualty_imd_decile        0\n",
            "dtype: int64\n"
          ]
        }
      ]
    },
    {
      "cell_type": "code",
      "source": [
        "df_categorical_reindex = df_categorical.set_index(np.arange(len(df_categorical)))\n",
        "df_categorical_reindex"
      ],
      "metadata": {
        "id": "o2RArX2v0eyC",
        "colab": {
          "base_uri": "https://localhost:8080/",
          "height": 443
        },
        "outputId": "d88f64c1-5fb5-43ae-840b-5e8a6b43db17"
      },
      "execution_count": 7,
      "outputs": [
        {
          "output_type": "execute_result",
          "data": {
            "text/plain": [
              "       vehicle_reference  casualty_reference  casualty_class  sex_of_casualty  \\\n",
              "0                      2                   1               1              2.0   \n",
              "1                      1                   1               1              1.0   \n",
              "2                      1                   1               1              2.0   \n",
              "3                      2                   3               1              2.0   \n",
              "4                      3                   2               1              1.0   \n",
              "...                  ...                 ...             ...              ...   \n",
              "52195                  1                   1               1              1.0   \n",
              "52196                  1                   1               1              1.0   \n",
              "52197                  2                   1               1              1.0   \n",
              "52198                  1                   1               1              2.0   \n",
              "52199                  2                   1               1              1.0   \n",
              "\n",
              "       age_of_casualty  casualty_severity  pedestrian_location  \\\n",
              "0                 46.0                  3                  0.0   \n",
              "1                 30.0                  3                  0.0   \n",
              "2                 58.0                  3                  0.0   \n",
              "3                 78.0                  3                  0.0   \n",
              "4                 63.0                  3                  0.0   \n",
              "...                ...                ...                  ...   \n",
              "52195             79.0                  3                  0.0   \n",
              "52196             69.0                  2                  0.0   \n",
              "52197             42.0                  3                  0.0   \n",
              "52198             40.0                  3                  0.0   \n",
              "52199             71.0                  3                  0.0   \n",
              "\n",
              "       pedestrian_movement  casualty_type  casualty_home_area_type  \\\n",
              "0                      0.0            9.0                      1.0   \n",
              "1                      0.0            9.0                      1.0   \n",
              "2                      0.0            9.0                      1.0   \n",
              "3                      0.0            9.0                      2.0   \n",
              "4                      0.0            9.0                      3.0   \n",
              "...                    ...            ...                      ...   \n",
              "52195                  0.0            9.0                      1.0   \n",
              "52196                  0.0            4.0                      1.0   \n",
              "52197                  0.0            9.0                      1.0   \n",
              "52198                  0.0            9.0                      1.0   \n",
              "52199                  0.0            9.0                      1.0   \n",
              "\n",
              "       casualty_imd_decile  \n",
              "0                      9.0  \n",
              "1                      2.0  \n",
              "2                     10.0  \n",
              "3                     10.0  \n",
              "4                      7.0  \n",
              "...                    ...  \n",
              "52195                 10.0  \n",
              "52196                  7.0  \n",
              "52197                  5.0  \n",
              "52198                  3.0  \n",
              "52199                  2.0  \n",
              "\n",
              "[52200 rows x 11 columns]"
            ],
            "text/html": [
              "\n",
              "  <div id=\"df-8b103529-4b48-4904-ae81-e94584be62ba\" class=\"colab-df-container\">\n",
              "    <div>\n",
              "<style scoped>\n",
              "    .dataframe tbody tr th:only-of-type {\n",
              "        vertical-align: middle;\n",
              "    }\n",
              "\n",
              "    .dataframe tbody tr th {\n",
              "        vertical-align: top;\n",
              "    }\n",
              "\n",
              "    .dataframe thead th {\n",
              "        text-align: right;\n",
              "    }\n",
              "</style>\n",
              "<table border=\"1\" class=\"dataframe\">\n",
              "  <thead>\n",
              "    <tr style=\"text-align: right;\">\n",
              "      <th></th>\n",
              "      <th>vehicle_reference</th>\n",
              "      <th>casualty_reference</th>\n",
              "      <th>casualty_class</th>\n",
              "      <th>sex_of_casualty</th>\n",
              "      <th>age_of_casualty</th>\n",
              "      <th>casualty_severity</th>\n",
              "      <th>pedestrian_location</th>\n",
              "      <th>pedestrian_movement</th>\n",
              "      <th>casualty_type</th>\n",
              "      <th>casualty_home_area_type</th>\n",
              "      <th>casualty_imd_decile</th>\n",
              "    </tr>\n",
              "  </thead>\n",
              "  <tbody>\n",
              "    <tr>\n",
              "      <th>0</th>\n",
              "      <td>2</td>\n",
              "      <td>1</td>\n",
              "      <td>1</td>\n",
              "      <td>2.0</td>\n",
              "      <td>46.0</td>\n",
              "      <td>3</td>\n",
              "      <td>0.0</td>\n",
              "      <td>0.0</td>\n",
              "      <td>9.0</td>\n",
              "      <td>1.0</td>\n",
              "      <td>9.0</td>\n",
              "    </tr>\n",
              "    <tr>\n",
              "      <th>1</th>\n",
              "      <td>1</td>\n",
              "      <td>1</td>\n",
              "      <td>1</td>\n",
              "      <td>1.0</td>\n",
              "      <td>30.0</td>\n",
              "      <td>3</td>\n",
              "      <td>0.0</td>\n",
              "      <td>0.0</td>\n",
              "      <td>9.0</td>\n",
              "      <td>1.0</td>\n",
              "      <td>2.0</td>\n",
              "    </tr>\n",
              "    <tr>\n",
              "      <th>2</th>\n",
              "      <td>1</td>\n",
              "      <td>1</td>\n",
              "      <td>1</td>\n",
              "      <td>2.0</td>\n",
              "      <td>58.0</td>\n",
              "      <td>3</td>\n",
              "      <td>0.0</td>\n",
              "      <td>0.0</td>\n",
              "      <td>9.0</td>\n",
              "      <td>1.0</td>\n",
              "      <td>10.0</td>\n",
              "    </tr>\n",
              "    <tr>\n",
              "      <th>3</th>\n",
              "      <td>2</td>\n",
              "      <td>3</td>\n",
              "      <td>1</td>\n",
              "      <td>2.0</td>\n",
              "      <td>78.0</td>\n",
              "      <td>3</td>\n",
              "      <td>0.0</td>\n",
              "      <td>0.0</td>\n",
              "      <td>9.0</td>\n",
              "      <td>2.0</td>\n",
              "      <td>10.0</td>\n",
              "    </tr>\n",
              "    <tr>\n",
              "      <th>4</th>\n",
              "      <td>3</td>\n",
              "      <td>2</td>\n",
              "      <td>1</td>\n",
              "      <td>1.0</td>\n",
              "      <td>63.0</td>\n",
              "      <td>3</td>\n",
              "      <td>0.0</td>\n",
              "      <td>0.0</td>\n",
              "      <td>9.0</td>\n",
              "      <td>3.0</td>\n",
              "      <td>7.0</td>\n",
              "    </tr>\n",
              "    <tr>\n",
              "      <th>...</th>\n",
              "      <td>...</td>\n",
              "      <td>...</td>\n",
              "      <td>...</td>\n",
              "      <td>...</td>\n",
              "      <td>...</td>\n",
              "      <td>...</td>\n",
              "      <td>...</td>\n",
              "      <td>...</td>\n",
              "      <td>...</td>\n",
              "      <td>...</td>\n",
              "      <td>...</td>\n",
              "    </tr>\n",
              "    <tr>\n",
              "      <th>52195</th>\n",
              "      <td>1</td>\n",
              "      <td>1</td>\n",
              "      <td>1</td>\n",
              "      <td>1.0</td>\n",
              "      <td>79.0</td>\n",
              "      <td>3</td>\n",
              "      <td>0.0</td>\n",
              "      <td>0.0</td>\n",
              "      <td>9.0</td>\n",
              "      <td>1.0</td>\n",
              "      <td>10.0</td>\n",
              "    </tr>\n",
              "    <tr>\n",
              "      <th>52196</th>\n",
              "      <td>1</td>\n",
              "      <td>1</td>\n",
              "      <td>1</td>\n",
              "      <td>1.0</td>\n",
              "      <td>69.0</td>\n",
              "      <td>2</td>\n",
              "      <td>0.0</td>\n",
              "      <td>0.0</td>\n",
              "      <td>4.0</td>\n",
              "      <td>1.0</td>\n",
              "      <td>7.0</td>\n",
              "    </tr>\n",
              "    <tr>\n",
              "      <th>52197</th>\n",
              "      <td>2</td>\n",
              "      <td>1</td>\n",
              "      <td>1</td>\n",
              "      <td>1.0</td>\n",
              "      <td>42.0</td>\n",
              "      <td>3</td>\n",
              "      <td>0.0</td>\n",
              "      <td>0.0</td>\n",
              "      <td>9.0</td>\n",
              "      <td>1.0</td>\n",
              "      <td>5.0</td>\n",
              "    </tr>\n",
              "    <tr>\n",
              "      <th>52198</th>\n",
              "      <td>1</td>\n",
              "      <td>1</td>\n",
              "      <td>1</td>\n",
              "      <td>2.0</td>\n",
              "      <td>40.0</td>\n",
              "      <td>3</td>\n",
              "      <td>0.0</td>\n",
              "      <td>0.0</td>\n",
              "      <td>9.0</td>\n",
              "      <td>1.0</td>\n",
              "      <td>3.0</td>\n",
              "    </tr>\n",
              "    <tr>\n",
              "      <th>52199</th>\n",
              "      <td>2</td>\n",
              "      <td>1</td>\n",
              "      <td>1</td>\n",
              "      <td>1.0</td>\n",
              "      <td>71.0</td>\n",
              "      <td>3</td>\n",
              "      <td>0.0</td>\n",
              "      <td>0.0</td>\n",
              "      <td>9.0</td>\n",
              "      <td>1.0</td>\n",
              "      <td>2.0</td>\n",
              "    </tr>\n",
              "  </tbody>\n",
              "</table>\n",
              "<p>52200 rows × 11 columns</p>\n",
              "</div>\n",
              "    <div class=\"colab-df-buttons\">\n",
              "\n",
              "  <div class=\"colab-df-container\">\n",
              "    <button class=\"colab-df-convert\" onclick=\"convertToInteractive('df-8b103529-4b48-4904-ae81-e94584be62ba')\"\n",
              "            title=\"Convert this dataframe to an interactive table.\"\n",
              "            style=\"display:none;\">\n",
              "\n",
              "  <svg xmlns=\"http://www.w3.org/2000/svg\" height=\"24px\" viewBox=\"0 -960 960 960\">\n",
              "    <path d=\"M120-120v-720h720v720H120Zm60-500h600v-160H180v160Zm220 220h160v-160H400v160Zm0 220h160v-160H400v160ZM180-400h160v-160H180v160Zm440 0h160v-160H620v160ZM180-180h160v-160H180v160Zm440 0h160v-160H620v160Z\"/>\n",
              "  </svg>\n",
              "    </button>\n",
              "\n",
              "  <style>\n",
              "    .colab-df-container {\n",
              "      display:flex;\n",
              "      gap: 12px;\n",
              "    }\n",
              "\n",
              "    .colab-df-convert {\n",
              "      background-color: #E8F0FE;\n",
              "      border: none;\n",
              "      border-radius: 50%;\n",
              "      cursor: pointer;\n",
              "      display: none;\n",
              "      fill: #1967D2;\n",
              "      height: 32px;\n",
              "      padding: 0 0 0 0;\n",
              "      width: 32px;\n",
              "    }\n",
              "\n",
              "    .colab-df-convert:hover {\n",
              "      background-color: #E2EBFA;\n",
              "      box-shadow: 0px 1px 2px rgba(60, 64, 67, 0.3), 0px 1px 3px 1px rgba(60, 64, 67, 0.15);\n",
              "      fill: #174EA6;\n",
              "    }\n",
              "\n",
              "    .colab-df-buttons div {\n",
              "      margin-bottom: 4px;\n",
              "    }\n",
              "\n",
              "    [theme=dark] .colab-df-convert {\n",
              "      background-color: #3B4455;\n",
              "      fill: #D2E3FC;\n",
              "    }\n",
              "\n",
              "    [theme=dark] .colab-df-convert:hover {\n",
              "      background-color: #434B5C;\n",
              "      box-shadow: 0px 1px 3px 1px rgba(0, 0, 0, 0.15);\n",
              "      filter: drop-shadow(0px 1px 2px rgba(0, 0, 0, 0.3));\n",
              "      fill: #FFFFFF;\n",
              "    }\n",
              "  </style>\n",
              "\n",
              "    <script>\n",
              "      const buttonEl =\n",
              "        document.querySelector('#df-8b103529-4b48-4904-ae81-e94584be62ba button.colab-df-convert');\n",
              "      buttonEl.style.display =\n",
              "        google.colab.kernel.accessAllowed ? 'block' : 'none';\n",
              "\n",
              "      async function convertToInteractive(key) {\n",
              "        const element = document.querySelector('#df-8b103529-4b48-4904-ae81-e94584be62ba');\n",
              "        const dataTable =\n",
              "          await google.colab.kernel.invokeFunction('convertToInteractive',\n",
              "                                                    [key], {});\n",
              "        if (!dataTable) return;\n",
              "\n",
              "        const docLinkHtml = 'Like what you see? Visit the ' +\n",
              "          '<a target=\"_blank\" href=https://colab.research.google.com/notebooks/data_table.ipynb>data table notebook</a>'\n",
              "          + ' to learn more about interactive tables.';\n",
              "        element.innerHTML = '';\n",
              "        dataTable['output_type'] = 'display_data';\n",
              "        await google.colab.output.renderOutput(dataTable, element);\n",
              "        const docLink = document.createElement('div');\n",
              "        docLink.innerHTML = docLinkHtml;\n",
              "        element.appendChild(docLink);\n",
              "      }\n",
              "    </script>\n",
              "  </div>\n",
              "\n",
              "\n",
              "<div id=\"df-e2a6f6a6-9c66-4be5-8dee-6371fb177a33\">\n",
              "  <button class=\"colab-df-quickchart\" onclick=\"quickchart('df-e2a6f6a6-9c66-4be5-8dee-6371fb177a33')\"\n",
              "            title=\"Suggest charts\"\n",
              "            style=\"display:none;\">\n",
              "\n",
              "<svg xmlns=\"http://www.w3.org/2000/svg\" height=\"24px\"viewBox=\"0 0 24 24\"\n",
              "     width=\"24px\">\n",
              "    <g>\n",
              "        <path d=\"M19 3H5c-1.1 0-2 .9-2 2v14c0 1.1.9 2 2 2h14c1.1 0 2-.9 2-2V5c0-1.1-.9-2-2-2zM9 17H7v-7h2v7zm4 0h-2V7h2v10zm4 0h-2v-4h2v4z\"/>\n",
              "    </g>\n",
              "</svg>\n",
              "  </button>\n",
              "\n",
              "<style>\n",
              "  .colab-df-quickchart {\n",
              "      --bg-color: #E8F0FE;\n",
              "      --fill-color: #1967D2;\n",
              "      --hover-bg-color: #E2EBFA;\n",
              "      --hover-fill-color: #174EA6;\n",
              "      --disabled-fill-color: #AAA;\n",
              "      --disabled-bg-color: #DDD;\n",
              "  }\n",
              "\n",
              "  [theme=dark] .colab-df-quickchart {\n",
              "      --bg-color: #3B4455;\n",
              "      --fill-color: #D2E3FC;\n",
              "      --hover-bg-color: #434B5C;\n",
              "      --hover-fill-color: #FFFFFF;\n",
              "      --disabled-bg-color: #3B4455;\n",
              "      --disabled-fill-color: #666;\n",
              "  }\n",
              "\n",
              "  .colab-df-quickchart {\n",
              "    background-color: var(--bg-color);\n",
              "    border: none;\n",
              "    border-radius: 50%;\n",
              "    cursor: pointer;\n",
              "    display: none;\n",
              "    fill: var(--fill-color);\n",
              "    height: 32px;\n",
              "    padding: 0;\n",
              "    width: 32px;\n",
              "  }\n",
              "\n",
              "  .colab-df-quickchart:hover {\n",
              "    background-color: var(--hover-bg-color);\n",
              "    box-shadow: 0 1px 2px rgba(60, 64, 67, 0.3), 0 1px 3px 1px rgba(60, 64, 67, 0.15);\n",
              "    fill: var(--button-hover-fill-color);\n",
              "  }\n",
              "\n",
              "  .colab-df-quickchart-complete:disabled,\n",
              "  .colab-df-quickchart-complete:disabled:hover {\n",
              "    background-color: var(--disabled-bg-color);\n",
              "    fill: var(--disabled-fill-color);\n",
              "    box-shadow: none;\n",
              "  }\n",
              "\n",
              "  .colab-df-spinner {\n",
              "    border: 2px solid var(--fill-color);\n",
              "    border-color: transparent;\n",
              "    border-bottom-color: var(--fill-color);\n",
              "    animation:\n",
              "      spin 1s steps(1) infinite;\n",
              "  }\n",
              "\n",
              "  @keyframes spin {\n",
              "    0% {\n",
              "      border-color: transparent;\n",
              "      border-bottom-color: var(--fill-color);\n",
              "      border-left-color: var(--fill-color);\n",
              "    }\n",
              "    20% {\n",
              "      border-color: transparent;\n",
              "      border-left-color: var(--fill-color);\n",
              "      border-top-color: var(--fill-color);\n",
              "    }\n",
              "    30% {\n",
              "      border-color: transparent;\n",
              "      border-left-color: var(--fill-color);\n",
              "      border-top-color: var(--fill-color);\n",
              "      border-right-color: var(--fill-color);\n",
              "    }\n",
              "    40% {\n",
              "      border-color: transparent;\n",
              "      border-right-color: var(--fill-color);\n",
              "      border-top-color: var(--fill-color);\n",
              "    }\n",
              "    60% {\n",
              "      border-color: transparent;\n",
              "      border-right-color: var(--fill-color);\n",
              "    }\n",
              "    80% {\n",
              "      border-color: transparent;\n",
              "      border-right-color: var(--fill-color);\n",
              "      border-bottom-color: var(--fill-color);\n",
              "    }\n",
              "    90% {\n",
              "      border-color: transparent;\n",
              "      border-bottom-color: var(--fill-color);\n",
              "    }\n",
              "  }\n",
              "</style>\n",
              "\n",
              "  <script>\n",
              "    async function quickchart(key) {\n",
              "      const quickchartButtonEl =\n",
              "        document.querySelector('#' + key + ' button');\n",
              "      quickchartButtonEl.disabled = true;  // To prevent multiple clicks.\n",
              "      quickchartButtonEl.classList.add('colab-df-spinner');\n",
              "      try {\n",
              "        const charts = await google.colab.kernel.invokeFunction(\n",
              "            'suggestCharts', [key], {});\n",
              "      } catch (error) {\n",
              "        console.error('Error during call to suggestCharts:', error);\n",
              "      }\n",
              "      quickchartButtonEl.classList.remove('colab-df-spinner');\n",
              "      quickchartButtonEl.classList.add('colab-df-quickchart-complete');\n",
              "    }\n",
              "    (() => {\n",
              "      let quickchartButtonEl =\n",
              "        document.querySelector('#df-e2a6f6a6-9c66-4be5-8dee-6371fb177a33 button');\n",
              "      quickchartButtonEl.style.display =\n",
              "        google.colab.kernel.accessAllowed ? 'block' : 'none';\n",
              "    })();\n",
              "  </script>\n",
              "</div>\n",
              "\n",
              "  <div id=\"id_0c18e238-751c-40da-9ccb-2fd0f2aa3478\">\n",
              "    <style>\n",
              "      .colab-df-generate {\n",
              "        background-color: #E8F0FE;\n",
              "        border: none;\n",
              "        border-radius: 50%;\n",
              "        cursor: pointer;\n",
              "        display: none;\n",
              "        fill: #1967D2;\n",
              "        height: 32px;\n",
              "        padding: 0 0 0 0;\n",
              "        width: 32px;\n",
              "      }\n",
              "\n",
              "      .colab-df-generate:hover {\n",
              "        background-color: #E2EBFA;\n",
              "        box-shadow: 0px 1px 2px rgba(60, 64, 67, 0.3), 0px 1px 3px 1px rgba(60, 64, 67, 0.15);\n",
              "        fill: #174EA6;\n",
              "      }\n",
              "\n",
              "      [theme=dark] .colab-df-generate {\n",
              "        background-color: #3B4455;\n",
              "        fill: #D2E3FC;\n",
              "      }\n",
              "\n",
              "      [theme=dark] .colab-df-generate:hover {\n",
              "        background-color: #434B5C;\n",
              "        box-shadow: 0px 1px 3px 1px rgba(0, 0, 0, 0.15);\n",
              "        filter: drop-shadow(0px 1px 2px rgba(0, 0, 0, 0.3));\n",
              "        fill: #FFFFFF;\n",
              "      }\n",
              "    </style>\n",
              "    <button class=\"colab-df-generate\" onclick=\"generateWithVariable('df_categorical_reindex')\"\n",
              "            title=\"Generate code using this dataframe.\"\n",
              "            style=\"display:none;\">\n",
              "\n",
              "  <svg xmlns=\"http://www.w3.org/2000/svg\" height=\"24px\"viewBox=\"0 0 24 24\"\n",
              "       width=\"24px\">\n",
              "    <path d=\"M7,19H8.4L18.45,9,17,7.55,7,17.6ZM5,21V16.75L18.45,3.32a2,2,0,0,1,2.83,0l1.4,1.43a1.91,1.91,0,0,1,.58,1.4,1.91,1.91,0,0,1-.58,1.4L9.25,21ZM18.45,9,17,7.55Zm-12,3A5.31,5.31,0,0,0,4.9,8.1,5.31,5.31,0,0,0,1,6.5,5.31,5.31,0,0,0,4.9,4.9,5.31,5.31,0,0,0,6.5,1,5.31,5.31,0,0,0,8.1,4.9,5.31,5.31,0,0,0,12,6.5,5.46,5.46,0,0,0,6.5,12Z\"/>\n",
              "  </svg>\n",
              "    </button>\n",
              "    <script>\n",
              "      (() => {\n",
              "      const buttonEl =\n",
              "        document.querySelector('#id_0c18e238-751c-40da-9ccb-2fd0f2aa3478 button.colab-df-generate');\n",
              "      buttonEl.style.display =\n",
              "        google.colab.kernel.accessAllowed ? 'block' : 'none';\n",
              "\n",
              "      buttonEl.onclick = () => {\n",
              "        google.colab.notebook.generateWithVariable('df_categorical_reindex');\n",
              "      }\n",
              "      })();\n",
              "    </script>\n",
              "  </div>\n",
              "\n",
              "    </div>\n",
              "  </div>\n"
            ],
            "application/vnd.google.colaboratory.intrinsic+json": {
              "type": "dataframe",
              "variable_name": "df_categorical_reindex",
              "summary": "{\n  \"name\": \"df_categorical_reindex\",\n  \"rows\": 52200,\n  \"fields\": [\n    {\n      \"column\": \"vehicle_reference\",\n      \"properties\": {\n        \"dtype\": \"number\",\n        \"std\": 0,\n        \"min\": 1,\n        \"max\": 9,\n        \"num_unique_values\": 9,\n        \"samples\": [\n          9,\n          1,\n          8\n        ],\n        \"semantic_type\": \"\",\n        \"description\": \"\"\n      }\n    },\n    {\n      \"column\": \"casualty_reference\",\n      \"properties\": {\n        \"dtype\": \"number\",\n        \"std\": 0,\n        \"min\": 1,\n        \"max\": 22,\n        \"num_unique_values\": 17,\n        \"samples\": [\n          1,\n          3,\n          6\n        ],\n        \"semantic_type\": \"\",\n        \"description\": \"\"\n      }\n    },\n    {\n      \"column\": \"casualty_class\",\n      \"properties\": {\n        \"dtype\": \"number\",\n        \"std\": 0,\n        \"min\": 1,\n        \"max\": 3,\n        \"num_unique_values\": 3,\n        \"samples\": [\n          1,\n          3,\n          2\n        ],\n        \"semantic_type\": \"\",\n        \"description\": \"\"\n      }\n    },\n    {\n      \"column\": \"sex_of_casualty\",\n      \"properties\": {\n        \"dtype\": \"number\",\n        \"std\": 0.48573937476968104,\n        \"min\": 1.0,\n        \"max\": 2.0,\n        \"num_unique_values\": 2,\n        \"samples\": [\n          1.0,\n          2.0\n        ],\n        \"semantic_type\": \"\",\n        \"description\": \"\"\n      }\n    },\n    {\n      \"column\": \"age_of_casualty\",\n      \"properties\": {\n        \"dtype\": \"number\",\n        \"std\": 18.80848364594506,\n        \"min\": 0.0,\n        \"max\": 101.0,\n        \"num_unique_values\": 101,\n        \"samples\": [\n          4.0,\n          91.0\n        ],\n        \"semantic_type\": \"\",\n        \"description\": \"\"\n      }\n    },\n    {\n      \"column\": \"casualty_severity\",\n      \"properties\": {\n        \"dtype\": \"number\",\n        \"std\": 0,\n        \"min\": 1,\n        \"max\": 3,\n        \"num_unique_values\": 3,\n        \"samples\": [\n          3,\n          2\n        ],\n        \"semantic_type\": \"\",\n        \"description\": \"\"\n      }\n    },\n    {\n      \"column\": \"pedestrian_location\",\n      \"properties\": {\n        \"dtype\": \"number\",\n        \"std\": 1.6409205209156952,\n        \"min\": 0.0,\n        \"max\": 9.0,\n        \"num_unique_values\": 10,\n        \"samples\": [\n          6.0,\n          5.0\n        ],\n        \"semantic_type\": \"\",\n        \"description\": \"\"\n      }\n    },\n    {\n      \"column\": \"pedestrian_movement\",\n      \"properties\": {\n        \"dtype\": \"number\",\n        \"std\": 0.9854793828464637,\n        \"min\": 0.0,\n        \"max\": 8.0,\n        \"num_unique_values\": 9,\n        \"samples\": [\n          4.0,\n          2.0\n        ],\n        \"semantic_type\": \"\",\n        \"description\": \"\"\n      }\n    },\n    {\n      \"column\": \"casualty_type\",\n      \"properties\": {\n        \"dtype\": \"number\",\n        \"std\": 16.920795498580908,\n        \"min\": 0.0,\n        \"max\": 98.0,\n        \"num_unique_values\": 21,\n        \"samples\": [\n          9.0,\n          10.0\n        ],\n        \"semantic_type\": \"\",\n        \"description\": \"\"\n      }\n    },\n    {\n      \"column\": \"casualty_home_area_type\",\n      \"properties\": {\n        \"dtype\": \"number\",\n        \"std\": 0.6563804955653774,\n        \"min\": 1.0,\n        \"max\": 3.0,\n        \"num_unique_values\": 3,\n        \"samples\": [\n          1.0,\n          2.0\n        ],\n        \"semantic_type\": \"\",\n        \"description\": \"\"\n      }\n    },\n    {\n      \"column\": \"casualty_imd_decile\",\n      \"properties\": {\n        \"dtype\": \"number\",\n        \"std\": 2.784605425879648,\n        \"min\": 1.0,\n        \"max\": 10.0,\n        \"num_unique_values\": 10,\n        \"samples\": [\n          1.0,\n          2.0\n        ],\n        \"semantic_type\": \"\",\n        \"description\": \"\"\n      }\n    }\n  ]\n}"
            }
          },
          "metadata": {},
          "execution_count": 7
        }
      ]
    },
    {
      "cell_type": "markdown",
      "source": [
        "## Deal with categorical columns"
      ],
      "metadata": {
        "id": "dld8Kw_NCpNv"
      }
    },
    {
      "cell_type": "code",
      "source": [
        "# name different categories to ba able to analyze better\n",
        "\n",
        "df_categorical_with_names = df_categorical_reindex.copy()"
      ],
      "metadata": {
        "id": "5BiCfo1BjEXw"
      },
      "execution_count": 41,
      "outputs": []
    },
    {
      "cell_type": "code",
      "source": [
        "col = 'casualty_imd_decile'\n",
        "df_categorical_with_names[col][(df_categorical_with_names[col]==2) |\n",
        "                               (df_categorical_with_names[col]==3) |\n",
        "                               (df_categorical_with_names[col]==1)] = 'more_deprived'\n",
        "df_categorical_with_names[col][(df_categorical_with_names[col]==4) |\n",
        "                               (df_categorical_with_names[col]==5) |\n",
        "                               (df_categorical_with_names[col]==6) |\n",
        "                               (df_categorical_with_names[col]==7)] = 'middle_deprived'\n",
        "df_categorical_with_names[col][(df_categorical_with_names[col]==8) |\n",
        "                               (df_categorical_with_names[col]==9) |\n",
        "                               (df_categorical_with_names[col]==10)] = 'less_deprived'\n",
        "df_categorical_with_names['casualty_imd_decile'].value_counts()"
      ],
      "metadata": {
        "colab": {
          "base_uri": "https://localhost:8080/"
        },
        "id": "w2PxXgA9C8f0",
        "outputId": "4f16d663-6126-482a-9ae5-a2a9042d2ab6"
      },
      "execution_count": 42,
      "outputs": [
        {
          "output_type": "execute_result",
          "data": {
            "text/plain": [
              "middle_deprived    21042\n",
              "more_deprived      19489\n",
              "less_deprived      11669\n",
              "Name: casualty_imd_decile, dtype: int64"
            ]
          },
          "metadata": {},
          "execution_count": 42
        }
      ]
    },
    {
      "cell_type": "code",
      "source": [
        "col = 'casualty_home_area_type'\n",
        "df_categorical_with_names[col][df_categorical_with_names[col]==1] = 'Urban_area'\n",
        "df_categorical_with_names[col][(df_categorical_with_names[col]==2) |\n",
        "                               (df_categorical_with_names[col]==3)] = 'Rural or town'\n",
        "df_categorical_with_names[col].value_counts()"
      ],
      "metadata": {
        "colab": {
          "base_uri": "https://localhost:8080/"
        },
        "id": "4gghGu96F48a",
        "outputId": "4b51b64f-5fcd-4a06-e40e-41eca9842498"
      },
      "execution_count": 43,
      "outputs": [
        {
          "output_type": "execute_result",
          "data": {
            "text/plain": [
              "Urban_area       42125\n",
              "Rural or town    10075\n",
              "Name: casualty_home_area_type, dtype: int64"
            ]
          },
          "metadata": {},
          "execution_count": 43
        }
      ]
    },
    {
      "cell_type": "code",
      "source": [
        "col = 'casualty_type'\n",
        "df_categorical_with_names[col][df_categorical_with_names[col]==0] = 'Pedestrian'\n",
        "df_categorical_with_names[col][df_categorical_with_names[col]==1] = 'Cyclist'\n",
        "df_categorical_with_names[col][(df_categorical_with_names[col]==2) |\n",
        "                               (df_categorical_with_names[col]==3) |\n",
        "                               (df_categorical_with_names[col]==4) |\n",
        "                               (df_categorical_with_names[col]==5) |\n",
        "                               (df_categorical_with_names[col]==23) |\n",
        "                               (df_categorical_with_names[col]==97)] = 'Motorcycle'\n",
        "df_categorical_with_names[col][(df_categorical_with_names[col]==8) |\n",
        "                               (df_categorical_with_names[col]==9)] = 'Car'\n",
        "# df_categorical_with_names[col][df_categorical_with_names[col]==10] = 'Minibus'\n",
        "df_categorical_with_names[col][(df_categorical_with_names[col]==10) |\n",
        "                               (df_categorical_with_names[col]==11)] = 'Bus or Minibus'\n",
        "df_categorical_with_names[col][df_categorical_with_names[col]==16] = 'Horse_rider'\n",
        "df_categorical_with_names[col][df_categorical_with_names[col]==17] = 'Agricultural_vehicle'\n",
        "df_categorical_with_names[col][df_categorical_with_names[col]==18] = 'Tram_occupant'\n",
        "df_categorical_with_names[col][(df_categorical_with_names[col]==19) |\n",
        "                               (df_categorical_with_names[col]==20) |\n",
        "                               (df_categorical_with_names[col]==21) |\n",
        "                               (df_categorical_with_names[col]==98)] = 'Van'\n",
        "df_categorical_with_names[col][df_categorical_with_names[col]==90] = 'Other_vehicle_occupant'\n",
        "df_categorical_with_names[col][df_categorical_with_names[col]==22] = 'Scooter'\n",
        "\n",
        "df_categorical_with_names[col].value_counts()"
      ],
      "metadata": {
        "colab": {
          "base_uri": "https://localhost:8080/"
        },
        "id": "dE1w2vIrHhn7",
        "outputId": "31dad844-056c-4042-a4d1-be94456dcb03"
      },
      "execution_count": 44,
      "outputs": [
        {
          "output_type": "execute_result",
          "data": {
            "text/plain": [
              "Car                       29785\n",
              "Motorcycle                 7015\n",
              "Cyclist                    6374\n",
              "Pedestrian                 5370\n",
              "Van                        1909\n",
              "Bus or Minibus              864\n",
              "Other_vehicle_occupant      723\n",
              "Scooter                     103\n",
              "Horse_rider                  28\n",
              "Agricultural_vehicle         27\n",
              "Tram_occupant                 2\n",
              "Name: casualty_type, dtype: int64"
            ]
          },
          "metadata": {},
          "execution_count": 44
        }
      ]
    },
    {
      "cell_type": "code",
      "source": [
        "df_categorical_with_names.drop(df_categorical_with_names[(df_categorical_with_names['casualty_type']=='Horse_rider') |\n",
        "                                                         (df_categorical_with_names['casualty_type']=='Agricultural_vehicle') |\n",
        "                                                         (df_categorical_with_names['casualty_type']=='Tram_occupant') |\n",
        "                                                         (df_categorical_with_names['casualty_type']=='Scooter')].index,\n",
        "                               inplace=True)\n",
        "df_categorical_with_names['casualty_type'].value_counts()"
      ],
      "metadata": {
        "colab": {
          "base_uri": "https://localhost:8080/"
        },
        "id": "c5a1nVwS0Woc",
        "outputId": "033469a3-e2f7-4dc6-a768-869295a79a21"
      },
      "execution_count": 45,
      "outputs": [
        {
          "output_type": "execute_result",
          "data": {
            "text/plain": [
              "Car                       29785\n",
              "Motorcycle                 7015\n",
              "Cyclist                    6374\n",
              "Pedestrian                 5370\n",
              "Van                        1909\n",
              "Bus or Minibus              864\n",
              "Other_vehicle_occupant      723\n",
              "Name: casualty_type, dtype: int64"
            ]
          },
          "metadata": {},
          "execution_count": 45
        }
      ]
    },
    {
      "cell_type": "code",
      "source": [
        "col = 'casualty_severity'\n",
        "df_categorical_with_names[col][df_categorical_with_names[col]==1] = 'Fatal'\n",
        "df_categorical_with_names[col][df_categorical_with_names[col]==2] = 'Serious'\n",
        "df_categorical_with_names[col][df_categorical_with_names[col]==3] = 'Slight'\n",
        "df_categorical_with_names[col].value_counts()"
      ],
      "metadata": {
        "colab": {
          "base_uri": "https://localhost:8080/"
        },
        "id": "8u2XIph5YWCu",
        "outputId": "56e7de47-7ec3-4125-89e9-5e50b8a95d4f"
      },
      "execution_count": 46,
      "outputs": [
        {
          "output_type": "execute_result",
          "data": {
            "text/plain": [
              "Slight     41541\n",
              "Serious     9902\n",
              "Fatal        597\n",
              "Name: casualty_severity, dtype: int64"
            ]
          },
          "metadata": {},
          "execution_count": 46
        }
      ]
    },
    {
      "cell_type": "code",
      "source": [
        "col = 'sex_of_casualty'\n",
        "df_categorical_with_names[col][df_categorical_with_names[col]==1] = 'Male'\n",
        "df_categorical_with_names[col][df_categorical_with_names[col]==2] = 'Female'\n",
        "df_categorical_with_names[col].value_counts()"
      ],
      "metadata": {
        "colab": {
          "base_uri": "https://localhost:8080/"
        },
        "id": "zhu1ooPpZ_Wh",
        "outputId": "b9d65966-fed8-4c68-9e38-041096349e1d"
      },
      "execution_count": 47,
      "outputs": [
        {
          "output_type": "execute_result",
          "data": {
            "text/plain": [
              "Male      32193\n",
              "Female    19847\n",
              "Name: sex_of_casualty, dtype: int64"
            ]
          },
          "metadata": {},
          "execution_count": 47
        }
      ]
    },
    {
      "cell_type": "code",
      "source": [
        "col = 'casualty_class'\n",
        "df_categorical_with_names[col][df_categorical_with_names[col]==1] = 'Driver or rider'\n",
        "df_categorical_with_names[col][df_categorical_with_names[col]==2] = 'Passenger'\n",
        "df_categorical_with_names[col][df_categorical_with_names[col]==3] = 'Pedestrian'\n",
        "df_categorical_with_names[col].value_counts()"
      ],
      "metadata": {
        "colab": {
          "base_uri": "https://localhost:8080/"
        },
        "id": "Iky7keILadmR",
        "outputId": "1abdb4ce-8569-4db8-e0e3-962e48678582"
      },
      "execution_count": 48,
      "outputs": [
        {
          "output_type": "execute_result",
          "data": {
            "text/plain": [
              "Driver or rider    37147\n",
              "Passenger           9523\n",
              "Pedestrian          5370\n",
              "Name: casualty_class, dtype: int64"
            ]
          },
          "metadata": {},
          "execution_count": 48
        }
      ]
    },
    {
      "cell_type": "code",
      "source": [
        "col = 'pedestrian_location'\n",
        "df_categorical_with_names[col][df_categorical_with_names[col]==1] = 'Crossing on pedestrian crossing facility'\n",
        "df_categorical_with_names[col][df_categorical_with_names[col]==2] = 'Crossing in zig-zag approach lines'\n",
        "df_categorical_with_names[col][df_categorical_with_names[col]==3] = 'Crossing in zig-zag exit lines'\n",
        "df_categorical_with_names[col][df_categorical_with_names[col]==4] = 'Crossing within 50m. of pedestrian crossing'\n",
        "df_categorical_with_names[col][df_categorical_with_names[col]==5] = 'In carriageway, crossing elsewhere'\n",
        "df_categorical_with_names[col][df_categorical_with_names[col]==6] = 'On footway or verge'\n",
        "df_categorical_with_names[col][df_categorical_with_names[col]==7] = 'On refuge or central island' # or central reservation\n",
        "df_categorical_with_names[col][df_categorical_with_names[col]==8] = 'In centre of carriageway' # - not on refuge, island or central reservation\n",
        "df_categorical_with_names[col][df_categorical_with_names[col]==9] = 'In carriageway, not crossing'\n",
        "df_categorical_with_names[col].value_counts()"
      ],
      "metadata": {
        "colab": {
          "base_uri": "https://localhost:8080/"
        },
        "id": "SQF9ktbEFlx6",
        "outputId": "10cca2e6-66e4-463e-9e3b-e50406e0a06e"
      },
      "execution_count": 49,
      "outputs": [
        {
          "output_type": "execute_result",
          "data": {
            "text/plain": [
              "0.0                                            46670\n",
              "In carriageway, crossing elsewhere              2555\n",
              "Crossing on pedestrian crossing facility        1152\n",
              "In carriageway, not crossing                     568\n",
              "In centre of carriageway                         448\n",
              "Crossing within 50m. of pedestrian crossing      438\n",
              "On footway or verge                              113\n",
              "On refuge or central island                       37\n",
              "Crossing in zig-zag approach lines                32\n",
              "Crossing in zig-zag exit lines                    27\n",
              "Name: pedestrian_location, dtype: int64"
            ]
          },
          "metadata": {},
          "execution_count": 49
        }
      ]
    },
    {
      "cell_type": "code",
      "source": [
        "col = 'pedestrian_movement'\n",
        "df_categorical_with_names[col][df_categorical_with_names[col]==1] = 'Crossing from drivers nearside'\n",
        "df_categorical_with_names[col][df_categorical_with_names[col]==2] = 'Crossing from nearside - masked by parked or stationary vehicle'\n",
        "df_categorical_with_names[col][df_categorical_with_names[col]==3] = 'Crossing from drivers offside'\n",
        "df_categorical_with_names[col][df_categorical_with_names[col]==4] = 'Crossing from offside - masked by  parked or stationary vehicle'\n",
        "df_categorical_with_names[col][df_categorical_with_names[col]==5] = 'In carriageway, stationary - not crossing' #   (standing or playing)\n",
        "df_categorical_with_names[col][df_categorical_with_names[col]==6] = 'In carriageway, stationary - not crossing- masked by parked or stationary vehicle' #  (standing or playing)\n",
        "df_categorical_with_names[col][df_categorical_with_names[col]==7] = 'Walking along in carriageway, facing traffic'\n",
        "df_categorical_with_names[col][df_categorical_with_names[col]==8] = 'Walking along in carriageway, back to traffic'\n",
        "df_categorical_with_names[col].value_counts()"
      ],
      "metadata": {
        "colab": {
          "base_uri": "https://localhost:8080/"
        },
        "id": "ntK65UR0IJ1R",
        "outputId": "976ee7d2-71a0-494b-d183-7daa0c7c4f8b"
      },
      "execution_count": 50,
      "outputs": [
        {
          "output_type": "execute_result",
          "data": {
            "text/plain": [
              "0.0                                                                                  46669\n",
              "Crossing from drivers nearside                                                        2398\n",
              "Crossing from drivers offside                                                         1533\n",
              "In carriageway, stationary - not crossing                                              392\n",
              "Crossing from nearside - masked by parked or stationary vehicle                        355\n",
              "Crossing from offside - masked by  parked or stationary vehicle                        278\n",
              "Walking along in carriageway, facing traffic                                           191\n",
              "Walking along in carriageway, back to traffic                                          181\n",
              "In carriageway, stationary - not crossing- masked by parked or stationary vehicle       43\n",
              "Name: pedestrian_movement, dtype: int64"
            ]
          },
          "metadata": {},
          "execution_count": 50
        }
      ]
    },
    {
      "cell_type": "code",
      "source": [
        "len(df_categorical_with_names[df_categorical_with_names['casualty_class']=='Pedestrian'])"
      ],
      "metadata": {
        "colab": {
          "base_uri": "https://localhost:8080/"
        },
        "id": "_qN5wEJnURx3",
        "outputId": "609377b0-42e5-497d-ab97-1cf10423d385"
      },
      "execution_count": 20,
      "outputs": [
        {
          "output_type": "execute_result",
          "data": {
            "text/plain": [
              "5370"
            ]
          },
          "metadata": {},
          "execution_count": 20
        }
      ]
    },
    {
      "cell_type": "code",
      "source": [
        "df_pedestrian = df_categorical_with_names[(df_categorical_with_names['pedestrian_location']!=0) &\n",
        "                                          (df_categorical_with_names['pedestrian_movement']!=0)]\n",
        "df_pedestrian"
      ],
      "metadata": {
        "id": "hmx23qk_PkM4",
        "colab": {
          "base_uri": "https://localhost:8080/",
          "height": 634
        },
        "outputId": "e177ab48-740c-4821-de98-9cb9b9ef1ea1"
      },
      "execution_count": 51,
      "outputs": [
        {
          "output_type": "execute_result",
          "data": {
            "text/plain": [
              "       vehicle_reference  casualty_reference casualty_class sex_of_casualty  \\\n",
              "9                      1                   1     Pedestrian            Male   \n",
              "31                     1                   1     Pedestrian            Male   \n",
              "41                     1                   1     Pedestrian          Female   \n",
              "60                     1                   1     Pedestrian            Male   \n",
              "86                     1                   1     Pedestrian            Male   \n",
              "...                  ...                 ...            ...             ...   \n",
              "52145                  1                   1     Pedestrian            Male   \n",
              "52156                  1                   1     Pedestrian          Female   \n",
              "52161                  1                   1     Pedestrian          Female   \n",
              "52164                  1                   1     Pedestrian          Female   \n",
              "52194                  1                   1     Pedestrian          Female   \n",
              "\n",
              "       age_of_casualty casualty_severity  \\\n",
              "9                 79.0            Slight   \n",
              "31                14.0            Slight   \n",
              "41                 5.0            Slight   \n",
              "60                17.0           Serious   \n",
              "86                91.0            Slight   \n",
              "...                ...               ...   \n",
              "52145             47.0            Slight   \n",
              "52156             20.0           Serious   \n",
              "52161             57.0           Serious   \n",
              "52164             44.0            Slight   \n",
              "52194             77.0           Serious   \n",
              "\n",
              "                            pedestrian_location  \\\n",
              "9            In carriageway, crossing elsewhere   \n",
              "31                 In carriageway, not crossing   \n",
              "41           In carriageway, crossing elsewhere   \n",
              "60           In carriageway, crossing elsewhere   \n",
              "86           In carriageway, crossing elsewhere   \n",
              "...                                         ...   \n",
              "52145              In carriageway, not crossing   \n",
              "52156        In carriageway, crossing elsewhere   \n",
              "52161        In carriageway, crossing elsewhere   \n",
              "52164  Crossing on pedestrian crossing facility   \n",
              "52194        In carriageway, crossing elsewhere   \n",
              "\n",
              "                                     pedestrian_movement casualty_type  \\\n",
              "9      Crossing from nearside - masked by parked or s...    Pedestrian   \n",
              "31         Walking along in carriageway, back to traffic    Pedestrian   \n",
              "41                         Crossing from drivers offside    Pedestrian   \n",
              "60                        Crossing from drivers nearside    Pedestrian   \n",
              "86                         Crossing from drivers offside    Pedestrian   \n",
              "...                                                  ...           ...   \n",
              "52145       Walking along in carriageway, facing traffic    Pedestrian   \n",
              "52156                      Crossing from drivers offside    Pedestrian   \n",
              "52161  Crossing from offside - masked by  parked or s...    Pedestrian   \n",
              "52164                      Crossing from drivers offside    Pedestrian   \n",
              "52194  Crossing from nearside - masked by parked or s...    Pedestrian   \n",
              "\n",
              "      casualty_home_area_type casualty_imd_decile  \n",
              "9                  Urban_area       less_deprived  \n",
              "31                 Urban_area     middle_deprived  \n",
              "41                 Urban_area       more_deprived  \n",
              "60              Rural or town       less_deprived  \n",
              "86                 Urban_area     middle_deprived  \n",
              "...                       ...                 ...  \n",
              "52145              Urban_area     middle_deprived  \n",
              "52156              Urban_area       less_deprived  \n",
              "52161           Rural or town       less_deprived  \n",
              "52164              Urban_area       less_deprived  \n",
              "52194           Rural or town       less_deprived  \n",
              "\n",
              "[5370 rows x 11 columns]"
            ],
            "text/html": [
              "\n",
              "  <div id=\"df-34906dd8-a74d-4ca1-9d91-61786718fd0a\" class=\"colab-df-container\">\n",
              "    <div>\n",
              "<style scoped>\n",
              "    .dataframe tbody tr th:only-of-type {\n",
              "        vertical-align: middle;\n",
              "    }\n",
              "\n",
              "    .dataframe tbody tr th {\n",
              "        vertical-align: top;\n",
              "    }\n",
              "\n",
              "    .dataframe thead th {\n",
              "        text-align: right;\n",
              "    }\n",
              "</style>\n",
              "<table border=\"1\" class=\"dataframe\">\n",
              "  <thead>\n",
              "    <tr style=\"text-align: right;\">\n",
              "      <th></th>\n",
              "      <th>vehicle_reference</th>\n",
              "      <th>casualty_reference</th>\n",
              "      <th>casualty_class</th>\n",
              "      <th>sex_of_casualty</th>\n",
              "      <th>age_of_casualty</th>\n",
              "      <th>casualty_severity</th>\n",
              "      <th>pedestrian_location</th>\n",
              "      <th>pedestrian_movement</th>\n",
              "      <th>casualty_type</th>\n",
              "      <th>casualty_home_area_type</th>\n",
              "      <th>casualty_imd_decile</th>\n",
              "    </tr>\n",
              "  </thead>\n",
              "  <tbody>\n",
              "    <tr>\n",
              "      <th>9</th>\n",
              "      <td>1</td>\n",
              "      <td>1</td>\n",
              "      <td>Pedestrian</td>\n",
              "      <td>Male</td>\n",
              "      <td>79.0</td>\n",
              "      <td>Slight</td>\n",
              "      <td>In carriageway, crossing elsewhere</td>\n",
              "      <td>Crossing from nearside - masked by parked or s...</td>\n",
              "      <td>Pedestrian</td>\n",
              "      <td>Urban_area</td>\n",
              "      <td>less_deprived</td>\n",
              "    </tr>\n",
              "    <tr>\n",
              "      <th>31</th>\n",
              "      <td>1</td>\n",
              "      <td>1</td>\n",
              "      <td>Pedestrian</td>\n",
              "      <td>Male</td>\n",
              "      <td>14.0</td>\n",
              "      <td>Slight</td>\n",
              "      <td>In carriageway, not crossing</td>\n",
              "      <td>Walking along in carriageway, back to traffic</td>\n",
              "      <td>Pedestrian</td>\n",
              "      <td>Urban_area</td>\n",
              "      <td>middle_deprived</td>\n",
              "    </tr>\n",
              "    <tr>\n",
              "      <th>41</th>\n",
              "      <td>1</td>\n",
              "      <td>1</td>\n",
              "      <td>Pedestrian</td>\n",
              "      <td>Female</td>\n",
              "      <td>5.0</td>\n",
              "      <td>Slight</td>\n",
              "      <td>In carriageway, crossing elsewhere</td>\n",
              "      <td>Crossing from drivers offside</td>\n",
              "      <td>Pedestrian</td>\n",
              "      <td>Urban_area</td>\n",
              "      <td>more_deprived</td>\n",
              "    </tr>\n",
              "    <tr>\n",
              "      <th>60</th>\n",
              "      <td>1</td>\n",
              "      <td>1</td>\n",
              "      <td>Pedestrian</td>\n",
              "      <td>Male</td>\n",
              "      <td>17.0</td>\n",
              "      <td>Serious</td>\n",
              "      <td>In carriageway, crossing elsewhere</td>\n",
              "      <td>Crossing from drivers nearside</td>\n",
              "      <td>Pedestrian</td>\n",
              "      <td>Rural or town</td>\n",
              "      <td>less_deprived</td>\n",
              "    </tr>\n",
              "    <tr>\n",
              "      <th>86</th>\n",
              "      <td>1</td>\n",
              "      <td>1</td>\n",
              "      <td>Pedestrian</td>\n",
              "      <td>Male</td>\n",
              "      <td>91.0</td>\n",
              "      <td>Slight</td>\n",
              "      <td>In carriageway, crossing elsewhere</td>\n",
              "      <td>Crossing from drivers offside</td>\n",
              "      <td>Pedestrian</td>\n",
              "      <td>Urban_area</td>\n",
              "      <td>middle_deprived</td>\n",
              "    </tr>\n",
              "    <tr>\n",
              "      <th>...</th>\n",
              "      <td>...</td>\n",
              "      <td>...</td>\n",
              "      <td>...</td>\n",
              "      <td>...</td>\n",
              "      <td>...</td>\n",
              "      <td>...</td>\n",
              "      <td>...</td>\n",
              "      <td>...</td>\n",
              "      <td>...</td>\n",
              "      <td>...</td>\n",
              "      <td>...</td>\n",
              "    </tr>\n",
              "    <tr>\n",
              "      <th>52145</th>\n",
              "      <td>1</td>\n",
              "      <td>1</td>\n",
              "      <td>Pedestrian</td>\n",
              "      <td>Male</td>\n",
              "      <td>47.0</td>\n",
              "      <td>Slight</td>\n",
              "      <td>In carriageway, not crossing</td>\n",
              "      <td>Walking along in carriageway, facing traffic</td>\n",
              "      <td>Pedestrian</td>\n",
              "      <td>Urban_area</td>\n",
              "      <td>middle_deprived</td>\n",
              "    </tr>\n",
              "    <tr>\n",
              "      <th>52156</th>\n",
              "      <td>1</td>\n",
              "      <td>1</td>\n",
              "      <td>Pedestrian</td>\n",
              "      <td>Female</td>\n",
              "      <td>20.0</td>\n",
              "      <td>Serious</td>\n",
              "      <td>In carriageway, crossing elsewhere</td>\n",
              "      <td>Crossing from drivers offside</td>\n",
              "      <td>Pedestrian</td>\n",
              "      <td>Urban_area</td>\n",
              "      <td>less_deprived</td>\n",
              "    </tr>\n",
              "    <tr>\n",
              "      <th>52161</th>\n",
              "      <td>1</td>\n",
              "      <td>1</td>\n",
              "      <td>Pedestrian</td>\n",
              "      <td>Female</td>\n",
              "      <td>57.0</td>\n",
              "      <td>Serious</td>\n",
              "      <td>In carriageway, crossing elsewhere</td>\n",
              "      <td>Crossing from offside - masked by  parked or s...</td>\n",
              "      <td>Pedestrian</td>\n",
              "      <td>Rural or town</td>\n",
              "      <td>less_deprived</td>\n",
              "    </tr>\n",
              "    <tr>\n",
              "      <th>52164</th>\n",
              "      <td>1</td>\n",
              "      <td>1</td>\n",
              "      <td>Pedestrian</td>\n",
              "      <td>Female</td>\n",
              "      <td>44.0</td>\n",
              "      <td>Slight</td>\n",
              "      <td>Crossing on pedestrian crossing facility</td>\n",
              "      <td>Crossing from drivers offside</td>\n",
              "      <td>Pedestrian</td>\n",
              "      <td>Urban_area</td>\n",
              "      <td>less_deprived</td>\n",
              "    </tr>\n",
              "    <tr>\n",
              "      <th>52194</th>\n",
              "      <td>1</td>\n",
              "      <td>1</td>\n",
              "      <td>Pedestrian</td>\n",
              "      <td>Female</td>\n",
              "      <td>77.0</td>\n",
              "      <td>Serious</td>\n",
              "      <td>In carriageway, crossing elsewhere</td>\n",
              "      <td>Crossing from nearside - masked by parked or s...</td>\n",
              "      <td>Pedestrian</td>\n",
              "      <td>Rural or town</td>\n",
              "      <td>less_deprived</td>\n",
              "    </tr>\n",
              "  </tbody>\n",
              "</table>\n",
              "<p>5370 rows × 11 columns</p>\n",
              "</div>\n",
              "    <div class=\"colab-df-buttons\">\n",
              "\n",
              "  <div class=\"colab-df-container\">\n",
              "    <button class=\"colab-df-convert\" onclick=\"convertToInteractive('df-34906dd8-a74d-4ca1-9d91-61786718fd0a')\"\n",
              "            title=\"Convert this dataframe to an interactive table.\"\n",
              "            style=\"display:none;\">\n",
              "\n",
              "  <svg xmlns=\"http://www.w3.org/2000/svg\" height=\"24px\" viewBox=\"0 -960 960 960\">\n",
              "    <path d=\"M120-120v-720h720v720H120Zm60-500h600v-160H180v160Zm220 220h160v-160H400v160Zm0 220h160v-160H400v160ZM180-400h160v-160H180v160Zm440 0h160v-160H620v160ZM180-180h160v-160H180v160Zm440 0h160v-160H620v160Z\"/>\n",
              "  </svg>\n",
              "    </button>\n",
              "\n",
              "  <style>\n",
              "    .colab-df-container {\n",
              "      display:flex;\n",
              "      gap: 12px;\n",
              "    }\n",
              "\n",
              "    .colab-df-convert {\n",
              "      background-color: #E8F0FE;\n",
              "      border: none;\n",
              "      border-radius: 50%;\n",
              "      cursor: pointer;\n",
              "      display: none;\n",
              "      fill: #1967D2;\n",
              "      height: 32px;\n",
              "      padding: 0 0 0 0;\n",
              "      width: 32px;\n",
              "    }\n",
              "\n",
              "    .colab-df-convert:hover {\n",
              "      background-color: #E2EBFA;\n",
              "      box-shadow: 0px 1px 2px rgba(60, 64, 67, 0.3), 0px 1px 3px 1px rgba(60, 64, 67, 0.15);\n",
              "      fill: #174EA6;\n",
              "    }\n",
              "\n",
              "    .colab-df-buttons div {\n",
              "      margin-bottom: 4px;\n",
              "    }\n",
              "\n",
              "    [theme=dark] .colab-df-convert {\n",
              "      background-color: #3B4455;\n",
              "      fill: #D2E3FC;\n",
              "    }\n",
              "\n",
              "    [theme=dark] .colab-df-convert:hover {\n",
              "      background-color: #434B5C;\n",
              "      box-shadow: 0px 1px 3px 1px rgba(0, 0, 0, 0.15);\n",
              "      filter: drop-shadow(0px 1px 2px rgba(0, 0, 0, 0.3));\n",
              "      fill: #FFFFFF;\n",
              "    }\n",
              "  </style>\n",
              "\n",
              "    <script>\n",
              "      const buttonEl =\n",
              "        document.querySelector('#df-34906dd8-a74d-4ca1-9d91-61786718fd0a button.colab-df-convert');\n",
              "      buttonEl.style.display =\n",
              "        google.colab.kernel.accessAllowed ? 'block' : 'none';\n",
              "\n",
              "      async function convertToInteractive(key) {\n",
              "        const element = document.querySelector('#df-34906dd8-a74d-4ca1-9d91-61786718fd0a');\n",
              "        const dataTable =\n",
              "          await google.colab.kernel.invokeFunction('convertToInteractive',\n",
              "                                                    [key], {});\n",
              "        if (!dataTable) return;\n",
              "\n",
              "        const docLinkHtml = 'Like what you see? Visit the ' +\n",
              "          '<a target=\"_blank\" href=https://colab.research.google.com/notebooks/data_table.ipynb>data table notebook</a>'\n",
              "          + ' to learn more about interactive tables.';\n",
              "        element.innerHTML = '';\n",
              "        dataTable['output_type'] = 'display_data';\n",
              "        await google.colab.output.renderOutput(dataTable, element);\n",
              "        const docLink = document.createElement('div');\n",
              "        docLink.innerHTML = docLinkHtml;\n",
              "        element.appendChild(docLink);\n",
              "      }\n",
              "    </script>\n",
              "  </div>\n",
              "\n",
              "\n",
              "<div id=\"df-ed242883-3151-47ff-9f23-383e273a80c5\">\n",
              "  <button class=\"colab-df-quickchart\" onclick=\"quickchart('df-ed242883-3151-47ff-9f23-383e273a80c5')\"\n",
              "            title=\"Suggest charts\"\n",
              "            style=\"display:none;\">\n",
              "\n",
              "<svg xmlns=\"http://www.w3.org/2000/svg\" height=\"24px\"viewBox=\"0 0 24 24\"\n",
              "     width=\"24px\">\n",
              "    <g>\n",
              "        <path d=\"M19 3H5c-1.1 0-2 .9-2 2v14c0 1.1.9 2 2 2h14c1.1 0 2-.9 2-2V5c0-1.1-.9-2-2-2zM9 17H7v-7h2v7zm4 0h-2V7h2v10zm4 0h-2v-4h2v4z\"/>\n",
              "    </g>\n",
              "</svg>\n",
              "  </button>\n",
              "\n",
              "<style>\n",
              "  .colab-df-quickchart {\n",
              "      --bg-color: #E8F0FE;\n",
              "      --fill-color: #1967D2;\n",
              "      --hover-bg-color: #E2EBFA;\n",
              "      --hover-fill-color: #174EA6;\n",
              "      --disabled-fill-color: #AAA;\n",
              "      --disabled-bg-color: #DDD;\n",
              "  }\n",
              "\n",
              "  [theme=dark] .colab-df-quickchart {\n",
              "      --bg-color: #3B4455;\n",
              "      --fill-color: #D2E3FC;\n",
              "      --hover-bg-color: #434B5C;\n",
              "      --hover-fill-color: #FFFFFF;\n",
              "      --disabled-bg-color: #3B4455;\n",
              "      --disabled-fill-color: #666;\n",
              "  }\n",
              "\n",
              "  .colab-df-quickchart {\n",
              "    background-color: var(--bg-color);\n",
              "    border: none;\n",
              "    border-radius: 50%;\n",
              "    cursor: pointer;\n",
              "    display: none;\n",
              "    fill: var(--fill-color);\n",
              "    height: 32px;\n",
              "    padding: 0;\n",
              "    width: 32px;\n",
              "  }\n",
              "\n",
              "  .colab-df-quickchart:hover {\n",
              "    background-color: var(--hover-bg-color);\n",
              "    box-shadow: 0 1px 2px rgba(60, 64, 67, 0.3), 0 1px 3px 1px rgba(60, 64, 67, 0.15);\n",
              "    fill: var(--button-hover-fill-color);\n",
              "  }\n",
              "\n",
              "  .colab-df-quickchart-complete:disabled,\n",
              "  .colab-df-quickchart-complete:disabled:hover {\n",
              "    background-color: var(--disabled-bg-color);\n",
              "    fill: var(--disabled-fill-color);\n",
              "    box-shadow: none;\n",
              "  }\n",
              "\n",
              "  .colab-df-spinner {\n",
              "    border: 2px solid var(--fill-color);\n",
              "    border-color: transparent;\n",
              "    border-bottom-color: var(--fill-color);\n",
              "    animation:\n",
              "      spin 1s steps(1) infinite;\n",
              "  }\n",
              "\n",
              "  @keyframes spin {\n",
              "    0% {\n",
              "      border-color: transparent;\n",
              "      border-bottom-color: var(--fill-color);\n",
              "      border-left-color: var(--fill-color);\n",
              "    }\n",
              "    20% {\n",
              "      border-color: transparent;\n",
              "      border-left-color: var(--fill-color);\n",
              "      border-top-color: var(--fill-color);\n",
              "    }\n",
              "    30% {\n",
              "      border-color: transparent;\n",
              "      border-left-color: var(--fill-color);\n",
              "      border-top-color: var(--fill-color);\n",
              "      border-right-color: var(--fill-color);\n",
              "    }\n",
              "    40% {\n",
              "      border-color: transparent;\n",
              "      border-right-color: var(--fill-color);\n",
              "      border-top-color: var(--fill-color);\n",
              "    }\n",
              "    60% {\n",
              "      border-color: transparent;\n",
              "      border-right-color: var(--fill-color);\n",
              "    }\n",
              "    80% {\n",
              "      border-color: transparent;\n",
              "      border-right-color: var(--fill-color);\n",
              "      border-bottom-color: var(--fill-color);\n",
              "    }\n",
              "    90% {\n",
              "      border-color: transparent;\n",
              "      border-bottom-color: var(--fill-color);\n",
              "    }\n",
              "  }\n",
              "</style>\n",
              "\n",
              "  <script>\n",
              "    async function quickchart(key) {\n",
              "      const quickchartButtonEl =\n",
              "        document.querySelector('#' + key + ' button');\n",
              "      quickchartButtonEl.disabled = true;  // To prevent multiple clicks.\n",
              "      quickchartButtonEl.classList.add('colab-df-spinner');\n",
              "      try {\n",
              "        const charts = await google.colab.kernel.invokeFunction(\n",
              "            'suggestCharts', [key], {});\n",
              "      } catch (error) {\n",
              "        console.error('Error during call to suggestCharts:', error);\n",
              "      }\n",
              "      quickchartButtonEl.classList.remove('colab-df-spinner');\n",
              "      quickchartButtonEl.classList.add('colab-df-quickchart-complete');\n",
              "    }\n",
              "    (() => {\n",
              "      let quickchartButtonEl =\n",
              "        document.querySelector('#df-ed242883-3151-47ff-9f23-383e273a80c5 button');\n",
              "      quickchartButtonEl.style.display =\n",
              "        google.colab.kernel.accessAllowed ? 'block' : 'none';\n",
              "    })();\n",
              "  </script>\n",
              "</div>\n",
              "\n",
              "  <div id=\"id_1d3b8916-89af-4cc7-81f5-fcc45ab854de\">\n",
              "    <style>\n",
              "      .colab-df-generate {\n",
              "        background-color: #E8F0FE;\n",
              "        border: none;\n",
              "        border-radius: 50%;\n",
              "        cursor: pointer;\n",
              "        display: none;\n",
              "        fill: #1967D2;\n",
              "        height: 32px;\n",
              "        padding: 0 0 0 0;\n",
              "        width: 32px;\n",
              "      }\n",
              "\n",
              "      .colab-df-generate:hover {\n",
              "        background-color: #E2EBFA;\n",
              "        box-shadow: 0px 1px 2px rgba(60, 64, 67, 0.3), 0px 1px 3px 1px rgba(60, 64, 67, 0.15);\n",
              "        fill: #174EA6;\n",
              "      }\n",
              "\n",
              "      [theme=dark] .colab-df-generate {\n",
              "        background-color: #3B4455;\n",
              "        fill: #D2E3FC;\n",
              "      }\n",
              "\n",
              "      [theme=dark] .colab-df-generate:hover {\n",
              "        background-color: #434B5C;\n",
              "        box-shadow: 0px 1px 3px 1px rgba(0, 0, 0, 0.15);\n",
              "        filter: drop-shadow(0px 1px 2px rgba(0, 0, 0, 0.3));\n",
              "        fill: #FFFFFF;\n",
              "      }\n",
              "    </style>\n",
              "    <button class=\"colab-df-generate\" onclick=\"generateWithVariable('df_pedestrian')\"\n",
              "            title=\"Generate code using this dataframe.\"\n",
              "            style=\"display:none;\">\n",
              "\n",
              "  <svg xmlns=\"http://www.w3.org/2000/svg\" height=\"24px\"viewBox=\"0 0 24 24\"\n",
              "       width=\"24px\">\n",
              "    <path d=\"M7,19H8.4L18.45,9,17,7.55,7,17.6ZM5,21V16.75L18.45,3.32a2,2,0,0,1,2.83,0l1.4,1.43a1.91,1.91,0,0,1,.58,1.4,1.91,1.91,0,0,1-.58,1.4L9.25,21ZM18.45,9,17,7.55Zm-12,3A5.31,5.31,0,0,0,4.9,8.1,5.31,5.31,0,0,0,1,6.5,5.31,5.31,0,0,0,4.9,4.9,5.31,5.31,0,0,0,6.5,1,5.31,5.31,0,0,0,8.1,4.9,5.31,5.31,0,0,0,12,6.5,5.46,5.46,0,0,0,6.5,12Z\"/>\n",
              "  </svg>\n",
              "    </button>\n",
              "    <script>\n",
              "      (() => {\n",
              "      const buttonEl =\n",
              "        document.querySelector('#id_1d3b8916-89af-4cc7-81f5-fcc45ab854de button.colab-df-generate');\n",
              "      buttonEl.style.display =\n",
              "        google.colab.kernel.accessAllowed ? 'block' : 'none';\n",
              "\n",
              "      buttonEl.onclick = () => {\n",
              "        google.colab.notebook.generateWithVariable('df_pedestrian');\n",
              "      }\n",
              "      })();\n",
              "    </script>\n",
              "  </div>\n",
              "\n",
              "    </div>\n",
              "  </div>\n"
            ],
            "application/vnd.google.colaboratory.intrinsic+json": {
              "type": "dataframe",
              "variable_name": "df_pedestrian",
              "summary": "{\n  \"name\": \"df_pedestrian\",\n  \"rows\": 5370,\n  \"fields\": [\n    {\n      \"column\": \"vehicle_reference\",\n      \"properties\": {\n        \"dtype\": \"number\",\n        \"std\": 0,\n        \"min\": 1,\n        \"max\": 3,\n        \"num_unique_values\": 3,\n        \"samples\": [\n          1,\n          2,\n          3\n        ],\n        \"semantic_type\": \"\",\n        \"description\": \"\"\n      }\n    },\n    {\n      \"column\": \"casualty_reference\",\n      \"properties\": {\n        \"dtype\": \"number\",\n        \"std\": 0,\n        \"min\": 1,\n        \"max\": 5,\n        \"num_unique_values\": 5,\n        \"samples\": [\n          3,\n          5,\n          2\n        ],\n        \"semantic_type\": \"\",\n        \"description\": \"\"\n      }\n    },\n    {\n      \"column\": \"casualty_class\",\n      \"properties\": {\n        \"dtype\": \"category\",\n        \"num_unique_values\": 1,\n        \"samples\": [\n          \"Pedestrian\"\n        ],\n        \"semantic_type\": \"\",\n        \"description\": \"\"\n      }\n    },\n    {\n      \"column\": \"sex_of_casualty\",\n      \"properties\": {\n        \"dtype\": \"category\",\n        \"num_unique_values\": 2,\n        \"samples\": [\n          \"Female\"\n        ],\n        \"semantic_type\": \"\",\n        \"description\": \"\"\n      }\n    },\n    {\n      \"column\": \"age_of_casualty\",\n      \"properties\": {\n        \"dtype\": \"number\",\n        \"std\": 23.367246348309205,\n        \"min\": 0.0,\n        \"max\": 96.0,\n        \"num_unique_values\": 96,\n        \"samples\": [\n          35.0\n        ],\n        \"semantic_type\": \"\",\n        \"description\": \"\"\n      }\n    },\n    {\n      \"column\": \"casualty_severity\",\n      \"properties\": {\n        \"dtype\": \"category\",\n        \"num_unique_values\": 3,\n        \"samples\": [\n          \"Slight\"\n        ],\n        \"semantic_type\": \"\",\n        \"description\": \"\"\n      }\n    },\n    {\n      \"column\": \"pedestrian_location\",\n      \"properties\": {\n        \"dtype\": \"category\",\n        \"num_unique_values\": 9,\n        \"samples\": [\n          \"On footway or verge\"\n        ],\n        \"semantic_type\": \"\",\n        \"description\": \"\"\n      }\n    },\n    {\n      \"column\": \"pedestrian_movement\",\n      \"properties\": {\n        \"dtype\": \"category\",\n        \"num_unique_values\": 8,\n        \"samples\": [\n          \"Walking along in carriageway, back to traffic\"\n        ],\n        \"semantic_type\": \"\",\n        \"description\": \"\"\n      }\n    },\n    {\n      \"column\": \"casualty_type\",\n      \"properties\": {\n        \"dtype\": \"category\",\n        \"num_unique_values\": 1,\n        \"samples\": [\n          \"Pedestrian\"\n        ],\n        \"semantic_type\": \"\",\n        \"description\": \"\"\n      }\n    },\n    {\n      \"column\": \"casualty_home_area_type\",\n      \"properties\": {\n        \"dtype\": \"category\",\n        \"num_unique_values\": 2,\n        \"samples\": [\n          \"Rural or town\"\n        ],\n        \"semantic_type\": \"\",\n        \"description\": \"\"\n      }\n    },\n    {\n      \"column\": \"casualty_imd_decile\",\n      \"properties\": {\n        \"dtype\": \"category\",\n        \"num_unique_values\": 3,\n        \"samples\": [\n          \"less_deprived\"\n        ],\n        \"semantic_type\": \"\",\n        \"description\": \"\"\n      }\n    }\n  ]\n}"
            }
          },
          "metadata": {},
          "execution_count": 51
        }
      ]
    },
    {
      "cell_type": "code",
      "source": [
        "df_pedestrian['casualty_class'].value_counts()"
      ],
      "metadata": {
        "colab": {
          "base_uri": "https://localhost:8080/"
        },
        "id": "eSP9akdhUJqz",
        "outputId": "d150a1d6-716f-47d8-d415-53c5585a266e"
      },
      "execution_count": 19,
      "outputs": [
        {
          "output_type": "execute_result",
          "data": {
            "text/plain": [
              "Pedestrian    5370\n",
              "Name: casualty_class, dtype: int64"
            ]
          },
          "metadata": {},
          "execution_count": 19
        }
      ]
    },
    {
      "cell_type": "markdown",
      "metadata": {
        "id": "q8_S4OIqSsxi"
      },
      "source": [
        "# **EDA**"
      ]
    },
    {
      "cell_type": "markdown",
      "source": [
        "**It seems that we can consider casualty_severity as the target column for any supervised algorithm**"
      ],
      "metadata": {
        "id": "wH3-p-Xyrnks"
      }
    },
    {
      "cell_type": "code",
      "source": [
        "df_pedestrian.duplicated().any()"
      ],
      "metadata": {
        "colab": {
          "base_uri": "https://localhost:8080/"
        },
        "id": "KUlu2JMwrRC2",
        "outputId": "539abbc7-70ce-49f0-ad4b-e4a43b893aef"
      },
      "execution_count": 20,
      "outputs": [
        {
          "output_type": "execute_result",
          "data": {
            "text/plain": [
              "True"
            ]
          },
          "metadata": {},
          "execution_count": 20
        }
      ]
    },
    {
      "cell_type": "markdown",
      "source": [
        "### Plot's functions"
      ],
      "metadata": {
        "id": "26C-kY8bs5c8"
      }
    },
    {
      "cell_type": "code",
      "source": [
        "def plot_numerical_histogram(df: pd.DataFrame,\n",
        "                             col: str,\n",
        "                             x_label: str,\n",
        "                             title: str,\n",
        "                             ):\n",
        "  plt.rcParams[\"font.size\"] = 14\n",
        "  fig, (ax_hist, ax_box) = plt.subplots(\n",
        "      2, sharex=True, gridspec_kw={\"height_ratios\": (0.85, 0.15)}, figsize=(16, 8)\n",
        "  )\n",
        "  # boxplot (seaborn)\n",
        "  sns.boxplot(x=df[col], color=\"gray\", ax=ax_box)\n",
        "  ax_box.set(xlabel=\"\")\n",
        "  # histogram (matplotlib)\n",
        "  ax_hist.hist(df[col], bins=40, density=True, color=\"gray\")\n",
        "  # kde plot (pandas series)\n",
        "  min_, max_ = plt.xlim()\n",
        "  plt.xlim(min_, max_)\n",
        "\n",
        "  ax_hist.set_title(\n",
        "      title,\n",
        "      weight=\"bold\",\n",
        "      color=\"gray\",\n",
        "      fontsize=18,\n",
        "      loc=\"left\",\n",
        "  )\n",
        "\n",
        "  ax_hist.set_xlabel(x_label, loc=\"left\", weight=\"bold\", fontsize=14, color=\"gray\")\n",
        "\n",
        "  ax_hist.set_ylabel(\n",
        "      \"Density\",\n",
        "      loc=\"bottom\",\n",
        "      weight=\"bold\",\n",
        "      fontsize=14,\n",
        "      color=\"gray\",\n",
        "  )\n",
        "\n",
        "  ax_box.spines[[\"right\", \"top\", \"left\", \"bottom\"]].set_visible(False)\n",
        "\n",
        "  ax_hist.spines[[\"right\", \"top\"]].set_visible(False)\n",
        "  ax_hist.ticklabel_format(axis=\"x\", style=\"plain\")\n",
        "  ax_hist.tick_params(axis=\"x\", colors=\"gray\", labelsize=\"large\")\n",
        "  ax_hist.tick_params(axis=\"y\", colors=\"gray\", labelsize=\"large\")\n",
        "\n",
        "  df[col].plot.kde(color=\"lightcoral\", linewidth=3, ax=ax_hist)\n",
        "\n",
        "  plt.tight_layout()\n",
        "  plt.show()"
      ],
      "metadata": {
        "id": "2mj7dowds90B"
      },
      "execution_count": 21,
      "outputs": []
    },
    {
      "cell_type": "code",
      "source": [
        "def plot_grouped_barplot(df: pd.DataFrame,\n",
        "                         cols: list[str]=None,\n",
        "                         x_label: str=None,\n",
        "                         title: str='',\n",
        "                         width=0.8,\n",
        "                         annotate=\"values\",\n",
        "                         ax=None,\n",
        "                         figsize=None,\n",
        "                         rotation_angle: int=None,\n",
        "                         **kw):\n",
        "    # data preparation\n",
        "    counts_df = df.groupby(cols).size().unstack().copy()\n",
        "    # convert counts to percentages\n",
        "    for i in counts_df.index:\n",
        "      for col in counts_df.columns:\n",
        "        counts_df.loc[i] = np.round(100*(counts_df.loc[i]/counts_df.loc[i, :].sum()), 1)\n",
        "    # plot\n",
        "    if figsize:\n",
        "      plt.figure(figsize=figsize)\n",
        "    ax = ax or plt.gca()\n",
        "    n = len(counts_df.columns)\n",
        "    w = 1./n\n",
        "    pos = (np.linspace(w/2., 1-w/2., n)-0.5)*width\n",
        "    w *= width\n",
        "    bars = []\n",
        "    for col, x in zip(counts_df.columns, pos):\n",
        "        bars.append(ax.bar(np.arange(len(counts_df))+x, counts_df[col].values, width=w, label=col, **kw))\n",
        "        for val, xi in zip(counts_df[col].values, np.arange(len(counts_df))+x):\n",
        "            if annotate:\n",
        "                txt = str(val)+'%' if annotate == \"values\" else col\n",
        "                ax.annotate(txt, xy=(xi, val), xytext=(0,2),\n",
        "                            textcoords=\"offset points\",\n",
        "                            ha=\"center\", va=\"bottom\", color='gray')\n",
        "    ax.set_xticks(np.arange(len(counts_df)))\n",
        "    ax.set_xticklabels(counts_df.index)\n",
        "    ax.set_title(\n",
        "        title,\n",
        "        pad=30,\n",
        "        weight=\"bold\",\n",
        "        color=\"gray\",\n",
        "        fontsize=12,\n",
        "        loc=\"left\",\n",
        "    )\n",
        "\n",
        "    ax.set_xlabel(x_label, loc=\"left\", weight=\"bold\", fontsize=12, color='#585858')\n",
        "\n",
        "    ax.spines[[\"right\", \"top\"]].set_visible(False)\n",
        "\n",
        "    ax.tick_params(axis=\"x\", colors=\"gray\", labelsize=\"medium\")\n",
        "    ax.tick_params(left=False)\n",
        "\n",
        "    if rotation_angle:\n",
        "      plt.xticks(rotation=rotation_angle)\n",
        "    plt.rc('axes',edgecolor='gray')\n",
        "\n",
        "    plt.tight_layout()\n",
        "    ax.legend()\n",
        "    sns.move_legend(ax, \"upper left\", bbox_to_anchor=(1, 1))\n",
        "    plt.show()\n",
        "    return bars"
      ],
      "metadata": {
        "id": "FZwfy1ldMR0z"
      },
      "execution_count": 22,
      "outputs": []
    },
    {
      "cell_type": "markdown",
      "source": [
        "### Numerical columns"
      ],
      "metadata": {
        "id": "SwhvCpKEsE4B"
      }
    },
    {
      "cell_type": "code",
      "source": [
        "plot_numerical_histogram(df=df_pedestrian,\n",
        "                         col=\"age_of_casualty\",\n",
        "                         x_label=\"Age\",\n",
        "                         title=\"Age of casualty histogram\",\n",
        "                         )"
      ],
      "metadata": {
        "colab": {
          "base_uri": "https://localhost:8080/",
          "height": 686
        },
        "id": "0vBJREqq0Wyy",
        "outputId": "1fe5298b-8d21-4ad1-c4e3-88e34a39c93d"
      },
      "execution_count": 23,
      "outputs": [
        {
          "output_type": "display_data",
          "data": {
            "text/plain": [
              "<Figure size 1600x800 with 2 Axes>"
            ],
            "image/png": "[encoded data removed]"
          },
          "metadata": {}
        }
      ]
    },
    {
      "cell_type": "markdown",
      "source": [
        "### Categorical columns"
      ],
      "metadata": {
        "id": "XKptqkt-DTrj"
      }
    },
    {
      "cell_type": "code",
      "source": [
        "sns.set_palette(\"mako\")"
      ],
      "metadata": {
        "id": "U0MJuqJyJhyS"
      },
      "execution_count": 25,
      "outputs": []
    },
    {
      "cell_type": "code",
      "source": [
        "plot_grouped_barplot(df=df_pedestrian,\n",
        "                     cols=['sex_of_casualty', 'casualty_severity'],\n",
        "                     x_label='Sex',\n",
        "                     title='Casualty severity for each sex',\n",
        "                     width=0.8,\n",
        "                     annotate=\"values\")"
      ],
      "metadata": {
        "colab": {
          "base_uri": "https://localhost:8080/",
          "height": 526
        },
        "id": "-47vOkZnqew9",
        "outputId": "1e9a3f9c-ac56-46d1-e0b8-817b881858e7"
      },
      "execution_count": 52,
      "outputs": [
        {
          "output_type": "display_data",
          "data": {
            "text/plain": [
              "<Figure size 640x480 with 1 Axes>"
            ],
            "image/png": "[encoded data removed]"
          },
          "metadata": {}
        },
        {
          "output_type": "execute_result",
          "data": {
            "text/plain": [
              "[<BarContainer object of 2 artists>,\n",
              " <BarContainer object of 2 artists>,\n",
              " <BarContainer object of 2 artists>]"
            ]
          },
          "metadata": {},
          "execution_count": 52
        }
      ]
    },
    {
      "cell_type": "code",
      "source": [
        "plot_grouped_barplot(df=df_pedestrian,\n",
        "                     cols=['casualty_home_area_type', 'casualty_severity'],\n",
        "                     x_label='Home-area type',\n",
        "                     title='Casualty severity for each home area type',\n",
        "                     width=0.8,\n",
        "                     annotate=\"values\")"
      ],
      "metadata": {
        "colab": {
          "base_uri": "https://localhost:8080/",
          "height": 527
        },
        "id": "nybfBJXL2Zln",
        "outputId": "7dda5c33-e3ae-409f-dce2-c05ca7698480"
      },
      "execution_count": 29,
      "outputs": [
        {
          "output_type": "display_data",
          "data": {
            "text/plain": [
              "<Figure size 640x480 with 1 Axes>"
            ],
            "image/png": "[encoded data removed]"
          },
          "metadata": {}
        },
        {
          "output_type": "execute_result",
          "data": {
            "text/plain": [
              "[<BarContainer object of 2 artists>,\n",
              " <BarContainer object of 2 artists>,\n",
              " <BarContainer object of 2 artists>]"
            ]
          },
          "metadata": {},
          "execution_count": 29
        }
      ]
    },
    {
      "cell_type": "code",
      "source": [
        "plot_grouped_barplot(df=df_pedestrian,\n",
        "                     cols=['casualty_imd_decile', 'casualty_severity'],\n",
        "                     x_label='Casualty imd decile',\n",
        "                     title='Casualty severity for each imd decile',\n",
        "                     width=0.8,\n",
        "                     annotate=\"values\")\n"
      ],
      "metadata": {
        "colab": {
          "base_uri": "https://localhost:8080/",
          "height": 527
        },
        "id": "W6rd-Iuc2WTS",
        "outputId": "1d984ad2-b52e-46f6-eeac-f285691db930"
      },
      "execution_count": 30,
      "outputs": [
        {
          "output_type": "display_data",
          "data": {
            "text/plain": [
              "<Figure size 640x480 with 1 Axes>"
            ],
            "image/png": "[encoded data removed]"
          },
          "metadata": {}
        },
        {
          "output_type": "execute_result",
          "data": {
            "text/plain": [
              "[<BarContainer object of 3 artists>,\n",
              " <BarContainer object of 3 artists>,\n",
              " <BarContainer object of 3 artists>]"
            ]
          },
          "metadata": {},
          "execution_count": 30
        }
      ]
    },
    {
      "cell_type": "code",
      "source": [
        "plot_grouped_barplot(df=df_pedestrian,\n",
        "                     cols=['pedestrian_location', 'casualty_severity'],\n",
        "                     x_label='Pedestrian location',\n",
        "                     title='Casualty severity for each pedestrian location',\n",
        "                     width=0.8,\n",
        "                     annotate=\"values\",\n",
        "                     figsize=(18, 12),\n",
        "                     rotation_angle=30)"
      ],
      "metadata": {
        "colab": {
          "base_uri": "https://localhost:8080/",
          "height": 904
        },
        "id": "OfaNAf5yboxp",
        "outputId": "ebfaf368-091e-4cd7-ca42-f60c0e92af82"
      },
      "execution_count": 53,
      "outputs": [
        {
          "output_type": "display_data",
          "data": {
            "text/plain": [
              "<Figure size 1800x1200 with 1 Axes>"
            ],
            "image/png": "[encoded data removed]"
          },
          "metadata": {}
        },
        {
          "output_type": "execute_result",
          "data": {
            "text/plain": [
              "[<BarContainer object of 9 artists>,\n",
              " <BarContainer object of 9 artists>,\n",
              " <BarContainer object of 9 artists>]"
            ]
          },
          "metadata": {},
          "execution_count": 53
        }
      ]
    }
  ]
}