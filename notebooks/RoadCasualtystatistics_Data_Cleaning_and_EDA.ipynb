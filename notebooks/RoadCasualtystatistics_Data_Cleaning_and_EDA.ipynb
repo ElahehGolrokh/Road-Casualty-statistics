{
  "nbformat": 4,
  "nbformat_minor": 0,
  "metadata": {
    "colab": {
      "provenance": [],
      "collapsed_sections": [
        "sr1kirW8JeDO",
        "dld8Kw_NCpNv",
        "hhTwDi4kUkcE",
        "BXEumDhfUmM5",
        "Bs8fg-lXUr45",
        "55B8fLdxEHZ-"
      ]
    },
    "kernelspec": {
      "name": "python3",
      "display_name": "Python 3"
    },
    "language_info": {
      "name": "python"
    }
  },
  "cells": [
    {
      "cell_type": "code",
      "source": [
        "# Author: Elahe Golrokh\n",
        "# Repo: https://github.com/ElahehGolrokh/Road-Casualty-statistics"
      ],
      "metadata": {
        "id": "3VEUq_w7BVPu"
      },
      "execution_count": null,
      "outputs": []
    },
    {
      "cell_type": "markdown",
      "metadata": {
        "id": "ylqbjeyoCb-l"
      },
      "source": [
        "# **Import Libraries**"
      ]
    },
    {
      "cell_type": "code",
      "execution_count": 1,
      "metadata": {
        "id": "klyR_gW1CXpu"
      },
      "outputs": [],
      "source": [
        "import matplotlib.pyplot as plt\n",
        "import numpy as np\n",
        "import warnings\n",
        "warnings.simplefilter(action='ignore', category=FutureWarning)\n",
        "warnings.filterwarnings(\"ignore\")\n",
        "import pandas as pd\n",
        "import seaborn as sns\n"
      ]
    },
    {
      "cell_type": "code",
      "source": [
        "from google.colab import drive\n",
        "drive.mount('/content/drive')"
      ],
      "metadata": {
        "colab": {
          "base_uri": "https://localhost:8080/"
        },
        "id": "OfDPcXnTpITJ",
        "outputId": "1efccc1f-c3b3-4e2c-f983-5732b0186879"
      },
      "execution_count": 2,
      "outputs": [
        {
          "output_type": "stream",
          "name": "stdout",
          "text": [
            "Mounted at /content/drive\n"
          ]
        }
      ]
    },
    {
      "cell_type": "markdown",
      "metadata": {
        "id": "GwNbPVVoDt-a"
      },
      "source": [
        "# **Data Cleaning**"
      ]
    },
    {
      "cell_type": "markdown",
      "metadata": {
        "id": "7zkd-DZGCuoE"
      },
      "source": [
        "## 1. read dataset"
      ]
    },
    {
      "cell_type": "code",
      "source": [
        "data_path = '/content/drive/MyDrive/Exercise/Python_Data_Science_and_Machine_Learning_project1_Dataset.zip'\n",
        "!unzip -q $data_path"
      ],
      "metadata": {
        "id": "uJUjEB3EqJCn"
      },
      "execution_count": 3,
      "outputs": []
    },
    {
      "cell_type": "code",
      "execution_count": 4,
      "metadata": {
        "colab": {
          "base_uri": "https://localhost:8080/",
          "height": 226
        },
        "id": "HLkSDbeMDFFv",
        "outputId": "6e83505e-f337-4b73-ced7-65e8d0a58b0e"
      },
      "outputs": [
        {
          "output_type": "execute_result",
          "data": {
            "text/plain": [
              "        status accident_index  accident_year accident_reference  \\\n",
              "0  Unvalidated  2022070151244           2022          070151244   \n",
              "1  Unvalidated  2022070152668           2022          070152668   \n",
              "2  Unvalidated  2022070154696           2022          070154696   \n",
              "3  Unvalidated  2022070154696           2022          070154696   \n",
              "4  Unvalidated  2022070154696           2022          070154696   \n",
              "\n",
              "   vehicle_reference  casualty_reference  casualty_class  sex_of_casualty  \\\n",
              "0                  2                   1               1                2   \n",
              "1                  1                   1               1                1   \n",
              "2                  1                   1               1                2   \n",
              "3                  2                   3               1                2   \n",
              "4                  3                   2               1                1   \n",
              "\n",
              "   age_of_casualty  age_band_of_casualty  casualty_severity  \\\n",
              "0               46                     8                  3   \n",
              "1               30                     6                  3   \n",
              "2               58                     9                  3   \n",
              "3               78                    11                  3   \n",
              "4               63                     9                  3   \n",
              "\n",
              "   pedestrian_location  pedestrian_movement  car_passenger  \\\n",
              "0                    0                    0              0   \n",
              "1                    0                    0              0   \n",
              "2                    0                    0              0   \n",
              "3                    0                    0              0   \n",
              "4                    0                    0              0   \n",
              "\n",
              "   bus_or_coach_passenger  pedestrian_road_maintenance_worker  casualty_type  \\\n",
              "0                       0                                   0              9   \n",
              "1                       0                                   0              9   \n",
              "2                       0                                   0              9   \n",
              "3                       0                                   0              9   \n",
              "4                       0                                   0              9   \n",
              "\n",
              "   casualty_home_area_type  casualty_imd_decile lsoa_of_casualty  \n",
              "0                        1                    9        E01033378  \n",
              "1                        1                    2        E01018551  \n",
              "2                        1                   10        E01006134  \n",
              "3                        2                   10        E01018724  \n",
              "4                        3                    7        W01000578  "
            ],
            "text/html": [
              "\n",
              "  <div id=\"df-001ae279-abbb-469c-91e5-0e91ad482af9\" class=\"colab-df-container\">\n",
              "    <div>\n",
              "<style scoped>\n",
              "    .dataframe tbody tr th:only-of-type {\n",
              "        vertical-align: middle;\n",
              "    }\n",
              "\n",
              "    .dataframe tbody tr th {\n",
              "        vertical-align: top;\n",
              "    }\n",
              "\n",
              "    .dataframe thead th {\n",
              "        text-align: right;\n",
              "    }\n",
              "</style>\n",
              "<table border=\"1\" class=\"dataframe\">\n",
              "  <thead>\n",
              "    <tr style=\"text-align: right;\">\n",
              "      <th></th>\n",
              "      <th>status</th>\n",
              "      <th>accident_index</th>\n",
              "      <th>accident_year</th>\n",
              "      <th>accident_reference</th>\n",
              "      <th>vehicle_reference</th>\n",
              "      <th>casualty_reference</th>\n",
              "      <th>casualty_class</th>\n",
              "      <th>sex_of_casualty</th>\n",
              "      <th>age_of_casualty</th>\n",
              "      <th>age_band_of_casualty</th>\n",
              "      <th>casualty_severity</th>\n",
              "      <th>pedestrian_location</th>\n",
              "      <th>pedestrian_movement</th>\n",
              "      <th>car_passenger</th>\n",
              "      <th>bus_or_coach_passenger</th>\n",
              "      <th>pedestrian_road_maintenance_worker</th>\n",
              "      <th>casualty_type</th>\n",
              "      <th>casualty_home_area_type</th>\n",
              "      <th>casualty_imd_decile</th>\n",
              "      <th>lsoa_of_casualty</th>\n",
              "    </tr>\n",
              "  </thead>\n",
              "  <tbody>\n",
              "    <tr>\n",
              "      <th>0</th>\n",
              "      <td>Unvalidated</td>\n",
              "      <td>2022070151244</td>\n",
              "      <td>2022</td>\n",
              "      <td>070151244</td>\n",
              "      <td>2</td>\n",
              "      <td>1</td>\n",
              "      <td>1</td>\n",
              "      <td>2</td>\n",
              "      <td>46</td>\n",
              "      <td>8</td>\n",
              "      <td>3</td>\n",
              "      <td>0</td>\n",
              "      <td>0</td>\n",
              "      <td>0</td>\n",
              "      <td>0</td>\n",
              "      <td>0</td>\n",
              "      <td>9</td>\n",
              "      <td>1</td>\n",
              "      <td>9</td>\n",
              "      <td>E01033378</td>\n",
              "    </tr>\n",
              "    <tr>\n",
              "      <th>1</th>\n",
              "      <td>Unvalidated</td>\n",
              "      <td>2022070152668</td>\n",
              "      <td>2022</td>\n",
              "      <td>070152668</td>\n",
              "      <td>1</td>\n",
              "      <td>1</td>\n",
              "      <td>1</td>\n",
              "      <td>1</td>\n",
              "      <td>30</td>\n",
              "      <td>6</td>\n",
              "      <td>3</td>\n",
              "      <td>0</td>\n",
              "      <td>0</td>\n",
              "      <td>0</td>\n",
              "      <td>0</td>\n",
              "      <td>0</td>\n",
              "      <td>9</td>\n",
              "      <td>1</td>\n",
              "      <td>2</td>\n",
              "      <td>E01018551</td>\n",
              "    </tr>\n",
              "    <tr>\n",
              "      <th>2</th>\n",
              "      <td>Unvalidated</td>\n",
              "      <td>2022070154696</td>\n",
              "      <td>2022</td>\n",
              "      <td>070154696</td>\n",
              "      <td>1</td>\n",
              "      <td>1</td>\n",
              "      <td>1</td>\n",
              "      <td>2</td>\n",
              "      <td>58</td>\n",
              "      <td>9</td>\n",
              "      <td>3</td>\n",
              "      <td>0</td>\n",
              "      <td>0</td>\n",
              "      <td>0</td>\n",
              "      <td>0</td>\n",
              "      <td>0</td>\n",
              "      <td>9</td>\n",
              "      <td>1</td>\n",
              "      <td>10</td>\n",
              "      <td>E01006134</td>\n",
              "    </tr>\n",
              "    <tr>\n",
              "      <th>3</th>\n",
              "      <td>Unvalidated</td>\n",
              "      <td>2022070154696</td>\n",
              "      <td>2022</td>\n",
              "      <td>070154696</td>\n",
              "      <td>2</td>\n",
              "      <td>3</td>\n",
              "      <td>1</td>\n",
              "      <td>2</td>\n",
              "      <td>78</td>\n",
              "      <td>11</td>\n",
              "      <td>3</td>\n",
              "      <td>0</td>\n",
              "      <td>0</td>\n",
              "      <td>0</td>\n",
              "      <td>0</td>\n",
              "      <td>0</td>\n",
              "      <td>9</td>\n",
              "      <td>2</td>\n",
              "      <td>10</td>\n",
              "      <td>E01018724</td>\n",
              "    </tr>\n",
              "    <tr>\n",
              "      <th>4</th>\n",
              "      <td>Unvalidated</td>\n",
              "      <td>2022070154696</td>\n",
              "      <td>2022</td>\n",
              "      <td>070154696</td>\n",
              "      <td>3</td>\n",
              "      <td>2</td>\n",
              "      <td>1</td>\n",
              "      <td>1</td>\n",
              "      <td>63</td>\n",
              "      <td>9</td>\n",
              "      <td>3</td>\n",
              "      <td>0</td>\n",
              "      <td>0</td>\n",
              "      <td>0</td>\n",
              "      <td>0</td>\n",
              "      <td>0</td>\n",
              "      <td>9</td>\n",
              "      <td>3</td>\n",
              "      <td>7</td>\n",
              "      <td>W01000578</td>\n",
              "    </tr>\n",
              "  </tbody>\n",
              "</table>\n",
              "</div>\n",
              "    <div class=\"colab-df-buttons\">\n",
              "\n",
              "  <div class=\"colab-df-container\">\n",
              "    <button class=\"colab-df-convert\" onclick=\"convertToInteractive('df-001ae279-abbb-469c-91e5-0e91ad482af9')\"\n",
              "            title=\"Convert this dataframe to an interactive table.\"\n",
              "            style=\"display:none;\">\n",
              "\n",
              "  <svg xmlns=\"http://www.w3.org/2000/svg\" height=\"24px\" viewBox=\"0 -960 960 960\">\n",
              "    <path d=\"M120-120v-720h720v720H120Zm60-500h600v-160H180v160Zm220 220h160v-160H400v160Zm0 220h160v-160H400v160ZM180-400h160v-160H180v160Zm440 0h160v-160H620v160ZM180-180h160v-160H180v160Zm440 0h160v-160H620v160Z\"/>\n",
              "  </svg>\n",
              "    </button>\n",
              "\n",
              "  <style>\n",
              "    .colab-df-container {\n",
              "      display:flex;\n",
              "      gap: 12px;\n",
              "    }\n",
              "\n",
              "    .colab-df-convert {\n",
              "      background-color: #E8F0FE;\n",
              "      border: none;\n",
              "      border-radius: 50%;\n",
              "      cursor: pointer;\n",
              "      display: none;\n",
              "      fill: #1967D2;\n",
              "      height: 32px;\n",
              "      padding: 0 0 0 0;\n",
              "      width: 32px;\n",
              "    }\n",
              "\n",
              "    .colab-df-convert:hover {\n",
              "      background-color: #E2EBFA;\n",
              "      box-shadow: 0px 1px 2px rgba(60, 64, 67, 0.3), 0px 1px 3px 1px rgba(60, 64, 67, 0.15);\n",
              "      fill: #174EA6;\n",
              "    }\n",
              "\n",
              "    .colab-df-buttons div {\n",
              "      margin-bottom: 4px;\n",
              "    }\n",
              "\n",
              "    [theme=dark] .colab-df-convert {\n",
              "      background-color: #3B4455;\n",
              "      fill: #D2E3FC;\n",
              "    }\n",
              "\n",
              "    [theme=dark] .colab-df-convert:hover {\n",
              "      background-color: #434B5C;\n",
              "      box-shadow: 0px 1px 3px 1px rgba(0, 0, 0, 0.15);\n",
              "      filter: drop-shadow(0px 1px 2px rgba(0, 0, 0, 0.3));\n",
              "      fill: #FFFFFF;\n",
              "    }\n",
              "  </style>\n",
              "\n",
              "    <script>\n",
              "      const buttonEl =\n",
              "        document.querySelector('#df-001ae279-abbb-469c-91e5-0e91ad482af9 button.colab-df-convert');\n",
              "      buttonEl.style.display =\n",
              "        google.colab.kernel.accessAllowed ? 'block' : 'none';\n",
              "\n",
              "      async function convertToInteractive(key) {\n",
              "        const element = document.querySelector('#df-001ae279-abbb-469c-91e5-0e91ad482af9');\n",
              "        const dataTable =\n",
              "          await google.colab.kernel.invokeFunction('convertToInteractive',\n",
              "                                                    [key], {});\n",
              "        if (!dataTable) return;\n",
              "\n",
              "        const docLinkHtml = 'Like what you see? Visit the ' +\n",
              "          '<a target=\"_blank\" href=https://colab.research.google.com/notebooks/data_table.ipynb>data table notebook</a>'\n",
              "          + ' to learn more about interactive tables.';\n",
              "        element.innerHTML = '';\n",
              "        dataTable['output_type'] = 'display_data';\n",
              "        await google.colab.output.renderOutput(dataTable, element);\n",
              "        const docLink = document.createElement('div');\n",
              "        docLink.innerHTML = docLinkHtml;\n",
              "        element.appendChild(docLink);\n",
              "      }\n",
              "    </script>\n",
              "  </div>\n",
              "\n",
              "\n",
              "<div id=\"df-d39cf346-8c23-4937-9e2d-844ba51e606a\">\n",
              "  <button class=\"colab-df-quickchart\" onclick=\"quickchart('df-d39cf346-8c23-4937-9e2d-844ba51e606a')\"\n",
              "            title=\"Suggest charts\"\n",
              "            style=\"display:none;\">\n",
              "\n",
              "<svg xmlns=\"http://www.w3.org/2000/svg\" height=\"24px\"viewBox=\"0 0 24 24\"\n",
              "     width=\"24px\">\n",
              "    <g>\n",
              "        <path d=\"M19 3H5c-1.1 0-2 .9-2 2v14c0 1.1.9 2 2 2h14c1.1 0 2-.9 2-2V5c0-1.1-.9-2-2-2zM9 17H7v-7h2v7zm4 0h-2V7h2v10zm4 0h-2v-4h2v4z\"/>\n",
              "    </g>\n",
              "</svg>\n",
              "  </button>\n",
              "\n",
              "<style>\n",
              "  .colab-df-quickchart {\n",
              "      --bg-color: #E8F0FE;\n",
              "      --fill-color: #1967D2;\n",
              "      --hover-bg-color: #E2EBFA;\n",
              "      --hover-fill-color: #174EA6;\n",
              "      --disabled-fill-color: #AAA;\n",
              "      --disabled-bg-color: #DDD;\n",
              "  }\n",
              "\n",
              "  [theme=dark] .colab-df-quickchart {\n",
              "      --bg-color: #3B4455;\n",
              "      --fill-color: #D2E3FC;\n",
              "      --hover-bg-color: #434B5C;\n",
              "      --hover-fill-color: #FFFFFF;\n",
              "      --disabled-bg-color: #3B4455;\n",
              "      --disabled-fill-color: #666;\n",
              "  }\n",
              "\n",
              "  .colab-df-quickchart {\n",
              "    background-color: var(--bg-color);\n",
              "    border: none;\n",
              "    border-radius: 50%;\n",
              "    cursor: pointer;\n",
              "    display: none;\n",
              "    fill: var(--fill-color);\n",
              "    height: 32px;\n",
              "    padding: 0;\n",
              "    width: 32px;\n",
              "  }\n",
              "\n",
              "  .colab-df-quickchart:hover {\n",
              "    background-color: var(--hover-bg-color);\n",
              "    box-shadow: 0 1px 2px rgba(60, 64, 67, 0.3), 0 1px 3px 1px rgba(60, 64, 67, 0.15);\n",
              "    fill: var(--button-hover-fill-color);\n",
              "  }\n",
              "\n",
              "  .colab-df-quickchart-complete:disabled,\n",
              "  .colab-df-quickchart-complete:disabled:hover {\n",
              "    background-color: var(--disabled-bg-color);\n",
              "    fill: var(--disabled-fill-color);\n",
              "    box-shadow: none;\n",
              "  }\n",
              "\n",
              "  .colab-df-spinner {\n",
              "    border: 2px solid var(--fill-color);\n",
              "    border-color: transparent;\n",
              "    border-bottom-color: var(--fill-color);\n",
              "    animation:\n",
              "      spin 1s steps(1) infinite;\n",
              "  }\n",
              "\n",
              "  @keyframes spin {\n",
              "    0% {\n",
              "      border-color: transparent;\n",
              "      border-bottom-color: var(--fill-color);\n",
              "      border-left-color: var(--fill-color);\n",
              "    }\n",
              "    20% {\n",
              "      border-color: transparent;\n",
              "      border-left-color: var(--fill-color);\n",
              "      border-top-color: var(--fill-color);\n",
              "    }\n",
              "    30% {\n",
              "      border-color: transparent;\n",
              "      border-left-color: var(--fill-color);\n",
              "      border-top-color: var(--fill-color);\n",
              "      border-right-color: var(--fill-color);\n",
              "    }\n",
              "    40% {\n",
              "      border-color: transparent;\n",
              "      border-right-color: var(--fill-color);\n",
              "      border-top-color: var(--fill-color);\n",
              "    }\n",
              "    60% {\n",
              "      border-color: transparent;\n",
              "      border-right-color: var(--fill-color);\n",
              "    }\n",
              "    80% {\n",
              "      border-color: transparent;\n",
              "      border-right-color: var(--fill-color);\n",
              "      border-bottom-color: var(--fill-color);\n",
              "    }\n",
              "    90% {\n",
              "      border-color: transparent;\n",
              "      border-bottom-color: var(--fill-color);\n",
              "    }\n",
              "  }\n",
              "</style>\n",
              "\n",
              "  <script>\n",
              "    async function quickchart(key) {\n",
              "      const quickchartButtonEl =\n",
              "        document.querySelector('#' + key + ' button');\n",
              "      quickchartButtonEl.disabled = true;  // To prevent multiple clicks.\n",
              "      quickchartButtonEl.classList.add('colab-df-spinner');\n",
              "      try {\n",
              "        const charts = await google.colab.kernel.invokeFunction(\n",
              "            'suggestCharts', [key], {});\n",
              "      } catch (error) {\n",
              "        console.error('Error during call to suggestCharts:', error);\n",
              "      }\n",
              "      quickchartButtonEl.classList.remove('colab-df-spinner');\n",
              "      quickchartButtonEl.classList.add('colab-df-quickchart-complete');\n",
              "    }\n",
              "    (() => {\n",
              "      let quickchartButtonEl =\n",
              "        document.querySelector('#df-d39cf346-8c23-4937-9e2d-844ba51e606a button');\n",
              "      quickchartButtonEl.style.display =\n",
              "        google.colab.kernel.accessAllowed ? 'block' : 'none';\n",
              "    })();\n",
              "  </script>\n",
              "</div>\n",
              "\n",
              "    </div>\n",
              "  </div>\n"
            ],
            "application/vnd.google.colaboratory.intrinsic+json": {
              "type": "dataframe",
              "variable_name": "df",
              "summary": "{\n  \"name\": \"df\",\n  \"rows\": 61352,\n  \"fields\": [\n    {\n      \"column\": \"status\",\n      \"properties\": {\n        \"dtype\": \"category\",\n        \"num_unique_values\": 1,\n        \"samples\": [\n          \"Unvalidated\"\n        ],\n        \"semantic_type\": \"\",\n        \"description\": \"\"\n      }\n    },\n    {\n      \"column\": \"accident_index\",\n      \"properties\": {\n        \"dtype\": \"string\",\n        \"num_unique_values\": 48283,\n        \"samples\": [\n          \"2022401183536\"\n        ],\n        \"semantic_type\": \"\",\n        \"description\": \"\"\n      }\n    },\n    {\n      \"column\": \"accident_year\",\n      \"properties\": {\n        \"dtype\": \"number\",\n        \"std\": 0,\n        \"min\": 2022,\n        \"max\": 2022,\n        \"num_unique_values\": 1,\n        \"samples\": [\n          2022\n        ],\n        \"semantic_type\": \"\",\n        \"description\": \"\"\n      }\n    },\n    {\n      \"column\": \"accident_reference\",\n      \"properties\": {\n        \"dtype\": \"string\",\n        \"num_unique_values\": 48283,\n        \"samples\": [\n          \"401183536\"\n        ],\n        \"semantic_type\": \"\",\n        \"description\": \"\"\n      }\n    },\n    {\n      \"column\": \"vehicle_reference\",\n      \"properties\": {\n        \"dtype\": \"number\",\n        \"std\": 1,\n        \"min\": 1,\n        \"max\": 227,\n        \"num_unique_values\": 11,\n        \"samples\": [\n          8\n        ],\n        \"semantic_type\": \"\",\n        \"description\": \"\"\n      }\n    },\n    {\n      \"column\": \"casualty_reference\",\n      \"properties\": {\n        \"dtype\": \"number\",\n        \"std\": 0,\n        \"min\": 1,\n        \"max\": 148,\n        \"num_unique_values\": 18,\n        \"samples\": [\n          1\n        ],\n        \"semantic_type\": \"\",\n        \"description\": \"\"\n      }\n    },\n    {\n      \"column\": \"casualty_class\",\n      \"properties\": {\n        \"dtype\": \"number\",\n        \"std\": 0,\n        \"min\": 1,\n        \"max\": 3,\n        \"num_unique_values\": 3,\n        \"samples\": [\n          1\n        ],\n        \"semantic_type\": \"\",\n        \"description\": \"\"\n      }\n    },\n    {\n      \"column\": \"sex_of_casualty\",\n      \"properties\": {\n        \"dtype\": \"number\",\n        \"std\": 0,\n        \"min\": -1,\n        \"max\": 9,\n        \"num_unique_values\": 4,\n        \"samples\": [\n          1\n        ],\n        \"semantic_type\": \"\",\n        \"description\": \"\"\n      }\n    },\n    {\n      \"column\": \"age_of_casualty\",\n      \"properties\": {\n        \"dtype\": \"number\",\n        \"std\": 19,\n        \"min\": -1,\n        \"max\": 101,\n        \"num_unique_values\": 102,\n        \"samples\": [\n          43\n        ],\n        \"semantic_type\": \"\",\n        \"description\": \"\"\n      }\n    },\n    {\n      \"column\": \"age_band_of_casualty\",\n      \"properties\": {\n        \"dtype\": \"number\",\n        \"std\": 2,\n        \"min\": -1,\n        \"max\": 11,\n        \"num_unique_values\": 12,\n        \"samples\": [\n          1\n        ],\n        \"semantic_type\": \"\",\n        \"description\": \"\"\n      }\n    },\n    {\n      \"column\": \"casualty_severity\",\n      \"properties\": {\n        \"dtype\": \"number\",\n        \"std\": 0,\n        \"min\": 1,\n        \"max\": 3,\n        \"num_unique_values\": 3,\n        \"samples\": [\n          3\n        ],\n        \"semantic_type\": \"\",\n        \"description\": \"\"\n      }\n    },\n    {\n      \"column\": \"pedestrian_location\",\n      \"properties\": {\n        \"dtype\": \"number\",\n        \"std\": 2,\n        \"min\": 0,\n        \"max\": 10,\n        \"num_unique_values\": 11,\n        \"samples\": [\n          8\n        ],\n        \"semantic_type\": \"\",\n        \"description\": \"\"\n      }\n    },\n    {\n      \"column\": \"pedestrian_movement\",\n      \"properties\": {\n        \"dtype\": \"number\",\n        \"std\": 2,\n        \"min\": 0,\n        \"max\": 9,\n        \"num_unique_values\": 10,\n        \"samples\": [\n          4\n        ],\n        \"semantic_type\": \"\",\n        \"description\": \"\"\n      }\n    },\n    {\n      \"column\": \"car_passenger\",\n      \"properties\": {\n        \"dtype\": \"number\",\n        \"std\": 0,\n        \"min\": -1,\n        \"max\": 9,\n        \"num_unique_values\": 5,\n        \"samples\": [\n          2\n        ],\n        \"semantic_type\": \"\",\n        \"description\": \"\"\n      }\n    },\n    {\n      \"column\": \"bus_or_coach_passenger\",\n      \"properties\": {\n        \"dtype\": \"number\",\n        \"std\": 0,\n        \"min\": -1,\n        \"max\": 9,\n        \"num_unique_values\": 7,\n        \"samples\": [\n          0\n        ],\n        \"semantic_type\": \"\",\n        \"description\": \"\"\n      }\n    },\n    {\n      \"column\": \"pedestrian_road_maintenance_worker\",\n      \"properties\": {\n        \"dtype\": \"number\",\n        \"std\": 0,\n        \"min\": -1,\n        \"max\": 2,\n        \"num_unique_values\": 4,\n        \"samples\": [\n          2\n        ],\n        \"semantic_type\": \"\",\n        \"description\": \"\"\n      }\n    },\n    {\n      \"column\": \"casualty_type\",\n      \"properties\": {\n        \"dtype\": \"number\",\n        \"std\": 16,\n        \"min\": -1,\n        \"max\": 98,\n        \"num_unique_values\": 22,\n        \"samples\": [\n          9\n        ],\n        \"semantic_type\": \"\",\n        \"description\": \"\"\n      }\n    },\n    {\n      \"column\": \"casualty_home_area_type\",\n      \"properties\": {\n        \"dtype\": \"number\",\n        \"std\": 0,\n        \"min\": -1,\n        \"max\": 3,\n        \"num_unique_values\": 4,\n        \"samples\": [\n          2\n        ],\n        \"semantic_type\": \"\",\n        \"description\": \"\"\n      }\n    },\n    {\n      \"column\": \"casualty_imd_decile\",\n      \"properties\": {\n        \"dtype\": \"number\",\n        \"std\": 3,\n        \"min\": -1,\n        \"max\": 10,\n        \"num_unique_values\": 11,\n        \"samples\": [\n          5\n        ],\n        \"semantic_type\": \"\",\n        \"description\": \"\"\n      }\n    },\n    {\n      \"column\": \"lsoa_of_casualty\",\n      \"properties\": {\n        \"dtype\": \"category\",\n        \"num_unique_values\": 23841,\n        \"samples\": [\n          \"E01023009\"\n        ],\n        \"semantic_type\": \"\",\n        \"description\": \"\"\n      }\n    }\n  ]\n}"
            }
          },
          "metadata": {},
          "execution_count": 4
        }
      ],
      "source": [
        "df = pd.read_csv('/content/dft-road-casualty-statistics-casualty-provisional-mid-year-unvalidated-2022 (1).csv')\n",
        "df.head()"
      ]
    },
    {
      "cell_type": "code",
      "execution_count": 5,
      "metadata": {
        "colab": {
          "base_uri": "https://localhost:8080/"
        },
        "id": "y0g0xEkZDa2i",
        "outputId": "08844e9c-ec0c-4bc2-d777-68d4a59c906b"
      },
      "outputs": [
        {
          "output_type": "execute_result",
          "data": {
            "text/plain": [
              "(61352, 20)"
            ]
          },
          "metadata": {},
          "execution_count": 5
        }
      ],
      "source": [
        "df.shape"
      ]
    },
    {
      "cell_type": "code",
      "execution_count": null,
      "metadata": {
        "colab": {
          "base_uri": "https://localhost:8080/"
        },
        "id": "1N6LsBQwEHZH",
        "outputId": "75733424-4b64-4b38-d582-97220ced9bb0"
      },
      "outputs": [
        {
          "output_type": "stream",
          "name": "stdout",
          "text": [
            "<class 'pandas.core.frame.DataFrame'>\n",
            "RangeIndex: 61352 entries, 0 to 61351\n",
            "Data columns (total 20 columns):\n",
            " #   Column                              Non-Null Count  Dtype \n",
            "---  ------                              --------------  ----- \n",
            " 0   status                              61352 non-null  object\n",
            " 1   accident_index                      61352 non-null  object\n",
            " 2   accident_year                       61352 non-null  int64 \n",
            " 3   accident_reference                  61352 non-null  object\n",
            " 4   vehicle_reference                   61352 non-null  int64 \n",
            " 5   casualty_reference                  61352 non-null  int64 \n",
            " 6   casualty_class                      61352 non-null  int64 \n",
            " 7   sex_of_casualty                     61352 non-null  int64 \n",
            " 8   age_of_casualty                     61352 non-null  int64 \n",
            " 9   age_band_of_casualty                61352 non-null  int64 \n",
            " 10  casualty_severity                   61352 non-null  int64 \n",
            " 11  pedestrian_location                 61352 non-null  int64 \n",
            " 12  pedestrian_movement                 61352 non-null  int64 \n",
            " 13  car_passenger                       61352 non-null  int64 \n",
            " 14  bus_or_coach_passenger              61352 non-null  int64 \n",
            " 15  pedestrian_road_maintenance_worker  61352 non-null  int64 \n",
            " 16  casualty_type                       61352 non-null  int64 \n",
            " 17  casualty_home_area_type             61352 non-null  int64 \n",
            " 18  casualty_imd_decile                 61352 non-null  int64 \n",
            " 19  lsoa_of_casualty                    61352 non-null  object\n",
            "dtypes: int64(16), object(4)\n",
            "memory usage: 9.4+ MB\n"
          ]
        }
      ],
      "source": [
        "df.info()"
      ]
    },
    {
      "cell_type": "code",
      "execution_count": 7,
      "metadata": {
        "colab": {
          "base_uri": "https://localhost:8080/"
        },
        "id": "5D6FxdRvI7Rc",
        "outputId": "3ddde226-a0a7-441b-e887-0235fca2dbb5"
      },
      "outputs": [
        {
          "output_type": "execute_result",
          "data": {
            "text/plain": [
              "(False, False)"
            ]
          },
          "metadata": {},
          "execution_count": 7
        }
      ],
      "source": [
        "df.isnull().sum().any(), df.duplicated().any()"
      ]
    },
    {
      "cell_type": "markdown",
      "source": [
        "So there isn't any null or duplicated rows in the initial dataframe"
      ],
      "metadata": {
        "id": "8LMI4JlEdEK3"
      }
    },
    {
      "cell_type": "markdown",
      "metadata": {
        "id": "sr1kirW8JeDO"
      },
      "source": [
        "## deep investigation in columns"
      ]
    },
    {
      "cell_type": "code",
      "execution_count": 8,
      "metadata": {
        "colab": {
          "base_uri": "https://localhost:8080/"
        },
        "id": "cu-QQUZAJzIh",
        "outputId": "c0fc7da4-ba70-4231-d9ae-c887328b5090"
      },
      "outputs": [
        {
          "output_type": "stream",
          "name": "stdout",
          "text": [
            "4 16\n",
            "categorical_features =  ['status', 'accident_index', 'accident_reference', 'lsoa_of_casualty']\n",
            "numerical_features =  ['accident_year', 'vehicle_reference', 'casualty_reference', 'casualty_class', 'sex_of_casualty', 'age_of_casualty', 'age_band_of_casualty', 'casualty_severity', 'pedestrian_location', 'pedestrian_movement', 'car_passenger', 'bus_or_coach_passenger', 'pedestrian_road_maintenance_worker', 'casualty_type', 'casualty_home_area_type', 'casualty_imd_decile']\n"
          ]
        }
      ],
      "source": [
        "categorical_features = []\n",
        "numerical_features = []\n",
        "\n",
        "for col in df.columns:\n",
        "  if df[col].dtype == 'object':\n",
        "    categorical_features.append(col)\n",
        "  else:\n",
        "    numerical_features.append(col)\n",
        "\n",
        "print(len(categorical_features), len(numerical_features))\n",
        "print('categorical_features = ', categorical_features)\n",
        "print('numerical_features = ', numerical_features)"
      ]
    },
    {
      "cell_type": "code",
      "source": [
        "for col in categorical_features:\n",
        "  print('*********************', col, ' :')\n",
        "  print(df[col].nunique())\n",
        "  print('-----')\n",
        "  print(df[col].value_counts())"
      ],
      "metadata": {
        "id": "2gkyyTKLbnqR",
        "outputId": "53b9f661-295e-4084-dcc5-e3a8b837fcfb",
        "colab": {
          "base_uri": "https://localhost:8080/"
        }
      },
      "execution_count": null,
      "outputs": [
        {
          "output_type": "stream",
          "name": "stdout",
          "text": [
            "********************* accident_index  :\n",
            "48283\n",
            "-----\n",
            "2022010356595    16\n",
            "2022010377133    16\n",
            "2022411164580    14\n",
            "2022211187319    13\n",
            "2022471142394    13\n",
            "                 ..\n",
            "2022101150789     1\n",
            "2022101151215     1\n",
            "2022101151304     1\n",
            "2022101151620     1\n",
            "2022461157316     1\n",
            "Name: accident_index, Length: 48283, dtype: int64\n",
            "********************* accident_reference  :\n",
            "48283\n",
            "-----\n",
            "010356595    16\n",
            "010377133    16\n",
            "411164580    14\n",
            "211187319    13\n",
            "471142394    13\n",
            "             ..\n",
            "101150789     1\n",
            "101151215     1\n",
            "101151304     1\n",
            "101151620     1\n",
            "461157316     1\n",
            "Name: accident_reference, Length: 48283, dtype: int64\n",
            "********************* casualty_class  :\n",
            "3\n",
            "-----\n",
            "1    40702\n",
            "2    11710\n",
            "3     8940\n",
            "Name: casualty_class, dtype: int64\n",
            "********************* sex_of_casualty  :\n",
            "4\n",
            "-----\n",
            " 1    37452\n",
            " 2    23442\n",
            "-1      448\n",
            " 9       10\n",
            "Name: sex_of_casualty, dtype: int64\n",
            "********************* age_band_of_casualty  :\n",
            "12\n",
            "-----\n",
            " 6     12872\n",
            " 7      9407\n",
            " 8      7842\n",
            " 5      6730\n",
            " 4      6328\n",
            " 9      5842\n",
            " 3      2985\n",
            " 10     2982\n",
            " 11     2442\n",
            " 2      1575\n",
            "-1      1350\n",
            " 1       997\n",
            "Name: age_band_of_casualty, dtype: int64\n",
            "********************* casualty_severity  :\n",
            "3\n",
            "-----\n",
            "3    48831\n",
            "2    11731\n",
            "1      790\n",
            "Name: casualty_severity, dtype: int64\n",
            "********************* pedestrian_location  :\n",
            "11\n",
            "-----\n",
            "0     52412\n",
            "5      3351\n",
            "1      1472\n",
            "6      1047\n",
            "9       953\n",
            "10      869\n",
            "8       565\n",
            "4       546\n",
            "7        63\n",
            "2        42\n",
            "3        32\n",
            "Name: pedestrian_location, dtype: int64\n",
            "********************* pedestrian_movement  :\n",
            "10\n",
            "-----\n",
            "0    52411\n",
            "1     2847\n",
            "9     2567\n",
            "3     1784\n",
            "5      482\n",
            "2      429\n",
            "4      322\n",
            "7      226\n",
            "8      224\n",
            "6       60\n",
            "Name: pedestrian_movement, dtype: int64\n",
            "********************* car_passenger  :\n",
            "5\n",
            "-----\n",
            " 0    51219\n",
            " 1     6170\n",
            " 2     3582\n",
            "-1      314\n",
            " 9       67\n",
            "Name: car_passenger, dtype: int64\n",
            "********************* bus_or_coach_passenger  :\n",
            "7\n",
            "-----\n",
            " 0    60471\n",
            " 4      494\n",
            " 3      264\n",
            " 2       59\n",
            " 1       32\n",
            "-1       23\n",
            " 9        9\n",
            "Name: bus_or_coach_passenger, dtype: int64\n",
            "********************* pedestrian_road_maintenance_worker  :\n",
            "4\n",
            "-----\n",
            " 0    60117\n",
            " 2     1007\n",
            " 1      115\n",
            "-1      113\n",
            "Name: pedestrian_road_maintenance_worker, dtype: int64\n",
            "********************* casualty_type  :\n",
            "22\n",
            "-----\n",
            " 9     32715\n",
            " 0      8940\n",
            " 1      7155\n",
            " 3      3629\n",
            " 5      1791\n",
            " 19     1448\n",
            " 11      972\n",
            " 97      861\n",
            " 90      829\n",
            " 4       822\n",
            " 8       699\n",
            " 98      420\n",
            " 2       410\n",
            " 21      178\n",
            " 23      127\n",
            " 22      110\n",
            " 10       96\n",
            " 20       76\n",
            " 16       34\n",
            " 17       31\n",
            "-1         5\n",
            " 18        4\n",
            "Name: casualty_type, dtype: int64\n",
            "********************* casualty_home_area_type  :\n",
            "4\n",
            "-----\n",
            " 1    45274\n",
            " 3     6001\n",
            "-1     5498\n",
            " 2     4579\n",
            "Name: casualty_home_area_type, dtype: int64\n",
            "********************* casualty_imd_decile  :\n",
            "11\n",
            "-----\n",
            " 2     7152\n",
            " 1     6922\n",
            " 3     6903\n",
            " 4     6268\n",
            " 5     5791\n",
            "-1     5784\n",
            " 6     5331\n",
            " 7     4949\n",
            " 8     4562\n",
            " 9     4078\n",
            " 10    3612\n",
            "Name: casualty_imd_decile, dtype: int64\n"
          ]
        }
      ]
    },
    {
      "cell_type": "markdown",
      "source": [
        "So:\n",
        "1.   the status, accident_year, accident_index, accident_reference columns have to be removed,\n",
        "3.   **lsoa_of_casualty is ignored just for now (later we will come back to it if there is enough time)**,\n",
        "\n",
        "Also these columns due to huge imbalanced categories are not informative and have to be removed:\n",
        "1. pedestrian_road_maintenance_worker\n",
        "2. bus_or_coach_passenger: because only a small portion of the data is dedicated to bus pasangers (If you have enough time, consider bus passangers as a distinct df and analyze it separately.)\n",
        "3. car_passenger: It also has to be considered as a separated df\n",
        "4. pedestrian_movement , pedestrian_location: It also has to be considered as a separated df"
      ],
      "metadata": {
        "id": "xN77ZWH2i7v5"
      }
    },
    {
      "cell_type": "code",
      "source": [
        "for col in numerical_features:\n",
        "  print('*********************', col, ' :')\n",
        "  print(df[col].nunique())\n",
        "  print(df[col].value_counts())"
      ],
      "metadata": {
        "id": "TOYBiDhqdQTT",
        "outputId": "013c0802-1d76-4f09-c2b2-449f59e47e71",
        "colab": {
          "base_uri": "https://localhost:8080/"
        }
      },
      "execution_count": null,
      "outputs": [
        {
          "output_type": "stream",
          "name": "stdout",
          "text": [
            "********************* vehicle_reference  :\n",
            "11\n",
            "1      36255\n",
            "2      23337\n",
            "3       1427\n",
            "4        227\n",
            "5         71\n",
            "6         19\n",
            "7          7\n",
            "8          4\n",
            "9          3\n",
            "227        1\n",
            "61         1\n",
            "Name: vehicle_reference, dtype: int64\n",
            "********************* casualty_reference  :\n",
            "18\n",
            "1      47792\n",
            "2       9305\n",
            "3       2795\n",
            "4        934\n",
            "5        325\n",
            "6        100\n",
            "7         37\n",
            "8         15\n",
            "9         11\n",
            "10        10\n",
            "11         7\n",
            "12         6\n",
            "14         4\n",
            "13         4\n",
            "15         3\n",
            "16         2\n",
            "22         1\n",
            "148        1\n",
            "Name: casualty_reference, dtype: int64\n",
            "********************* age_of_casualty  :\n",
            "102\n",
            "18     1596\n",
            "19     1518\n",
            "21     1432\n",
            "20     1403\n",
            "22     1386\n",
            "       ... \n",
            "96        4\n",
            "99        4\n",
            "97        3\n",
            "98        2\n",
            "101       1\n",
            "Name: age_of_casualty, Length: 102, dtype: int64\n"
          ]
        }
      ]
    },
    {
      "cell_type": "code",
      "source": [
        "df.drop(['status', 'lsoa_of_casualty', 'accident_year', 'accident_reference',\n",
        "         'pedestrian_road_maintenance_worker', 'bus_or_coach_passenger',\n",
        "         'car_passenger', 'pedestrian_movement', 'pedestrian_location',\n",
        "         'age_band_of_casualty', 'accident_index'], axis=1, inplace=True)"
      ],
      "metadata": {
        "id": "uBS3aNo8cQPX"
      },
      "execution_count": 9,
      "outputs": []
    },
    {
      "cell_type": "code",
      "source": [
        "categorical_features = ['casualty_class', 'sex_of_casualty', 'casualty_severity',\n",
        "                        'casualty_type', 'casualty_home_area_type', 'casualty_imd_decile']\n",
        "numerical_features = ['vehicle_reference', 'casualty_reference', 'age_of_casualty']\n",
        "\n",
        "print(len(categorical_features), len(numerical_features))\n",
        "print('categorical_features = ', categorical_features)\n",
        "print('numerical_features = ', numerical_features)"
      ],
      "metadata": {
        "colab": {
          "base_uri": "https://localhost:8080/"
        },
        "id": "_0xQ2FiOsIaP",
        "outputId": "09eadc38-2273-4aef-b6a3-bf791a263a80"
      },
      "execution_count": 10,
      "outputs": [
        {
          "output_type": "stream",
          "name": "stdout",
          "text": [
            "6 3\n",
            "categorical_features =  ['casualty_class', 'sex_of_casualty', 'casualty_severity', 'casualty_type', 'casualty_home_area_type', 'casualty_imd_decile']\n",
            "numerical_features =  ['vehicle_reference', 'casualty_reference', 'age_of_casualty']\n"
          ]
        }
      ]
    },
    {
      "cell_type": "code",
      "source": [
        "# Remove outliers\n",
        "\n",
        "contained_outliers = ['vehicle_reference', 'casualty_reference']\n",
        "df_removed_outliers = df.copy()\n",
        "\n",
        "for col in contained_outliers:\n",
        "  for i in df_removed_outliers[col].index:\n",
        "    if df_removed_outliers[col].loc[i] > 60:\n",
        "      df_removed_outliers.drop(i, inplace=True)\n",
        "  print(col, ' : ', df_removed_outliers[col].value_counts())\n",
        "\n",
        "df_removed_outliers.shape"
      ],
      "metadata": {
        "colab": {
          "base_uri": "https://localhost:8080/"
        },
        "id": "oct-9qj2uqsA",
        "outputId": "a8b7f285-3331-4e8f-e8b0-eb38a333accd"
      },
      "execution_count": 11,
      "outputs": [
        {
          "output_type": "stream",
          "name": "stdout",
          "text": [
            "vehicle_reference  :  1    36255\n",
            "2    23337\n",
            "3     1427\n",
            "4      227\n",
            "5       71\n",
            "6       19\n",
            "7        7\n",
            "8        4\n",
            "9        3\n",
            "Name: vehicle_reference, dtype: int64\n",
            "casualty_reference  :  1     47790\n",
            "2      9305\n",
            "3      2795\n",
            "4       934\n",
            "5       325\n",
            "6       100\n",
            "7        37\n",
            "8        15\n",
            "9        11\n",
            "10       10\n",
            "11        7\n",
            "12        6\n",
            "14        4\n",
            "13        4\n",
            "15        3\n",
            "16        2\n",
            "22        1\n",
            "Name: casualty_reference, dtype: int64\n"
          ]
        },
        {
          "output_type": "execute_result",
          "data": {
            "text/plain": [
              "(61349, 9)"
            ]
          },
          "metadata": {},
          "execution_count": 11
        }
      ]
    },
    {
      "cell_type": "code",
      "source": [
        "# Replace nan values with np.nan\n",
        "\n",
        "df_categorical = df_removed_outliers.copy()\n",
        "print('len of df_categorical before = ', len(df_categorical))\n",
        "print('*******************************')\n",
        "\n",
        "nan_1 = ['casualty_type', 'casualty_home_area_type', 'casualty_imd_decile', 'age_of_casualty']\n",
        "nan_1_9 = ['sex_of_casualty'] # 9 -> Unknown or other\n",
        "\n",
        "for col in nan_1:\n",
        "  df_categorical[col][df_categorical[col]==-1] = np.nan\n",
        "\n",
        "for col in nan_1_9:\n",
        "  df_categorical[col][(df_categorical[col]==-1) | (df_categorical[col]==9)] = np.nan\n",
        "\n",
        "print(df_categorical.isnull().sum())\n",
        "df_categorical.dropna(inplace=True)\n",
        "print('*******************************')\n",
        "print('len of df_categorical after = ', len(df_categorical))\n"
      ],
      "metadata": {
        "id": "eX2XHepHylea",
        "colab": {
          "base_uri": "https://localhost:8080/"
        },
        "outputId": "4949632a-47c0-46e8-b01a-efb39c908c80"
      },
      "execution_count": 12,
      "outputs": [
        {
          "output_type": "stream",
          "name": "stdout",
          "text": [
            "len of df_categorical before =  61349\n",
            "*******************************\n",
            "vehicle_reference             0\n",
            "casualty_reference            0\n",
            "casualty_class                0\n",
            "sex_of_casualty             458\n",
            "age_of_casualty            1350\n",
            "casualty_severity             0\n",
            "casualty_type                 5\n",
            "casualty_home_area_type    5498\n",
            "casualty_imd_decile        5784\n",
            "dtype: int64\n",
            "*******************************\n",
            "len of df_categorical after =  54611\n"
          ]
        }
      ]
    },
    {
      "cell_type": "code",
      "source": [
        "print(df_categorical.isnull().sum())\n"
      ],
      "metadata": {
        "colab": {
          "base_uri": "https://localhost:8080/"
        },
        "id": "ol0FLeFfmc8-",
        "outputId": "3548f64f-e736-4ea9-c874-6fdbd5e0d07a"
      },
      "execution_count": 13,
      "outputs": [
        {
          "output_type": "stream",
          "name": "stdout",
          "text": [
            "vehicle_reference          0\n",
            "casualty_reference         0\n",
            "casualty_class             0\n",
            "sex_of_casualty            0\n",
            "age_of_casualty            0\n",
            "casualty_severity          0\n",
            "casualty_type              0\n",
            "casualty_home_area_type    0\n",
            "casualty_imd_decile        0\n",
            "dtype: int64\n"
          ]
        }
      ]
    },
    {
      "cell_type": "code",
      "source": [
        "df_categorical_reindex = df_categorical.set_index(np.arange(len(df_categorical)))\n",
        "df_categorical_reindex"
      ],
      "metadata": {
        "id": "o2RArX2v0eyC",
        "colab": {
          "base_uri": "https://localhost:8080/",
          "height": 443
        },
        "outputId": "de325bd1-7717-4f4f-f497-dab49ffe736b"
      },
      "execution_count": 14,
      "outputs": [
        {
          "output_type": "execute_result",
          "data": {
            "text/plain": [
              "       vehicle_reference  casualty_reference  casualty_class  sex_of_casualty  \\\n",
              "0                      2                   1               1              2.0   \n",
              "1                      1                   1               1              1.0   \n",
              "2                      1                   1               1              2.0   \n",
              "3                      2                   3               1              2.0   \n",
              "4                      3                   2               1              1.0   \n",
              "...                  ...                 ...             ...              ...   \n",
              "54606                  1                   1               1              1.0   \n",
              "54607                  1                   1               3              2.0   \n",
              "54608                  2                   1               1              1.0   \n",
              "54609                  1                   1               1              2.0   \n",
              "54610                  2                   1               1              1.0   \n",
              "\n",
              "       age_of_casualty  casualty_severity  casualty_type  \\\n",
              "0                 46.0                  3            9.0   \n",
              "1                 30.0                  3            9.0   \n",
              "2                 58.0                  3            9.0   \n",
              "3                 78.0                  3            9.0   \n",
              "4                 63.0                  3            9.0   \n",
              "...                ...                ...            ...   \n",
              "54606             69.0                  2            4.0   \n",
              "54607             56.0                  3            0.0   \n",
              "54608             42.0                  3            9.0   \n",
              "54609             40.0                  3            9.0   \n",
              "54610             71.0                  3            9.0   \n",
              "\n",
              "       casualty_home_area_type  casualty_imd_decile  \n",
              "0                          1.0                  9.0  \n",
              "1                          1.0                  2.0  \n",
              "2                          1.0                 10.0  \n",
              "3                          2.0                 10.0  \n",
              "4                          3.0                  7.0  \n",
              "...                        ...                  ...  \n",
              "54606                      1.0                  7.0  \n",
              "54607                      1.0                 10.0  \n",
              "54608                      1.0                  5.0  \n",
              "54609                      1.0                  3.0  \n",
              "54610                      1.0                  2.0  \n",
              "\n",
              "[54611 rows x 9 columns]"
            ],
            "text/html": [
              "\n",
              "  <div id=\"df-731a802f-04fe-4202-9137-50b53831807c\" class=\"colab-df-container\">\n",
              "    <div>\n",
              "<style scoped>\n",
              "    .dataframe tbody tr th:only-of-type {\n",
              "        vertical-align: middle;\n",
              "    }\n",
              "\n",
              "    .dataframe tbody tr th {\n",
              "        vertical-align: top;\n",
              "    }\n",
              "\n",
              "    .dataframe thead th {\n",
              "        text-align: right;\n",
              "    }\n",
              "</style>\n",
              "<table border=\"1\" class=\"dataframe\">\n",
              "  <thead>\n",
              "    <tr style=\"text-align: right;\">\n",
              "      <th></th>\n",
              "      <th>vehicle_reference</th>\n",
              "      <th>casualty_reference</th>\n",
              "      <th>casualty_class</th>\n",
              "      <th>sex_of_casualty</th>\n",
              "      <th>age_of_casualty</th>\n",
              "      <th>casualty_severity</th>\n",
              "      <th>casualty_type</th>\n",
              "      <th>casualty_home_area_type</th>\n",
              "      <th>casualty_imd_decile</th>\n",
              "    </tr>\n",
              "  </thead>\n",
              "  <tbody>\n",
              "    <tr>\n",
              "      <th>0</th>\n",
              "      <td>2</td>\n",
              "      <td>1</td>\n",
              "      <td>1</td>\n",
              "      <td>2.0</td>\n",
              "      <td>46.0</td>\n",
              "      <td>3</td>\n",
              "      <td>9.0</td>\n",
              "      <td>1.0</td>\n",
              "      <td>9.0</td>\n",
              "    </tr>\n",
              "    <tr>\n",
              "      <th>1</th>\n",
              "      <td>1</td>\n",
              "      <td>1</td>\n",
              "      <td>1</td>\n",
              "      <td>1.0</td>\n",
              "      <td>30.0</td>\n",
              "      <td>3</td>\n",
              "      <td>9.0</td>\n",
              "      <td>1.0</td>\n",
              "      <td>2.0</td>\n",
              "    </tr>\n",
              "    <tr>\n",
              "      <th>2</th>\n",
              "      <td>1</td>\n",
              "      <td>1</td>\n",
              "      <td>1</td>\n",
              "      <td>2.0</td>\n",
              "      <td>58.0</td>\n",
              "      <td>3</td>\n",
              "      <td>9.0</td>\n",
              "      <td>1.0</td>\n",
              "      <td>10.0</td>\n",
              "    </tr>\n",
              "    <tr>\n",
              "      <th>3</th>\n",
              "      <td>2</td>\n",
              "      <td>3</td>\n",
              "      <td>1</td>\n",
              "      <td>2.0</td>\n",
              "      <td>78.0</td>\n",
              "      <td>3</td>\n",
              "      <td>9.0</td>\n",
              "      <td>2.0</td>\n",
              "      <td>10.0</td>\n",
              "    </tr>\n",
              "    <tr>\n",
              "      <th>4</th>\n",
              "      <td>3</td>\n",
              "      <td>2</td>\n",
              "      <td>1</td>\n",
              "      <td>1.0</td>\n",
              "      <td>63.0</td>\n",
              "      <td>3</td>\n",
              "      <td>9.0</td>\n",
              "      <td>3.0</td>\n",
              "      <td>7.0</td>\n",
              "    </tr>\n",
              "    <tr>\n",
              "      <th>...</th>\n",
              "      <td>...</td>\n",
              "      <td>...</td>\n",
              "      <td>...</td>\n",
              "      <td>...</td>\n",
              "      <td>...</td>\n",
              "      <td>...</td>\n",
              "      <td>...</td>\n",
              "      <td>...</td>\n",
              "      <td>...</td>\n",
              "    </tr>\n",
              "    <tr>\n",
              "      <th>54606</th>\n",
              "      <td>1</td>\n",
              "      <td>1</td>\n",
              "      <td>1</td>\n",
              "      <td>1.0</td>\n",
              "      <td>69.0</td>\n",
              "      <td>2</td>\n",
              "      <td>4.0</td>\n",
              "      <td>1.0</td>\n",
              "      <td>7.0</td>\n",
              "    </tr>\n",
              "    <tr>\n",
              "      <th>54607</th>\n",
              "      <td>1</td>\n",
              "      <td>1</td>\n",
              "      <td>3</td>\n",
              "      <td>2.0</td>\n",
              "      <td>56.0</td>\n",
              "      <td>3</td>\n",
              "      <td>0.0</td>\n",
              "      <td>1.0</td>\n",
              "      <td>10.0</td>\n",
              "    </tr>\n",
              "    <tr>\n",
              "      <th>54608</th>\n",
              "      <td>2</td>\n",
              "      <td>1</td>\n",
              "      <td>1</td>\n",
              "      <td>1.0</td>\n",
              "      <td>42.0</td>\n",
              "      <td>3</td>\n",
              "      <td>9.0</td>\n",
              "      <td>1.0</td>\n",
              "      <td>5.0</td>\n",
              "    </tr>\n",
              "    <tr>\n",
              "      <th>54609</th>\n",
              "      <td>1</td>\n",
              "      <td>1</td>\n",
              "      <td>1</td>\n",
              "      <td>2.0</td>\n",
              "      <td>40.0</td>\n",
              "      <td>3</td>\n",
              "      <td>9.0</td>\n",
              "      <td>1.0</td>\n",
              "      <td>3.0</td>\n",
              "    </tr>\n",
              "    <tr>\n",
              "      <th>54610</th>\n",
              "      <td>2</td>\n",
              "      <td>1</td>\n",
              "      <td>1</td>\n",
              "      <td>1.0</td>\n",
              "      <td>71.0</td>\n",
              "      <td>3</td>\n",
              "      <td>9.0</td>\n",
              "      <td>1.0</td>\n",
              "      <td>2.0</td>\n",
              "    </tr>\n",
              "  </tbody>\n",
              "</table>\n",
              "<p>54611 rows × 9 columns</p>\n",
              "</div>\n",
              "    <div class=\"colab-df-buttons\">\n",
              "\n",
              "  <div class=\"colab-df-container\">\n",
              "    <button class=\"colab-df-convert\" onclick=\"convertToInteractive('df-731a802f-04fe-4202-9137-50b53831807c')\"\n",
              "            title=\"Convert this dataframe to an interactive table.\"\n",
              "            style=\"display:none;\">\n",
              "\n",
              "  <svg xmlns=\"http://www.w3.org/2000/svg\" height=\"24px\" viewBox=\"0 -960 960 960\">\n",
              "    <path d=\"M120-120v-720h720v720H120Zm60-500h600v-160H180v160Zm220 220h160v-160H400v160Zm0 220h160v-160H400v160ZM180-400h160v-160H180v160Zm440 0h160v-160H620v160ZM180-180h160v-160H180v160Zm440 0h160v-160H620v160Z\"/>\n",
              "  </svg>\n",
              "    </button>\n",
              "\n",
              "  <style>\n",
              "    .colab-df-container {\n",
              "      display:flex;\n",
              "      gap: 12px;\n",
              "    }\n",
              "\n",
              "    .colab-df-convert {\n",
              "      background-color: #E8F0FE;\n",
              "      border: none;\n",
              "      border-radius: 50%;\n",
              "      cursor: pointer;\n",
              "      display: none;\n",
              "      fill: #1967D2;\n",
              "      height: 32px;\n",
              "      padding: 0 0 0 0;\n",
              "      width: 32px;\n",
              "    }\n",
              "\n",
              "    .colab-df-convert:hover {\n",
              "      background-color: #E2EBFA;\n",
              "      box-shadow: 0px 1px 2px rgba(60, 64, 67, 0.3), 0px 1px 3px 1px rgba(60, 64, 67, 0.15);\n",
              "      fill: #174EA6;\n",
              "    }\n",
              "\n",
              "    .colab-df-buttons div {\n",
              "      margin-bottom: 4px;\n",
              "    }\n",
              "\n",
              "    [theme=dark] .colab-df-convert {\n",
              "      background-color: #3B4455;\n",
              "      fill: #D2E3FC;\n",
              "    }\n",
              "\n",
              "    [theme=dark] .colab-df-convert:hover {\n",
              "      background-color: #434B5C;\n",
              "      box-shadow: 0px 1px 3px 1px rgba(0, 0, 0, 0.15);\n",
              "      filter: drop-shadow(0px 1px 2px rgba(0, 0, 0, 0.3));\n",
              "      fill: #FFFFFF;\n",
              "    }\n",
              "  </style>\n",
              "\n",
              "    <script>\n",
              "      const buttonEl =\n",
              "        document.querySelector('#df-731a802f-04fe-4202-9137-50b53831807c button.colab-df-convert');\n",
              "      buttonEl.style.display =\n",
              "        google.colab.kernel.accessAllowed ? 'block' : 'none';\n",
              "\n",
              "      async function convertToInteractive(key) {\n",
              "        const element = document.querySelector('#df-731a802f-04fe-4202-9137-50b53831807c');\n",
              "        const dataTable =\n",
              "          await google.colab.kernel.invokeFunction('convertToInteractive',\n",
              "                                                    [key], {});\n",
              "        if (!dataTable) return;\n",
              "\n",
              "        const docLinkHtml = 'Like what you see? Visit the ' +\n",
              "          '<a target=\"_blank\" href=https://colab.research.google.com/notebooks/data_table.ipynb>data table notebook</a>'\n",
              "          + ' to learn more about interactive tables.';\n",
              "        element.innerHTML = '';\n",
              "        dataTable['output_type'] = 'display_data';\n",
              "        await google.colab.output.renderOutput(dataTable, element);\n",
              "        const docLink = document.createElement('div');\n",
              "        docLink.innerHTML = docLinkHtml;\n",
              "        element.appendChild(docLink);\n",
              "      }\n",
              "    </script>\n",
              "  </div>\n",
              "\n",
              "\n",
              "<div id=\"df-36ef91e3-3f7f-40ca-8f84-5493accfd0db\">\n",
              "  <button class=\"colab-df-quickchart\" onclick=\"quickchart('df-36ef91e3-3f7f-40ca-8f84-5493accfd0db')\"\n",
              "            title=\"Suggest charts\"\n",
              "            style=\"display:none;\">\n",
              "\n",
              "<svg xmlns=\"http://www.w3.org/2000/svg\" height=\"24px\"viewBox=\"0 0 24 24\"\n",
              "     width=\"24px\">\n",
              "    <g>\n",
              "        <path d=\"M19 3H5c-1.1 0-2 .9-2 2v14c0 1.1.9 2 2 2h14c1.1 0 2-.9 2-2V5c0-1.1-.9-2-2-2zM9 17H7v-7h2v7zm4 0h-2V7h2v10zm4 0h-2v-4h2v4z\"/>\n",
              "    </g>\n",
              "</svg>\n",
              "  </button>\n",
              "\n",
              "<style>\n",
              "  .colab-df-quickchart {\n",
              "      --bg-color: #E8F0FE;\n",
              "      --fill-color: #1967D2;\n",
              "      --hover-bg-color: #E2EBFA;\n",
              "      --hover-fill-color: #174EA6;\n",
              "      --disabled-fill-color: #AAA;\n",
              "      --disabled-bg-color: #DDD;\n",
              "  }\n",
              "\n",
              "  [theme=dark] .colab-df-quickchart {\n",
              "      --bg-color: #3B4455;\n",
              "      --fill-color: #D2E3FC;\n",
              "      --hover-bg-color: #434B5C;\n",
              "      --hover-fill-color: #FFFFFF;\n",
              "      --disabled-bg-color: #3B4455;\n",
              "      --disabled-fill-color: #666;\n",
              "  }\n",
              "\n",
              "  .colab-df-quickchart {\n",
              "    background-color: var(--bg-color);\n",
              "    border: none;\n",
              "    border-radius: 50%;\n",
              "    cursor: pointer;\n",
              "    display: none;\n",
              "    fill: var(--fill-color);\n",
              "    height: 32px;\n",
              "    padding: 0;\n",
              "    width: 32px;\n",
              "  }\n",
              "\n",
              "  .colab-df-quickchart:hover {\n",
              "    background-color: var(--hover-bg-color);\n",
              "    box-shadow: 0 1px 2px rgba(60, 64, 67, 0.3), 0 1px 3px 1px rgba(60, 64, 67, 0.15);\n",
              "    fill: var(--button-hover-fill-color);\n",
              "  }\n",
              "\n",
              "  .colab-df-quickchart-complete:disabled,\n",
              "  .colab-df-quickchart-complete:disabled:hover {\n",
              "    background-color: var(--disabled-bg-color);\n",
              "    fill: var(--disabled-fill-color);\n",
              "    box-shadow: none;\n",
              "  }\n",
              "\n",
              "  .colab-df-spinner {\n",
              "    border: 2px solid var(--fill-color);\n",
              "    border-color: transparent;\n",
              "    border-bottom-color: var(--fill-color);\n",
              "    animation:\n",
              "      spin 1s steps(1) infinite;\n",
              "  }\n",
              "\n",
              "  @keyframes spin {\n",
              "    0% {\n",
              "      border-color: transparent;\n",
              "      border-bottom-color: var(--fill-color);\n",
              "      border-left-color: var(--fill-color);\n",
              "    }\n",
              "    20% {\n",
              "      border-color: transparent;\n",
              "      border-left-color: var(--fill-color);\n",
              "      border-top-color: var(--fill-color);\n",
              "    }\n",
              "    30% {\n",
              "      border-color: transparent;\n",
              "      border-left-color: var(--fill-color);\n",
              "      border-top-color: var(--fill-color);\n",
              "      border-right-color: var(--fill-color);\n",
              "    }\n",
              "    40% {\n",
              "      border-color: transparent;\n",
              "      border-right-color: var(--fill-color);\n",
              "      border-top-color: var(--fill-color);\n",
              "    }\n",
              "    60% {\n",
              "      border-color: transparent;\n",
              "      border-right-color: var(--fill-color);\n",
              "    }\n",
              "    80% {\n",
              "      border-color: transparent;\n",
              "      border-right-color: var(--fill-color);\n",
              "      border-bottom-color: var(--fill-color);\n",
              "    }\n",
              "    90% {\n",
              "      border-color: transparent;\n",
              "      border-bottom-color: var(--fill-color);\n",
              "    }\n",
              "  }\n",
              "</style>\n",
              "\n",
              "  <script>\n",
              "    async function quickchart(key) {\n",
              "      const quickchartButtonEl =\n",
              "        document.querySelector('#' + key + ' button');\n",
              "      quickchartButtonEl.disabled = true;  // To prevent multiple clicks.\n",
              "      quickchartButtonEl.classList.add('colab-df-spinner');\n",
              "      try {\n",
              "        const charts = await google.colab.kernel.invokeFunction(\n",
              "            'suggestCharts', [key], {});\n",
              "      } catch (error) {\n",
              "        console.error('Error during call to suggestCharts:', error);\n",
              "      }\n",
              "      quickchartButtonEl.classList.remove('colab-df-spinner');\n",
              "      quickchartButtonEl.classList.add('colab-df-quickchart-complete');\n",
              "    }\n",
              "    (() => {\n",
              "      let quickchartButtonEl =\n",
              "        document.querySelector('#df-36ef91e3-3f7f-40ca-8f84-5493accfd0db button');\n",
              "      quickchartButtonEl.style.display =\n",
              "        google.colab.kernel.accessAllowed ? 'block' : 'none';\n",
              "    })();\n",
              "  </script>\n",
              "</div>\n",
              "\n",
              "  <div id=\"id_afb7b127-5a6e-459a-bae4-6e66d697f3b5\">\n",
              "    <style>\n",
              "      .colab-df-generate {\n",
              "        background-color: #E8F0FE;\n",
              "        border: none;\n",
              "        border-radius: 50%;\n",
              "        cursor: pointer;\n",
              "        display: none;\n",
              "        fill: #1967D2;\n",
              "        height: 32px;\n",
              "        padding: 0 0 0 0;\n",
              "        width: 32px;\n",
              "      }\n",
              "\n",
              "      .colab-df-generate:hover {\n",
              "        background-color: #E2EBFA;\n",
              "        box-shadow: 0px 1px 2px rgba(60, 64, 67, 0.3), 0px 1px 3px 1px rgba(60, 64, 67, 0.15);\n",
              "        fill: #174EA6;\n",
              "      }\n",
              "\n",
              "      [theme=dark] .colab-df-generate {\n",
              "        background-color: #3B4455;\n",
              "        fill: #D2E3FC;\n",
              "      }\n",
              "\n",
              "      [theme=dark] .colab-df-generate:hover {\n",
              "        background-color: #434B5C;\n",
              "        box-shadow: 0px 1px 3px 1px rgba(0, 0, 0, 0.15);\n",
              "        filter: drop-shadow(0px 1px 2px rgba(0, 0, 0, 0.3));\n",
              "        fill: #FFFFFF;\n",
              "      }\n",
              "    </style>\n",
              "    <button class=\"colab-df-generate\" onclick=\"generateWithVariable('df_categorical_reindex')\"\n",
              "            title=\"Generate code using this dataframe.\"\n",
              "            style=\"display:none;\">\n",
              "\n",
              "  <svg xmlns=\"http://www.w3.org/2000/svg\" height=\"24px\"viewBox=\"0 0 24 24\"\n",
              "       width=\"24px\">\n",
              "    <path d=\"M7,19H8.4L18.45,9,17,7.55,7,17.6ZM5,21V16.75L18.45,3.32a2,2,0,0,1,2.83,0l1.4,1.43a1.91,1.91,0,0,1,.58,1.4,1.91,1.91,0,0,1-.58,1.4L9.25,21ZM18.45,9,17,7.55Zm-12,3A5.31,5.31,0,0,0,4.9,8.1,5.31,5.31,0,0,0,1,6.5,5.31,5.31,0,0,0,4.9,4.9,5.31,5.31,0,0,0,6.5,1,5.31,5.31,0,0,0,8.1,4.9,5.31,5.31,0,0,0,12,6.5,5.46,5.46,0,0,0,6.5,12Z\"/>\n",
              "  </svg>\n",
              "    </button>\n",
              "    <script>\n",
              "      (() => {\n",
              "      const buttonEl =\n",
              "        document.querySelector('#id_afb7b127-5a6e-459a-bae4-6e66d697f3b5 button.colab-df-generate');\n",
              "      buttonEl.style.display =\n",
              "        google.colab.kernel.accessAllowed ? 'block' : 'none';\n",
              "\n",
              "      buttonEl.onclick = () => {\n",
              "        google.colab.notebook.generateWithVariable('df_categorical_reindex');\n",
              "      }\n",
              "      })();\n",
              "    </script>\n",
              "  </div>\n",
              "\n",
              "    </div>\n",
              "  </div>\n"
            ],
            "application/vnd.google.colaboratory.intrinsic+json": {
              "type": "dataframe",
              "variable_name": "df_categorical_reindex",
              "summary": "{\n  \"name\": \"df_categorical_reindex\",\n  \"rows\": 54611,\n  \"fields\": [\n    {\n      \"column\": \"vehicle_reference\",\n      \"properties\": {\n        \"dtype\": \"number\",\n        \"std\": 0,\n        \"min\": 1,\n        \"max\": 9,\n        \"num_unique_values\": 9,\n        \"samples\": [\n          9,\n          1,\n          8\n        ],\n        \"semantic_type\": \"\",\n        \"description\": \"\"\n      }\n    },\n    {\n      \"column\": \"casualty_reference\",\n      \"properties\": {\n        \"dtype\": \"number\",\n        \"std\": 0,\n        \"min\": 1,\n        \"max\": 22,\n        \"num_unique_values\": 17,\n        \"samples\": [\n          1,\n          3,\n          6\n        ],\n        \"semantic_type\": \"\",\n        \"description\": \"\"\n      }\n    },\n    {\n      \"column\": \"casualty_class\",\n      \"properties\": {\n        \"dtype\": \"number\",\n        \"std\": 0,\n        \"min\": 1,\n        \"max\": 3,\n        \"num_unique_values\": 3,\n        \"samples\": [\n          1,\n          3,\n          2\n        ],\n        \"semantic_type\": \"\",\n        \"description\": \"\"\n      }\n    },\n    {\n      \"column\": \"sex_of_casualty\",\n      \"properties\": {\n        \"dtype\": \"number\",\n        \"std\": 0.4865511023139743,\n        \"min\": 1.0,\n        \"max\": 2.0,\n        \"num_unique_values\": 2,\n        \"samples\": [\n          1.0,\n          2.0\n        ],\n        \"semantic_type\": \"\",\n        \"description\": \"\"\n      }\n    },\n    {\n      \"column\": \"age_of_casualty\",\n      \"properties\": {\n        \"dtype\": \"number\",\n        \"std\": 18.947429826595624,\n        \"min\": 0.0,\n        \"max\": 101.0,\n        \"num_unique_values\": 101,\n        \"samples\": [\n          4.0,\n          67.0\n        ],\n        \"semantic_type\": \"\",\n        \"description\": \"\"\n      }\n    },\n    {\n      \"column\": \"casualty_severity\",\n      \"properties\": {\n        \"dtype\": \"number\",\n        \"std\": 0,\n        \"min\": 1,\n        \"max\": 3,\n        \"num_unique_values\": 3,\n        \"samples\": [\n          3,\n          2\n        ],\n        \"semantic_type\": \"\",\n        \"description\": \"\"\n      }\n    },\n    {\n      \"column\": \"casualty_type\",\n      \"properties\": {\n        \"dtype\": \"number\",\n        \"std\": 16.668239724858495,\n        \"min\": 0.0,\n        \"max\": 98.0,\n        \"num_unique_values\": 21,\n        \"samples\": [\n          9.0,\n          10.0\n        ],\n        \"semantic_type\": \"\",\n        \"description\": \"\"\n      }\n    },\n    {\n      \"column\": \"casualty_home_area_type\",\n      \"properties\": {\n        \"dtype\": \"number\",\n        \"std\": 0.6517276959619674,\n        \"min\": 1.0,\n        \"max\": 3.0,\n        \"num_unique_values\": 3,\n        \"samples\": [\n          1.0,\n          2.0\n        ],\n        \"semantic_type\": \"\",\n        \"description\": \"\"\n      }\n    },\n    {\n      \"column\": \"casualty_imd_decile\",\n      \"properties\": {\n        \"dtype\": \"number\",\n        \"std\": 2.784940310178079,\n        \"min\": 1.0,\n        \"max\": 10.0,\n        \"num_unique_values\": 10,\n        \"samples\": [\n          1.0,\n          2.0\n        ],\n        \"semantic_type\": \"\",\n        \"description\": \"\"\n      }\n    }\n  ]\n}"
            }
          },
          "metadata": {},
          "execution_count": 14
        }
      ]
    },
    {
      "cell_type": "markdown",
      "source": [
        "## Deal with categorical columns"
      ],
      "metadata": {
        "id": "dld8Kw_NCpNv"
      }
    },
    {
      "cell_type": "code",
      "source": [
        "# name different categories to ba able to analyze better\n",
        "\n",
        "df_categorical_with_names = df_categorical_reindex.copy()"
      ],
      "metadata": {
        "id": "5BiCfo1BjEXw"
      },
      "execution_count": 15,
      "outputs": []
    },
    {
      "cell_type": "code",
      "source": [
        "col = 'casualty_imd_decile'\n",
        "df_categorical_with_names[col][(df_categorical_with_names[col]==2) |\n",
        "                               (df_categorical_with_names[col]==3) |\n",
        "                               (df_categorical_with_names[col]==1)] = 'more_deprived'\n",
        "df_categorical_with_names[col][(df_categorical_with_names[col]==4) |\n",
        "                               (df_categorical_with_names[col]==5) |\n",
        "                               (df_categorical_with_names[col]==6) |\n",
        "                               (df_categorical_with_names[col]==7)] = 'middle_deprived'\n",
        "df_categorical_with_names[col][(df_categorical_with_names[col]==8) |\n",
        "                               (df_categorical_with_names[col]==9) |\n",
        "                               (df_categorical_with_names[col]==10)] = 'less_deprived'\n",
        "df_categorical_with_names['casualty_imd_decile'].value_counts()"
      ],
      "metadata": {
        "colab": {
          "base_uri": "https://localhost:8080/"
        },
        "id": "w2PxXgA9C8f0",
        "outputId": "144298b0-ed70-4088-c1b5-2ea4fec305a6"
      },
      "execution_count": 16,
      "outputs": [
        {
          "output_type": "execute_result",
          "data": {
            "text/plain": [
              "middle_deprived    21951\n",
              "more_deprived      20563\n",
              "less_deprived      12097\n",
              "Name: casualty_imd_decile, dtype: int64"
            ]
          },
          "metadata": {},
          "execution_count": 16
        }
      ]
    },
    {
      "cell_type": "code",
      "source": [
        "col = 'casualty_home_area_type'\n",
        "df_categorical_with_names[col][df_categorical_with_names[col]==1] = 'Urban_area'\n",
        "df_categorical_with_names[col][(df_categorical_with_names[col]==2) |\n",
        "                               (df_categorical_with_names[col]==3)] = 'Rural or town'\n",
        "df_categorical_with_names[col].value_counts()"
      ],
      "metadata": {
        "colab": {
          "base_uri": "https://localhost:8080/"
        },
        "id": "4gghGu96F48a",
        "outputId": "be33bc7a-b8c8-41ae-ba23-5e167f003698"
      },
      "execution_count": 17,
      "outputs": [
        {
          "output_type": "execute_result",
          "data": {
            "text/plain": [
              "Urban_area       44231\n",
              "Rural or town    10380\n",
              "Name: casualty_home_area_type, dtype: int64"
            ]
          },
          "metadata": {},
          "execution_count": 17
        }
      ]
    },
    {
      "cell_type": "code",
      "source": [
        "col = 'casualty_type'\n",
        "df_categorical_with_names[col][df_categorical_with_names[col]==0] = 'Pedestrian'\n",
        "df_categorical_with_names[col][df_categorical_with_names[col]==1] = 'Cyclist'\n",
        "df_categorical_with_names[col][(df_categorical_with_names[col]==2) |\n",
        "                               (df_categorical_with_names[col]==3) |\n",
        "                               (df_categorical_with_names[col]==4) |\n",
        "                               (df_categorical_with_names[col]==5) |\n",
        "                               (df_categorical_with_names[col]==23) |\n",
        "                               (df_categorical_with_names[col]==97)] = 'Motorcycle'\n",
        "df_categorical_with_names[col][(df_categorical_with_names[col]==8) |\n",
        "                               (df_categorical_with_names[col]==9)] = 'Car'\n",
        "# df_categorical_with_names[col][df_categorical_with_names[col]==10] = 'Minibus'\n",
        "df_categorical_with_names[col][(df_categorical_with_names[col]==10) |\n",
        "                               (df_categorical_with_names[col]==11)] = 'Bus or Minibus'\n",
        "df_categorical_with_names[col][df_categorical_with_names[col]==16] = 'Horse_rider'\n",
        "df_categorical_with_names[col][df_categorical_with_names[col]==17] = 'Agricultural_vehicle'\n",
        "df_categorical_with_names[col][df_categorical_with_names[col]==18] = 'Tram_occupant'\n",
        "df_categorical_with_names[col][(df_categorical_with_names[col]==19) |\n",
        "                               (df_categorical_with_names[col]==20) |\n",
        "                               (df_categorical_with_names[col]==21) |\n",
        "                               (df_categorical_with_names[col]==98)] = 'Van'\n",
        "df_categorical_with_names[col][df_categorical_with_names[col]==90] = 'Other_vehicle_occupant'\n",
        "df_categorical_with_names[col][df_categorical_with_names[col]==22] = 'Scooter'\n",
        "\n",
        "df_categorical_with_names[col].value_counts()"
      ],
      "metadata": {
        "colab": {
          "base_uri": "https://localhost:8080/"
        },
        "id": "dE1w2vIrHhn7",
        "outputId": "4efa2feb-94e2-4cf4-d350-8f3af1521e04"
      },
      "execution_count": 18,
      "outputs": [
        {
          "output_type": "execute_result",
          "data": {
            "text/plain": [
              "Car                       29785\n",
              "Pedestrian                 7781\n",
              "Motorcycle                 7015\n",
              "Cyclist                    6374\n",
              "Van                        1909\n",
              "Bus or Minibus              864\n",
              "Other_vehicle_occupant      723\n",
              "Scooter                     103\n",
              "Horse_rider                  28\n",
              "Agricultural_vehicle         27\n",
              "Tram_occupant                 2\n",
              "Name: casualty_type, dtype: int64"
            ]
          },
          "metadata": {},
          "execution_count": 18
        }
      ]
    },
    {
      "cell_type": "code",
      "source": [
        "df_categorical_with_names.drop(df_categorical_with_names[(df_categorical_with_names['casualty_type']=='Horse_rider') |\n",
        "                                                         (df_categorical_with_names['casualty_type']=='Agricultural_vehicle') |\n",
        "                                                         (df_categorical_with_names['casualty_type']=='Tram_occupant') |\n",
        "                                                         (df_categorical_with_names['casualty_type']=='Scooter')].index,\n",
        "                               inplace=True)\n",
        "df_categorical_with_names['casualty_type'].value_counts()"
      ],
      "metadata": {
        "colab": {
          "base_uri": "https://localhost:8080/"
        },
        "id": "c5a1nVwS0Woc",
        "outputId": "eee66536-b783-4d73-bc5d-11ee23267f29"
      },
      "execution_count": 19,
      "outputs": [
        {
          "output_type": "execute_result",
          "data": {
            "text/plain": [
              "Car                       29785\n",
              "Pedestrian                 7781\n",
              "Motorcycle                 7015\n",
              "Cyclist                    6374\n",
              "Van                        1909\n",
              "Bus or Minibus              864\n",
              "Other_vehicle_occupant      723\n",
              "Name: casualty_type, dtype: int64"
            ]
          },
          "metadata": {},
          "execution_count": 19
        }
      ]
    },
    {
      "cell_type": "code",
      "source": [
        "col = 'casualty_severity'\n",
        "df_categorical_with_names[col][df_categorical_with_names[col]==1] = 'Fatal'\n",
        "df_categorical_with_names[col][df_categorical_with_names[col]==2] = 'Serious'\n",
        "df_categorical_with_names[col][df_categorical_with_names[col]==3] = 'Slight'\n",
        "df_categorical_with_names[col].value_counts()"
      ],
      "metadata": {
        "colab": {
          "base_uri": "https://localhost:8080/"
        },
        "id": "8u2XIph5YWCu",
        "outputId": "bb459916-57f4-47f4-e9ea-1586549b8381"
      },
      "execution_count": 20,
      "outputs": [
        {
          "output_type": "execute_result",
          "data": {
            "text/plain": [
              "Slight     43291\n",
              "Serious    10509\n",
              "Fatal        651\n",
              "Name: casualty_severity, dtype: int64"
            ]
          },
          "metadata": {},
          "execution_count": 20
        }
      ]
    },
    {
      "cell_type": "code",
      "source": [
        "col = 'sex_of_casualty'\n",
        "df_categorical_with_names[col][df_categorical_with_names[col]==1] = 'Male'\n",
        "df_categorical_with_names[col][df_categorical_with_names[col]==2] = 'Female'\n",
        "df_categorical_with_names[col].value_counts()"
      ],
      "metadata": {
        "colab": {
          "base_uri": "https://localhost:8080/"
        },
        "id": "zhu1ooPpZ_Wh",
        "outputId": "f0a958f5-bbda-42ea-db08-6bb71fb80fab"
      },
      "execution_count": 21,
      "outputs": [
        {
          "output_type": "execute_result",
          "data": {
            "text/plain": [
              "Male      33500\n",
              "Female    20951\n",
              "Name: sex_of_casualty, dtype: int64"
            ]
          },
          "metadata": {},
          "execution_count": 21
        }
      ]
    },
    {
      "cell_type": "code",
      "source": [
        "col = 'casualty_class'\n",
        "df_categorical_with_names[col][df_categorical_with_names[col]==1] = 'Driver or rider'\n",
        "df_categorical_with_names[col][df_categorical_with_names[col]==2] = 'Passenger'\n",
        "df_categorical_with_names[col][df_categorical_with_names[col]==3] = 'Pedestrian'\n",
        "df_categorical_with_names[col].value_counts()"
      ],
      "metadata": {
        "colab": {
          "base_uri": "https://localhost:8080/"
        },
        "id": "Iky7keILadmR",
        "outputId": "4be3046c-fea0-4d96-ad71-99c88c73be0d"
      },
      "execution_count": 22,
      "outputs": [
        {
          "output_type": "execute_result",
          "data": {
            "text/plain": [
              "Driver or rider    37147\n",
              "Passenger           9523\n",
              "Pedestrian          7781\n",
              "Name: casualty_class, dtype: int64"
            ]
          },
          "metadata": {},
          "execution_count": 22
        }
      ]
    },
    {
      "cell_type": "code",
      "source": [
        "len(df_categorical_with_names)"
      ],
      "metadata": {
        "colab": {
          "base_uri": "https://localhost:8080/"
        },
        "id": "oScpbjoXh4MD",
        "outputId": "5346214c-0d6d-44b4-be85-fa42a53d7787"
      },
      "execution_count": 23,
      "outputs": [
        {
          "output_type": "execute_result",
          "data": {
            "text/plain": [
              "54451"
            ]
          },
          "metadata": {},
          "execution_count": 23
        }
      ]
    },
    {
      "cell_type": "code",
      "source": [
        "df_categorical_handled = df_categorical_with_names.copy()"
      ],
      "metadata": {
        "id": "QcBYT7clpWb3"
      },
      "execution_count": 24,
      "outputs": []
    },
    {
      "cell_type": "markdown",
      "metadata": {
        "id": "q8_S4OIqSsxi"
      },
      "source": [
        "# **EDA**"
      ]
    },
    {
      "cell_type": "markdown",
      "source": [
        "**It seems that we can consider casualty_severity as the target column for any supervised algorithm**"
      ],
      "metadata": {
        "id": "wH3-p-Xyrnks"
      }
    },
    {
      "cell_type": "code",
      "source": [
        "df_categorical_handled.duplicated().any()"
      ],
      "metadata": {
        "colab": {
          "base_uri": "https://localhost:8080/"
        },
        "id": "KUlu2JMwrRC2",
        "outputId": "659467a0-ab31-4641-d6ea-5b8fce1c8694"
      },
      "execution_count": 25,
      "outputs": [
        {
          "output_type": "execute_result",
          "data": {
            "text/plain": [
              "True"
            ]
          },
          "metadata": {},
          "execution_count": 25
        }
      ]
    },
    {
      "cell_type": "markdown",
      "source": [
        "### Plot's functions"
      ],
      "metadata": {
        "id": "26C-kY8bs5c8"
      }
    },
    {
      "cell_type": "code",
      "source": [
        "def plot_numerical_histogram(df: pd.DataFrame,\n",
        "                             col: str,\n",
        "                             x_label: str,\n",
        "                             title: str,\n",
        "                             ):\n",
        "  plt.rcParams[\"font.size\"] = 14\n",
        "  fig, (ax_hist, ax_box) = plt.subplots(\n",
        "      2, sharex=True, gridspec_kw={\"height_ratios\": (0.85, 0.15)}, figsize=(16, 8)\n",
        "  )\n",
        "  # boxplot (seaborn)\n",
        "  sns.boxplot(x=df[col], color=\"gray\", ax=ax_box)\n",
        "  ax_box.set(xlabel=\"\")\n",
        "  # histogram (matplotlib)\n",
        "  ax_hist.hist(df[col], bins=40, density=True, color=\"gray\")\n",
        "  # kde plot (pandas series)\n",
        "  min_, max_ = plt.xlim()\n",
        "  plt.xlim(min_, max_)\n",
        "\n",
        "  ax_hist.set_title(\n",
        "      title,\n",
        "      weight=\"bold\",\n",
        "      color=\"gray\",\n",
        "      fontsize=18,\n",
        "      loc=\"left\",\n",
        "  )\n",
        "\n",
        "  ax_hist.set_xlabel(x_label, loc=\"left\", weight=\"bold\", fontsize=14, color=\"gray\")\n",
        "\n",
        "  ax_hist.set_ylabel(\n",
        "      \"Density\",\n",
        "      loc=\"bottom\",\n",
        "      weight=\"bold\",\n",
        "      fontsize=14,\n",
        "      color=\"gray\",\n",
        "  )\n",
        "\n",
        "  ax_box.spines[[\"right\", \"top\", \"left\", \"bottom\"]].set_visible(False)\n",
        "\n",
        "  ax_hist.spines[[\"right\", \"top\"]].set_visible(False)\n",
        "  ax_hist.ticklabel_format(axis=\"x\", style=\"plain\")\n",
        "  ax_hist.tick_params(axis=\"x\", colors=\"gray\", labelsize=\"large\")\n",
        "  ax_hist.tick_params(axis=\"y\", colors=\"gray\", labelsize=\"large\")\n",
        "\n",
        "  df[col].plot.kde(color=\"lightcoral\", linewidth=3, ax=ax_hist)\n",
        "\n",
        "  plt.tight_layout()\n",
        "  plt.show()"
      ],
      "metadata": {
        "id": "2mj7dowds90B"
      },
      "execution_count": 26,
      "outputs": []
    },
    {
      "cell_type": "code",
      "source": [
        "def plot_grouped_barplot(df: pd.DataFrame,\n",
        "                         cols: list[str]=None,\n",
        "                         x_label: str=None,\n",
        "                         title: str='',\n",
        "                         width=0.8,\n",
        "                         annotate=\"values\",\n",
        "                         ax=None,\n",
        "                         figsize=None,\n",
        "                         rotation_angle: int=None,\n",
        "                         **kw):\n",
        "    # data preparation\n",
        "    counts_df = df.groupby(cols).size().unstack().copy()\n",
        "    # convert counts to percentages\n",
        "    for i in counts_df.index:\n",
        "      for col in counts_df.columns:\n",
        "        counts_df.loc[i] = np.round(100*(counts_df.loc[i]/counts_df.loc[i, :].sum()), 1)\n",
        "    # plot\n",
        "    if figsize:\n",
        "      plt.figure(figsize=figsize)\n",
        "    ax = ax or plt.gca()\n",
        "    n = len(counts_df.columns)\n",
        "    w = 1./n\n",
        "    pos = (np.linspace(w/2., 1-w/2., n)-0.5)*width\n",
        "    w *= width\n",
        "    bars = []\n",
        "    for col, x in zip(counts_df.columns, pos):\n",
        "        bars.append(ax.bar(np.arange(len(counts_df))+x, counts_df[col].values, width=w, label=col, **kw))\n",
        "        for val, xi in zip(counts_df[col].values, np.arange(len(counts_df))+x):\n",
        "            if annotate:\n",
        "                txt = str(val)+'%' if annotate == \"values\" else col\n",
        "                ax.annotate(txt, xy=(xi, val), xytext=(0,2),\n",
        "                            textcoords=\"offset points\",\n",
        "                            ha=\"center\", va=\"bottom\", color='gray')\n",
        "    ax.set_xticks(np.arange(len(counts_df)))\n",
        "    ax.set_xticklabels(counts_df.index)\n",
        "    ax.set_title(\n",
        "        title,\n",
        "        pad=30,\n",
        "        weight=\"bold\",\n",
        "        color=\"gray\",\n",
        "        fontsize=12,\n",
        "        loc=\"left\",\n",
        "    )\n",
        "\n",
        "    ax.set_xlabel(x_label, loc=\"left\", weight=\"bold\", fontsize=12, color='#585858')\n",
        "\n",
        "    ax.spines[[\"right\", \"top\"]].set_visible(False)\n",
        "\n",
        "    ax.tick_params(axis=\"x\", colors=\"gray\", labelsize=\"medium\")\n",
        "    ax.tick_params(left=False)\n",
        "\n",
        "    if rotation_angle:\n",
        "      plt.xticks(rotation=rotation_angle)\n",
        "    plt.rc('axes',edgecolor='gray')\n",
        "\n",
        "    plt.tight_layout()\n",
        "    ax.legend()\n",
        "    sns.move_legend(ax, \"upper left\", bbox_to_anchor=(1, 1))\n",
        "    plt.show()\n",
        "    return bars"
      ],
      "metadata": {
        "id": "FZwfy1ldMR0z"
      },
      "execution_count": 27,
      "outputs": []
    },
    {
      "cell_type": "markdown",
      "source": [
        "### Numerical columns"
      ],
      "metadata": {
        "id": "SwhvCpKEsE4B"
      }
    },
    {
      "cell_type": "code",
      "source": [
        "plot_numerical_histogram(df=df_categorical_handled,\n",
        "                         col=\"age_of_casualty\",\n",
        "                         x_label=\"Age\",\n",
        "                         title=\"Age of casualty histogram\",\n",
        "                         )"
      ],
      "metadata": {
        "colab": {
          "base_uri": "https://localhost:8080/",
          "height": 685
        },
        "id": "0vBJREqq0Wyy",
        "outputId": "e3511b28-97d5-469a-bd6e-451a88f3384c"
      },
      "execution_count": 28,
      "outputs": [
        {
          "output_type": "display_data",
          "data": {
            "text/plain": [
              "<Figure size 1600x800 with 2 Axes>"
            ],
            "image/png": "[encoded data removed]"
          },
          "metadata": {}
        }
      ]
    },
    {
      "cell_type": "markdown",
      "source": [
        "So there are some outliers in the right side of the age histogram and we have to remove them."
      ],
      "metadata": {
        "id": "xCmf5ZgvAGz9"
      }
    },
    {
      "cell_type": "code",
      "source": [
        "def remove_outliers(input_df, col, perc):\n",
        "  df = input_df.copy()\n",
        "  q = df[col].quantile(perc)\n",
        "  if perc > .5:\n",
        "    df = df[df[col] < q]\n",
        "  else:\n",
        "    df = df[df[col] > q]\n",
        "  return df"
      ],
      "metadata": {
        "id": "lumvt_k1_G2r"
      },
      "execution_count": 29,
      "outputs": []
    },
    {
      "cell_type": "code",
      "source": [
        "df_categorical_handled_outliers_removed = remove_outliers(df_categorical_handled, 'age_of_casualty', .99)"
      ],
      "metadata": {
        "id": "MrzgMrt3_Mtt"
      },
      "execution_count": 30,
      "outputs": []
    },
    {
      "cell_type": "code",
      "source": [
        "plot_numerical_histogram(df=df_categorical_handled_outliers_removed,\n",
        "                         col=\"age_of_casualty\",\n",
        "                         x_label=\"Age\",\n",
        "                         title=\"Age of casualty histogram\",\n",
        "                         )"
      ],
      "metadata": {
        "id": "IfCI5-Pr_uGb",
        "outputId": "e9dbd6cb-4e6f-467b-8bc2-2e2830e46ad2",
        "colab": {
          "base_uri": "https://localhost:8080/",
          "height": 685
        }
      },
      "execution_count": 31,
      "outputs": [
        {
          "output_type": "display_data",
          "data": {
            "text/plain": [
              "<Figure size 1600x800 with 2 Axes>"
            ],
            "image/png": "[encoded data removed]"
          },
          "metadata": {}
        }
      ]
    },
    {
      "cell_type": "code",
      "source": [
        "len(df_categorical_handled_outliers_removed)"
      ],
      "metadata": {
        "id": "DiajioyS_3-6",
        "outputId": "a0b00a21-e352-40d7-95a6-fdcf054a0b54",
        "colab": {
          "base_uri": "https://localhost:8080/"
        }
      },
      "execution_count": 32,
      "outputs": [
        {
          "output_type": "execute_result",
          "data": {
            "text/plain": [
              "53819"
            ]
          },
          "metadata": {},
          "execution_count": 32
        }
      ]
    },
    {
      "cell_type": "markdown",
      "source": [
        "### Categorical columns"
      ],
      "metadata": {
        "id": "XKptqkt-DTrj"
      }
    },
    {
      "cell_type": "code",
      "source": [
        "df_categorical_handled.info()"
      ],
      "metadata": {
        "colab": {
          "base_uri": "https://localhost:8080/"
        },
        "id": "BnOjikoCBX4A",
        "outputId": "777f8c74-bb47-4808-d94c-cb08fd2a613f"
      },
      "execution_count": 33,
      "outputs": [
        {
          "output_type": "stream",
          "name": "stdout",
          "text": [
            "<class 'pandas.core.frame.DataFrame'>\n",
            "Int64Index: 54451 entries, 0 to 54610\n",
            "Data columns (total 9 columns):\n",
            " #   Column                   Non-Null Count  Dtype  \n",
            "---  ------                   --------------  -----  \n",
            " 0   vehicle_reference        54451 non-null  int64  \n",
            " 1   casualty_reference       54451 non-null  int64  \n",
            " 2   casualty_class           54451 non-null  object \n",
            " 3   sex_of_casualty          54451 non-null  object \n",
            " 4   age_of_casualty          54451 non-null  float64\n",
            " 5   casualty_severity        54451 non-null  object \n",
            " 6   casualty_type            54451 non-null  object \n",
            " 7   casualty_home_area_type  54451 non-null  object \n",
            " 8   casualty_imd_decile      54451 non-null  object \n",
            "dtypes: float64(1), int64(2), object(6)\n",
            "memory usage: 4.2+ MB\n"
          ]
        }
      ]
    },
    {
      "cell_type": "code",
      "source": [
        "sns.set_palette(\"mako\")"
      ],
      "metadata": {
        "id": "U0MJuqJyJhyS"
      },
      "execution_count": 34,
      "outputs": []
    },
    {
      "cell_type": "code",
      "source": [
        "plot_grouped_barplot(df=df_categorical_handled_outliers_removed,\n",
        "                     cols=['casualty_class', 'casualty_severity'],\n",
        "                     x_label='Casualty class',\n",
        "                     title='Casualty severity in each class',\n",
        "                     width=0.8,\n",
        "                     annotate=\"values\")"
      ],
      "metadata": {
        "colab": {
          "base_uri": "https://localhost:8080/",
          "height": 526
        },
        "id": "hdP6GnX1o1Dg",
        "outputId": "74c7a491-8a95-402d-bdba-e11ea13262f6"
      },
      "execution_count": 35,
      "outputs": [
        {
          "output_type": "display_data",
          "data": {
            "text/plain": [
              "<Figure size 640x480 with 1 Axes>"
            ],
            "image/png": "[encoded data removed]"
          },
          "metadata": {}
        },
        {
          "output_type": "execute_result",
          "data": {
            "text/plain": [
              "[<BarContainer object of 3 artists>,\n",
              " <BarContainer object of 3 artists>,\n",
              " <BarContainer object of 3 artists>]"
            ]
          },
          "metadata": {},
          "execution_count": 35
        }
      ]
    },
    {
      "cell_type": "code",
      "source": [
        "plot_grouped_barplot(df=df_categorical_handled_outliers_removed,\n",
        "                     cols=['sex_of_casualty', 'casualty_severity'],\n",
        "                     x_label='Sex',\n",
        "                     title='Casualty severity for each sex',\n",
        "                     width=0.8,\n",
        "                     annotate=\"values\")"
      ],
      "metadata": {
        "colab": {
          "base_uri": "https://localhost:8080/",
          "height": 526
        },
        "id": "-47vOkZnqew9",
        "outputId": "6e5b63cb-0b33-4af9-b8c3-4c2e97e8183c"
      },
      "execution_count": 36,
      "outputs": [
        {
          "output_type": "display_data",
          "data": {
            "text/plain": [
              "<Figure size 640x480 with 1 Axes>"
            ],
            "image/png": "[encoded data removed]"
          },
          "metadata": {}
        },
        {
          "output_type": "execute_result",
          "data": {
            "text/plain": [
              "[<BarContainer object of 2 artists>,\n",
              " <BarContainer object of 2 artists>,\n",
              " <BarContainer object of 2 artists>]"
            ]
          },
          "metadata": {},
          "execution_count": 36
        }
      ]
    },
    {
      "cell_type": "code",
      "source": [
        "plot_grouped_barplot(df=df_categorical_handled_outliers_removed,\n",
        "                     cols=['casualty_type', 'casualty_severity'],\n",
        "                     x_label='Casualty type',\n",
        "                     title='Casualty severity for each type of casualty type',\n",
        "                     width=0.8,\n",
        "                     annotate=\"values\",\n",
        "                     figsize=(15, 8))"
      ],
      "metadata": {
        "colab": {
          "base_uri": "https://localhost:8080/",
          "height": 716
        },
        "id": "grIlIJ4fv6Pu",
        "outputId": "0dfa7298-07b3-4033-a503-27542f08e752"
      },
      "execution_count": 37,
      "outputs": [
        {
          "output_type": "display_data",
          "data": {
            "text/plain": [
              "<Figure size 1500x800 with 1 Axes>"
            ],
            "image/png": "[encoded data removed]"
          },
          "metadata": {}
        },
        {
          "output_type": "execute_result",
          "data": {
            "text/plain": [
              "[<BarContainer object of 7 artists>,\n",
              " <BarContainer object of 7 artists>,\n",
              " <BarContainer object of 7 artists>]"
            ]
          },
          "metadata": {},
          "execution_count": 37
        }
      ]
    },
    {
      "cell_type": "code",
      "source": [
        "plot_grouped_barplot(df=df_categorical_handled_outliers_removed,\n",
        "                     cols=['casualty_home_area_type', 'casualty_severity'],\n",
        "                     x_label='Home-area type',\n",
        "                     title='Casualty severity for each home area type',\n",
        "                     width=0.8,\n",
        "                     annotate=\"values\")"
      ],
      "metadata": {
        "colab": {
          "base_uri": "https://localhost:8080/",
          "height": 527
        },
        "id": "nybfBJXL2Zln",
        "outputId": "9eb334de-7aa4-402f-cd75-a2e92b42b194"
      },
      "execution_count": 38,
      "outputs": [
        {
          "output_type": "display_data",
          "data": {
            "text/plain": [
              "<Figure size 640x480 with 1 Axes>"
            ],
            "image/png": "[encoded data removed]"
          },
          "metadata": {}
        },
        {
          "output_type": "execute_result",
          "data": {
            "text/plain": [
              "[<BarContainer object of 2 artists>,\n",
              " <BarContainer object of 2 artists>,\n",
              " <BarContainer object of 2 artists>]"
            ]
          },
          "metadata": {},
          "execution_count": 38
        }
      ]
    },
    {
      "cell_type": "code",
      "source": [
        "plot_grouped_barplot(df=df_categorical_handled_outliers_removed,\n",
        "                     cols=['casualty_imd_decile', 'casualty_severity'],\n",
        "                     x_label='Casualty imd decile',\n",
        "                     title='Casualty severity for each imd decile',\n",
        "                     width=0.8,\n",
        "                     annotate=\"values\")\n"
      ],
      "metadata": {
        "colab": {
          "base_uri": "https://localhost:8080/",
          "height": 527
        },
        "id": "W6rd-Iuc2WTS",
        "outputId": "525a7015-f406-4df1-a77a-c56caea74a8e"
      },
      "execution_count": 39,
      "outputs": [
        {
          "output_type": "display_data",
          "data": {
            "text/plain": [
              "<Figure size 640x480 with 1 Axes>"
            ],
            "image/png": "[encoded data removed]"
          },
          "metadata": {}
        },
        {
          "output_type": "execute_result",
          "data": {
            "text/plain": [
              "[<BarContainer object of 3 artists>,\n",
              " <BarContainer object of 3 artists>,\n",
              " <BarContainer object of 3 artists>]"
            ]
          },
          "metadata": {},
          "execution_count": 39
        }
      ]
    }
  ]
}